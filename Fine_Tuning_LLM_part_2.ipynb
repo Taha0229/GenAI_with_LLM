{
  "cells": [
    {
      "cell_type": "markdown",
      "metadata": {
        "id": "view-in-github",
        "colab_type": "text"
      },
      "source": [
        "<a href=\"https://colab.research.google.com/github/Taha0229/GenAI_with_LLM/blob/main/Fine_Tuning_LLM_part_2.ipynb\" target=\"_parent\"><img src=\"https://colab.research.google.com/assets/colab-badge.svg\" alt=\"Open In Colab\"/></a>"
      ]
    },
    {
      "cell_type": "markdown",
      "metadata": {
        "tags": [],
        "id": "i0MioKizPAtg"
      },
      "source": [
        "# Fine-Tune a Generative AI Model for Dialogue Summarization"
      ]
    },
    {
      "cell_type": "markdown",
      "metadata": {
        "id": "dfq_RrLJPAtj"
      },
      "source": [
        "In this notebook I have tried improving the performance of the Flan-T5 LLM in our specific use case which is conversation summarization. The objective is to-\n",
        "1. Perform full instruction fine tuning,\n",
        "2. Apply PEFT (Paramete Efficient Fine Tuning) techniques:\n",
        "i.    LoRA\n",
        "ii. Soft prompts\n",
        "3. Evaluate the model's performance\n",
        "\n",
        "Full fine tuning takes a lot of compute but provides best results, however with a larger model and a decent dataset we can still achieve comparable results with PEFT techniques. More on each techniques in the respective section.\n",
        "\n",
        "**Note:**\n",
        "As fine-tunning an LLM takes a lot of compute, I have opted to train a comparatively smaller LLM (Flan-T5; 248M parameters). However, the process for training any larger LLM remains the same.\n",
        "\n",
        "\n",
        "\n"
      ]
    },
    {
      "cell_type": "markdown",
      "metadata": {
        "id": "04Uyb6BTPAtm"
      },
      "source": [
        "## 1 - Set up Kernel, Load Required Dependencies, Dataset and LLM"
      ]
    },
    {
      "cell_type": "markdown",
      "metadata": {
        "id": "Xw69LcfQPAtn"
      },
      "source": [
        "### 1.1 - Set up Kernel and Required Dependencies"
      ]
    },
    {
      "cell_type": "code",
      "execution_count": null,
      "metadata": {
        "tags": [],
        "colab": {
          "base_uri": "https://localhost:8080/"
        },
        "id": "JxvwjuQBPAtq",
        "outputId": "41735845-60db-4202-f976-5cd2cd1ef241"
      },
      "outputs": [
        {
          "output_type": "stream",
          "name": "stdout",
          "text": [
            "Collecting datasets==2.17.0\n",
            "  Downloading datasets-2.17.0-py3-none-any.whl (536 kB)\n",
            "\u001b[2K     \u001b[90m━━━━━━━━━━━━━━━━━━━━━━━━━━━━━━━━━━━━━━━━\u001b[0m \u001b[32m536.6/536.6 kB\u001b[0m \u001b[31m6.0 MB/s\u001b[0m eta \u001b[36m0:00:00\u001b[0m\n",
            "\u001b[?25hRequirement already satisfied: filelock in /usr/local/lib/python3.10/dist-packages (from datasets==2.17.0) (3.14.0)\n",
            "Requirement already satisfied: numpy>=1.17 in /usr/local/lib/python3.10/dist-packages (from datasets==2.17.0) (1.25.2)\n",
            "Requirement already satisfied: pyarrow>=12.0.0 in /usr/local/lib/python3.10/dist-packages (from datasets==2.17.0) (14.0.2)\n",
            "Requirement already satisfied: pyarrow-hotfix in /usr/local/lib/python3.10/dist-packages (from datasets==2.17.0) (0.6)\n",
            "Collecting dill<0.3.9,>=0.3.0 (from datasets==2.17.0)\n",
            "  Downloading dill-0.3.8-py3-none-any.whl (116 kB)\n",
            "\u001b[2K     \u001b[90m━━━━━━━━━━━━━━━━━━━━━━━━━━━━━━━━━━━━━━━━\u001b[0m \u001b[32m116.3/116.3 kB\u001b[0m \u001b[31m4.2 MB/s\u001b[0m eta \u001b[36m0:00:00\u001b[0m\n",
            "\u001b[?25hRequirement already satisfied: pandas in /usr/local/lib/python3.10/dist-packages (from datasets==2.17.0) (2.0.3)\n",
            "Requirement already satisfied: requests>=2.19.0 in /usr/local/lib/python3.10/dist-packages (from datasets==2.17.0) (2.31.0)\n",
            "Requirement already satisfied: tqdm>=4.62.1 in /usr/local/lib/python3.10/dist-packages (from datasets==2.17.0) (4.66.4)\n",
            "Collecting xxhash (from datasets==2.17.0)\n",
            "  Downloading xxhash-3.4.1-cp310-cp310-manylinux_2_17_x86_64.manylinux2014_x86_64.whl (194 kB)\n",
            "\u001b[2K     \u001b[90m━━━━━━━━━━━━━━━━━━━━━━━━━━━━━━━━━━━━━━━━\u001b[0m \u001b[32m194.1/194.1 kB\u001b[0m \u001b[31m9.1 MB/s\u001b[0m eta \u001b[36m0:00:00\u001b[0m\n",
            "\u001b[?25hCollecting multiprocess (from datasets==2.17.0)\n",
            "  Downloading multiprocess-0.70.16-py310-none-any.whl (134 kB)\n",
            "\u001b[2K     \u001b[90m━━━━━━━━━━━━━━━━━━━━━━━━━━━━━━━━━━━━━━━━\u001b[0m \u001b[32m134.8/134.8 kB\u001b[0m \u001b[31m9.4 MB/s\u001b[0m eta \u001b[36m0:00:00\u001b[0m\n",
            "\u001b[?25hRequirement already satisfied: fsspec[http]<=2023.10.0,>=2023.1.0 in /usr/local/lib/python3.10/dist-packages (from datasets==2.17.0) (2023.6.0)\n",
            "Requirement already satisfied: aiohttp in /usr/local/lib/python3.10/dist-packages (from datasets==2.17.0) (3.9.5)\n",
            "Requirement already satisfied: huggingface-hub>=0.19.4 in /usr/local/lib/python3.10/dist-packages (from datasets==2.17.0) (0.20.3)\n",
            "Requirement already satisfied: packaging in /usr/local/lib/python3.10/dist-packages (from datasets==2.17.0) (24.0)\n",
            "Requirement already satisfied: pyyaml>=5.1 in /usr/local/lib/python3.10/dist-packages (from datasets==2.17.0) (6.0.1)\n",
            "Requirement already satisfied: aiosignal>=1.1.2 in /usr/local/lib/python3.10/dist-packages (from aiohttp->datasets==2.17.0) (1.3.1)\n",
            "Requirement already satisfied: attrs>=17.3.0 in /usr/local/lib/python3.10/dist-packages (from aiohttp->datasets==2.17.0) (23.2.0)\n",
            "Requirement already satisfied: frozenlist>=1.1.1 in /usr/local/lib/python3.10/dist-packages (from aiohttp->datasets==2.17.0) (1.4.1)\n",
            "Requirement already satisfied: multidict<7.0,>=4.5 in /usr/local/lib/python3.10/dist-packages (from aiohttp->datasets==2.17.0) (6.0.5)\n",
            "Requirement already satisfied: yarl<2.0,>=1.0 in /usr/local/lib/python3.10/dist-packages (from aiohttp->datasets==2.17.0) (1.9.4)\n",
            "Requirement already satisfied: async-timeout<5.0,>=4.0 in /usr/local/lib/python3.10/dist-packages (from aiohttp->datasets==2.17.0) (4.0.3)\n",
            "Requirement already satisfied: typing-extensions>=3.7.4.3 in /usr/local/lib/python3.10/dist-packages (from huggingface-hub>=0.19.4->datasets==2.17.0) (4.11.0)\n",
            "Requirement already satisfied: charset-normalizer<4,>=2 in /usr/local/lib/python3.10/dist-packages (from requests>=2.19.0->datasets==2.17.0) (3.3.2)\n",
            "Requirement already satisfied: idna<4,>=2.5 in /usr/local/lib/python3.10/dist-packages (from requests>=2.19.0->datasets==2.17.0) (3.7)\n",
            "Requirement already satisfied: urllib3<3,>=1.21.1 in /usr/local/lib/python3.10/dist-packages (from requests>=2.19.0->datasets==2.17.0) (2.0.7)\n",
            "Requirement already satisfied: certifi>=2017.4.17 in /usr/local/lib/python3.10/dist-packages (from requests>=2.19.0->datasets==2.17.0) (2024.2.2)\n",
            "Requirement already satisfied: python-dateutil>=2.8.2 in /usr/local/lib/python3.10/dist-packages (from pandas->datasets==2.17.0) (2.8.2)\n",
            "Requirement already satisfied: pytz>=2020.1 in /usr/local/lib/python3.10/dist-packages (from pandas->datasets==2.17.0) (2023.4)\n",
            "Requirement already satisfied: tzdata>=2022.1 in /usr/local/lib/python3.10/dist-packages (from pandas->datasets==2.17.0) (2024.1)\n",
            "Requirement already satisfied: six>=1.5 in /usr/local/lib/python3.10/dist-packages (from python-dateutil>=2.8.2->pandas->datasets==2.17.0) (1.16.0)\n",
            "Installing collected packages: xxhash, dill, multiprocess, datasets\n",
            "Successfully installed datasets-2.17.0 dill-0.3.8 multiprocess-0.70.16 xxhash-3.4.1\n",
            "\u001b[2K     \u001b[90m━━━━━━━━━━━━━━━━━━━━━━━━━━━━━━━━━━━━━━━━\u001b[0m \u001b[32m2.1/2.1 MB\u001b[0m \u001b[31m12.5 MB/s\u001b[0m eta \u001b[36m0:00:00\u001b[0m\n",
            "\u001b[2K     \u001b[90m━━━━━━━━━━━━━━━━━━━━━━━━━━━━━━━━━━━━━━━━\u001b[0m \u001b[32m887.5/887.5 MB\u001b[0m \u001b[31m983.7 kB/s\u001b[0m eta \u001b[36m0:00:00\u001b[0m\n",
            "\u001b[2K     \u001b[90m━━━━━━━━━━━━━━━━━━━━━━━━━━━━━━━━━━━━━━━━\u001b[0m \u001b[32m4.6/4.6 MB\u001b[0m \u001b[31m64.8 MB/s\u001b[0m eta \u001b[36m0:00:00\u001b[0m\n",
            "\u001b[2K     \u001b[90m━━━━━━━━━━━━━━━━━━━━━━━━━━━━━━━━━━━━━━━━\u001b[0m \u001b[32m849.3/849.3 kB\u001b[0m \u001b[31m38.5 MB/s\u001b[0m eta \u001b[36m0:00:00\u001b[0m\n",
            "\u001b[2K     \u001b[90m━━━━━━━━━━━━━━━━━━━━━━━━━━━━━━━━━━━━━━━━\u001b[0m \u001b[32m557.1/557.1 MB\u001b[0m \u001b[31m1.9 MB/s\u001b[0m eta \u001b[36m0:00:00\u001b[0m\n",
            "\u001b[2K     \u001b[90m━━━━━━━━━━━━━━━━━━━━━━━━━━━━━━━━━━━━━━━━\u001b[0m \u001b[32m317.1/317.1 MB\u001b[0m \u001b[31m3.1 MB/s\u001b[0m eta \u001b[36m0:00:00\u001b[0m\n",
            "\u001b[2K     \u001b[90m━━━━━━━━━━━━━━━━━━━━━━━━━━━━━━━━━━━━━━━━\u001b[0m \u001b[32m21.0/21.0 MB\u001b[0m \u001b[31m50.1 MB/s\u001b[0m eta \u001b[36m0:00:00\u001b[0m\n",
            "\u001b[?25h\u001b[31mERROR: pip's dependency resolver does not currently take into account all the packages that are installed. This behaviour is the source of the following dependency conflicts.\n",
            "torchaudio 2.2.1+cu121 requires torch==2.2.1, but you have torch 1.13.1 which is incompatible.\n",
            "torchtext 0.17.1 requires torch==2.2.1, but you have torch 1.13.1 which is incompatible.\n",
            "torchtext 0.17.1 requires torchdata==0.7.1, but you have torchdata 0.5.1 which is incompatible.\n",
            "torchvision 0.17.1+cu121 requires torch==2.2.1, but you have torch 1.13.1 which is incompatible.\u001b[0m\u001b[31m\n",
            "\u001b[2K     \u001b[90m━━━━━━━━━━━━━━━━━━━━━━━━━━━━━━━━━━━━━━━━\u001b[0m \u001b[32m106.7/106.7 kB\u001b[0m \u001b[31m3.1 MB/s\u001b[0m eta \u001b[36m0:00:00\u001b[0m\n",
            "\u001b[?25h  Preparing metadata (setup.py) ... \u001b[?25l\u001b[?25hdone\n",
            "\u001b[2K   \u001b[90m━━━━━━━━━━━━━━━━━━━━━━━━━━━━━━━━━━━━━━━━\u001b[0m \u001b[32m6.8/6.8 MB\u001b[0m \u001b[31m20.5 MB/s\u001b[0m eta \u001b[36m0:00:00\u001b[0m\n",
            "\u001b[2K   \u001b[90m━━━━━━━━━━━━━━━━━━━━━━━━━━━━━━━━━━━━━━━━\u001b[0m \u001b[32m81.4/81.4 kB\u001b[0m \u001b[31m8.0 MB/s\u001b[0m eta \u001b[36m0:00:00\u001b[0m\n",
            "\u001b[2K   \u001b[90m━━━━━━━━━━━━━━━━━━━━━━━━━━━━━━━━━━━━━━━━\u001b[0m \u001b[32m56.8/56.8 kB\u001b[0m \u001b[31m5.6 MB/s\u001b[0m eta \u001b[36m0:00:00\u001b[0m\n",
            "\u001b[2K   \u001b[90m━━━━━━━━━━━━━━━━━━━━━━━━━━━━━━━━━━━━━━━━\u001b[0m \u001b[32m7.8/7.8 MB\u001b[0m \u001b[31m49.5 MB/s\u001b[0m eta \u001b[36m0:00:00\u001b[0m\n",
            "\u001b[2K   \u001b[90m━━━━━━━━━━━━━━━━━━━━━━━━━━━━━━━━━━━━━━━━\u001b[0m \u001b[32m302.6/302.6 kB\u001b[0m \u001b[31m24.8 MB/s\u001b[0m eta \u001b[36m0:00:00\u001b[0m\n",
            "\u001b[?25h  Building wheel for rouge_score (setup.py) ... \u001b[?25l\u001b[?25hdone\n",
            "\u001b[33mWARNING: Running pip as the 'root' user can result in broken permissions and conflicting behaviour with the system package manager. It is recommended to use a virtual environment instead: https://pip.pypa.io/warnings/venv\u001b[0m\u001b[33m\n",
            "\u001b[0m"
          ]
        }
      ],
      "source": [
        "%pip install -U datasets==2.17.0\n",
        "\n",
        "%pip install --upgrade pip \\\n",
        "    torch==1.13.1 \\\n",
        "    torchdata==0.5.1 --quiet\n",
        "\n",
        "%pip install \\\n",
        "    transformers==4.27.2 \\\n",
        "    evaluate==0.4.0 \\\n",
        "    rouge_score==0.1.2 \\\n",
        "    loralib==0.1.1 \\\n",
        "    peft==0.3.0 --quiet"
      ]
    },
    {
      "cell_type": "markdown",
      "metadata": {
        "tags": [],
        "id": "jcE4lmQ6PAtr"
      },
      "source": [
        "Import the required components."
      ]
    },
    {
      "cell_type": "code",
      "execution_count": null,
      "metadata": {
        "tags": [],
        "id": "mlIlHlf0PAts"
      },
      "outputs": [],
      "source": [
        "from datasets import load_dataset\n",
        "from transformers import AutoModelForSeq2SeqLM, AutoTokenizer, GenerationConfig, TrainingArguments, Trainer\n",
        "import torch\n",
        "import time\n",
        "import evaluate\n",
        "import pandas as pd\n",
        "import numpy as np"
      ]
    },
    {
      "cell_type": "markdown",
      "metadata": {
        "tags": [],
        "id": "czqQyGFgPAts"
      },
      "source": [
        "### 1.2 - Load Dataset and LLM\n",
        "\n",
        "Going the same dataset as in the previous [notebook](): [DialogSum](https://huggingface.co/datasets/knkarthick/dialogsum). It contains 10,000+ dialogues with the corresponding manually labeled summaries and topics."
      ]
    },
    {
      "cell_type": "code",
      "execution_count": null,
      "metadata": {
        "tags": [],
        "colab": {
          "base_uri": "https://localhost:8080/"
        },
        "id": "YKPdU5wKPAts",
        "outputId": "5a3fab97-71f7-498c-b2eb-966e287d2052"
      },
      "outputs": [
        {
          "output_type": "execute_result",
          "data": {
            "text/plain": [
              "DatasetDict({\n",
              "    train: Dataset({\n",
              "        features: ['id', 'dialogue', 'summary', 'topic'],\n",
              "        num_rows: 12460\n",
              "    })\n",
              "    validation: Dataset({\n",
              "        features: ['id', 'dialogue', 'summary', 'topic'],\n",
              "        num_rows: 500\n",
              "    })\n",
              "    test: Dataset({\n",
              "        features: ['id', 'dialogue', 'summary', 'topic'],\n",
              "        num_rows: 1500\n",
              "    })\n",
              "})"
            ]
          },
          "metadata": {},
          "execution_count": 29
        }
      ],
      "source": [
        "huggingface_dataset_name = \"knkarthick/dialogsum\"\n",
        "\n",
        "dataset = load_dataset(huggingface_dataset_name)\n",
        "\n",
        "dataset"
      ]
    },
    {
      "cell_type": "markdown",
      "metadata": {
        "tags": [],
        "id": "s6azGp8LPAtt"
      },
      "source": [
        "Load the pre-trained [FLAN-T5 model](https://huggingface.co/docs/transformers/model_doc/flan-t5) and its tokenizer directly from HuggingFace. Setting `torch_dtype=torch.bfloat16` specifies the memory type to be used by this model.`bfloat16` will use half of the memory required for the default `bfloat32`."
      ]
    },
    {
      "cell_type": "code",
      "execution_count": null,
      "metadata": {
        "tags": [],
        "id": "Jr9JUCl9PAtt"
      },
      "outputs": [],
      "source": [
        "model_name='google/flan-t5-base'\n",
        "\n",
        "original_model = AutoModelForSeq2SeqLM.from_pretrained(model_name, torch_dtype=torch.bfloat16)\n",
        "tokenizer = AutoTokenizer.from_pretrained(model_name)"
      ]
    },
    {
      "cell_type": "markdown",
      "metadata": {
        "tags": [],
        "id": "P6f4wqW-PAtu"
      },
      "source": [
        "Pulling out the number of model parameters to check how many of them are trainable."
      ]
    },
    {
      "cell_type": "code",
      "execution_count": null,
      "metadata": {
        "tags": [],
        "colab": {
          "base_uri": "https://localhost:8080/"
        },
        "id": "gLONbgHlPAtv",
        "outputId": "136f004d-6f76-4a14-ecb9-66b1ba11a2af"
      },
      "outputs": [
        {
          "output_type": "stream",
          "name": "stdout",
          "text": [
            "trainable model parameters: 247577856\n",
            "all model parameters: 247577856\n",
            "percentage of trainable model parameters: 100.00%\n"
          ]
        }
      ],
      "source": [
        "def print_number_of_trainable_model_parameters(model):\n",
        "    trainable_model_params = 0\n",
        "    all_model_params = 0\n",
        "    for _, param in model.named_parameters():\n",
        "        all_model_params += param.numel()\n",
        "        if param.requires_grad:\n",
        "            trainable_model_params += param.numel()\n",
        "    return f\"trainable model parameters: {trainable_model_params}\\nall model parameters: {all_model_params}\\npercentage of trainable model parameters: {100 * trainable_model_params / all_model_params:.2f}%\"\n",
        "\n",
        "print(print_number_of_trainable_model_parameters(original_model))"
      ]
    },
    {
      "cell_type": "markdown",
      "metadata": {
        "tags": [],
        "id": "VGrBp_yvPAtv"
      },
      "source": [
        "### 1.3 - Test the Model with Zero Shot Inferencing\n",
        "\n",
        "Testing the model with zero shot inferencing. The model will struggle to summarize the dialogue compared to the baseline summary, but we can use this as reference for later fine-tuned model."
      ]
    },
    {
      "cell_type": "code",
      "execution_count": null,
      "metadata": {
        "tags": [],
        "colab": {
          "base_uri": "https://localhost:8080/"
        },
        "id": "HPJDubO8PAtv",
        "outputId": "48050ecf-75df-4c8e-828f-7e482ef4b6a8"
      },
      "outputs": [
        {
          "output_type": "stream",
          "name": "stdout",
          "text": [
            "---------------------------------------------------------------------------------------------------\n",
            "INPUT PROMPT:\n",
            "\n",
            "Summarize the following conversation.\n",
            "\n",
            "#Person1#: Have you considered upgrading your system?\n",
            "#Person2#: Yes, but I'm not sure what exactly I would need.\n",
            "#Person1#: You could consider adding a painting program to your software. It would allow you to make up your own flyers and banners for advertising.\n",
            "#Person2#: That would be a definite bonus.\n",
            "#Person1#: You might also want to upgrade your hardware because it is pretty outdated now.\n",
            "#Person2#: How can we do that?\n",
            "#Person1#: You'd probably need a faster processor, to begin with. And you also need a more powerful hard disc, more memory and a faster modem. Do you have a CD-ROM drive?\n",
            "#Person2#: No.\n",
            "#Person1#: Then you might want to add a CD-ROM drive too, because most new software programs are coming out on Cds.\n",
            "#Person2#: That sounds great. Thanks.\n",
            "\n",
            "Summary:\n",
            "\n",
            "---------------------------------------------------------------------------------------------------\n",
            "BASELINE HUMAN SUMMARY:\n",
            "#Person1# teaches #Person2# how to upgrade software and hardware in #Person2#'s system.\n",
            "\n",
            "---------------------------------------------------------------------------------------------------\n",
            "MODEL GENERATION - ZERO SHOT:\n",
            "#Person1#: I'm thinking of upgrading my computer.\n"
          ]
        }
      ],
      "source": [
        "index = 200\n",
        "\n",
        "dialogue = dataset['test'][index]['dialogue']\n",
        "summary = dataset['test'][index]['summary']\n",
        "\n",
        "prompt = f\"\"\"\n",
        "Summarize the following conversation.\n",
        "\n",
        "{dialogue}\n",
        "\n",
        "Summary:\n",
        "\"\"\"\n",
        "\n",
        "inputs = tokenizer(prompt, return_tensors='pt') # tokenized the input\n",
        "output = tokenizer.decode( # decoding the generated tokens from the llm to english\n",
        "    original_model.generate( # generating the token streams from the llm\n",
        "        inputs[\"input_ids\"],\n",
        "        max_new_tokens=200,\n",
        "    )[0],\n",
        "    skip_special_tokens=True\n",
        ")\n",
        "\n",
        "dash_line = '-'.join('' for x in range(100))\n",
        "print(dash_line)\n",
        "print(f'INPUT PROMPT:\\n{prompt}')\n",
        "print(dash_line)\n",
        "print(f'BASELINE HUMAN SUMMARY:\\n{summary}\\n')\n",
        "print(dash_line)\n",
        "print(f'MODEL GENERATION - ZERO SHOT:\\n{output}')"
      ]
    },
    {
      "cell_type": "markdown",
      "metadata": {
        "tags": [],
        "id": "IrtyiLVOPAtw"
      },
      "source": [
        "## 2 - Perform Full Fine-Tuning"
      ]
    },
    {
      "cell_type": "markdown",
      "metadata": {
        "tags": [],
        "id": "PZsd3tqwPAtx"
      },
      "source": [
        "### 2.1 - Preprocess the Dialog-Summary Dataset\n",
        "\n",
        "Objective: Convert the dialog-summary (prompt-response) pairs into explicit instructions for the LLM.  \n",
        "Prepend an instruction to the start of the dialog with `Summarize the following conversation` and to the start of the summary with `Summary` as follows:\n",
        "\n",
        "\n",
        "\n",
        "Training prompt (dialogue):\n",
        "```\n",
        "Summarize the following conversation.\n",
        "\n",
        "    Chris: This is his part of the conversation.\n",
        "    Antje: This is her part of the conversation.\n",
        "    \n",
        "Summary:\n",
        "```\n",
        "\n",
        "Training response (summary):\n",
        "```\n",
        "Both Chris and Antje participated in the conversation.\n",
        "```\n",
        "\n",
        "Then preprocess the prompt-response dataset into tokens and pull out their `input_ids` (1 per token)."
      ]
    },
    {
      "cell_type": "code",
      "execution_count": null,
      "metadata": {
        "tags": [],
        "colab": {
          "base_uri": "https://localhost:8080/",
          "height": 113,
          "referenced_widgets": [
            "ec01e768539e43018245607dad068e71",
            "1a270e86c9554152a637ca9ac0ddb03e",
            "707a4925576447948662983e87516f94",
            "59d5f1110a7c41a3a104a61e1308d738",
            "88fd14e989064cb79f5d33bd6c1b61bd",
            "c00f8627529f467eaf11bca4ecbf5f27",
            "bb0dfb3d085048c2a4ca41f73992c656",
            "490c5dd6db03405392dd28d07c1dfddc",
            "d8e0e559e02242feaa0900ecff89f609",
            "a0372efa446e46398aca75f2d5448281",
            "a37702d78b324580a951942ba8ee94de",
            "300881fc84a24d3c929f5b463e489374",
            "d3ed37242ac34f63b3d4041d689e7bf7",
            "d846cd3a60854c53a17c4a579c7ff3a5",
            "758656bf82f249ac85a07f79db8a7ef1",
            "32cd5da6947243f9a6d086a0dda887fc",
            "c3ca71bd39414eb7a1c615398cb0bc70",
            "cc6c68033bfc4438acbfa2e3c4854d77",
            "69513e82d8b24a84a89850a0711e1a43",
            "569cb164049a40baa5491412dcd78f70",
            "6a4f14db9b4144b2bc77d5447ec5b31b",
            "0416aed546d94d7fa604b0923a88c52a",
            "8165b58a9a9446fd8bc63b93939dfd44",
            "65ae7c30a3434ae095f67deccd8011c3",
            "4e3d0f0cdfdf4272b0188256ff6be1e8",
            "88a82c97a0c04e9a914ec8a3a9179ac3",
            "921e126f01774b8e91febd6cb761bb6c",
            "a3d97c1f7180438c9afdeccd4513f9a5",
            "7f7bffcb097147b9a1ef04e6f6e20680",
            "91227ad96bcc4b73946a76e7ceec472d",
            "3c2843d7f2584b599a66fab376b3bade",
            "9334839004fd4553b20a485c1c43890d",
            "64046e792256440c8f11efc41d58f2f8"
          ]
        },
        "id": "pm67nthxPAtx",
        "outputId": "2cdb7b92-019d-41d2-b931-464e5cb48234"
      },
      "outputs": [
        {
          "output_type": "display_data",
          "data": {
            "text/plain": [
              "Map:   0%|          | 0/12460 [00:00<?, ? examples/s]"
            ],
            "application/vnd.jupyter.widget-view+json": {
              "version_major": 2,
              "version_minor": 0,
              "model_id": "ec01e768539e43018245607dad068e71"
            }
          },
          "metadata": {}
        },
        {
          "output_type": "display_data",
          "data": {
            "text/plain": [
              "Map:   0%|          | 0/500 [00:00<?, ? examples/s]"
            ],
            "application/vnd.jupyter.widget-view+json": {
              "version_major": 2,
              "version_minor": 0,
              "model_id": "300881fc84a24d3c929f5b463e489374"
            }
          },
          "metadata": {}
        },
        {
          "output_type": "display_data",
          "data": {
            "text/plain": [
              "Map:   0%|          | 0/1500 [00:00<?, ? examples/s]"
            ],
            "application/vnd.jupyter.widget-view+json": {
              "version_major": 2,
              "version_minor": 0,
              "model_id": "8165b58a9a9446fd8bc63b93939dfd44"
            }
          },
          "metadata": {}
        }
      ],
      "source": [
        "def tokenize_function(example):\n",
        "    start_prompt = 'Summarize the following conversation.\\n\\n'\n",
        "    end_prompt = '\\n\\nSummary: '\n",
        "    prompt = [start_prompt + dialogue + end_prompt for dialogue in example[\"dialogue\"]]\n",
        "    example['input_ids'] = tokenizer(prompt, padding=\"max_length\", truncation=True, return_tensors=\"pt\").input_ids\n",
        "    example['labels'] = tokenizer(example[\"summary\"], padding=\"max_length\", truncation=True, return_tensors=\"pt\").input_ids\n",
        "\n",
        "    return example\n",
        "\n",
        "# The dataset actually contains 3 diff splits: train, validation, test.\n",
        "# The tokenize_function code is handling all data across all splits in batches.\n",
        "tokenized_datasets_full = dataset.map(tokenize_function, batched=True)\n",
        "tokenized_datasets_full = tokenized_datasets_full.remove_columns(['id', 'topic', 'dialogue', 'summary',])"
      ]
    },
    {
      "cell_type": "markdown",
      "source": [
        "Shapes of all three parts of the full dataset:"
      ],
      "metadata": {
        "id": "OuDVDvGprjwl"
      }
    },
    {
      "cell_type": "code",
      "source": [
        "print(f\"Shapes of the datasets:\")\n",
        "print(f\"Training: {tokenized_datasets_full['train'].shape}\")\n",
        "print(f\"Validation: {tokenized_datasets_full['validation'].shape}\")\n",
        "print(f\"Test: {tokenized_datasets_full['test'].shape}\")\n",
        "\n",
        "print(tokenized_datasets_full)"
      ],
      "metadata": {
        "colab": {
          "base_uri": "https://localhost:8080/"
        },
        "id": "kRV2jEj-rMUr",
        "outputId": "7d7f4597-3005-4916-f530-c8b105c6dd17"
      },
      "execution_count": null,
      "outputs": [
        {
          "output_type": "stream",
          "name": "stdout",
          "text": [
            "Shapes of the datasets:\n",
            "Training: (12460, 2)\n",
            "Validation: (500, 2)\n",
            "Test: (1500, 2)\n",
            "DatasetDict({\n",
            "    train: Dataset({\n",
            "        features: ['input_ids', 'labels'],\n",
            "        num_rows: 12460\n",
            "    })\n",
            "    validation: Dataset({\n",
            "        features: ['input_ids', 'labels'],\n",
            "        num_rows: 500\n",
            "    })\n",
            "    test: Dataset({\n",
            "        features: ['input_ids', 'labels'],\n",
            "        num_rows: 1500\n",
            "    })\n",
            "})\n"
          ]
        }
      ]
    },
    {
      "cell_type": "markdown",
      "metadata": {
        "tags": [],
        "id": "Xhi7hYKXPAty"
      },
      "source": [
        "To save some time and compute, we can subsample the dataset:"
      ]
    },
    {
      "cell_type": "code",
      "execution_count": null,
      "metadata": {
        "tags": [],
        "colab": {
          "base_uri": "https://localhost:8080/",
          "height": 113,
          "referenced_widgets": [
            "6dc21624c1a74be18fee2181cd0b0f41",
            "4747d29abf47482e861161bcfe791882",
            "6e63441130094afcac3e0fbeeaf36cae",
            "2be85816dc8841f4ac51652d7706e5e0",
            "57f59aa2fc694cfb97c18c0a28e21d9d",
            "87b3eff0bdab475fade7b664d4b7158c",
            "e389a997bf45478298f5c027c4d77904",
            "039257f08d7741cb9c729d156551928c",
            "7804d87db7834545bc17c5604cd98732",
            "29946fd1bf764ae2a9d3c4d7632006a7",
            "5ac72035317445bb9e024ab126e14286",
            "79e402b74a48468f83339ee33c30f8ea",
            "721a935f50b34b4a9ac4a81430c668c7",
            "1d42c0c5c06340528e2f68131d2ac392",
            "4115b47b8b944040babfc031cc9a86c8",
            "4e06fa3efe7c4ff282491b54e4f67d1a",
            "4ffa396c7117444289d0eabd94871def",
            "83c9a5a50e3c4d4494c5c4aad55fdbc1",
            "4065e471fe6248108de5b5c941bee926",
            "0cf1731f98384598affe4509209d50c1",
            "7102a7960076405abf41c5e085fd06fc",
            "13666f28aca64e268fedd5c5e64790b0",
            "111b6b9d7ebd431daca67491646617b6",
            "cbcecd9b234844e092808e1eb00678a5",
            "0e7c1794d7b74022b70b518d4f38c27d",
            "2b84db0c28fa41449f5aa34507140a83",
            "681b5d810055457bb159f9eb4263c24a",
            "761a7b2f3e904d4bb3652387bc3d3878",
            "838d0021af00477d9bbb06bad93e4d25",
            "1134feffd1f14052b96dd3366e6c882b",
            "4c824e4a80484067a9612e87ed482b7f",
            "025d6bc896f04a3f88c048e176c119bd",
            "0f6b0123522d442ba6fc1a6cc4acc853"
          ]
        },
        "id": "bE_R5yyBPAty",
        "outputId": "7627c2c8-7561-4c50-9683-12ac2ee6259d"
      },
      "outputs": [
        {
          "output_type": "display_data",
          "data": {
            "text/plain": [
              "Filter:   0%|          | 0/12460 [00:00<?, ? examples/s]"
            ],
            "application/vnd.jupyter.widget-view+json": {
              "version_major": 2,
              "version_minor": 0,
              "model_id": "6dc21624c1a74be18fee2181cd0b0f41"
            }
          },
          "metadata": {}
        },
        {
          "output_type": "display_data",
          "data": {
            "text/plain": [
              "Filter:   0%|          | 0/500 [00:00<?, ? examples/s]"
            ],
            "application/vnd.jupyter.widget-view+json": {
              "version_major": 2,
              "version_minor": 0,
              "model_id": "79e402b74a48468f83339ee33c30f8ea"
            }
          },
          "metadata": {}
        },
        {
          "output_type": "display_data",
          "data": {
            "text/plain": [
              "Filter:   0%|          | 0/1500 [00:00<?, ? examples/s]"
            ],
            "application/vnd.jupyter.widget-view+json": {
              "version_major": 2,
              "version_minor": 0,
              "model_id": "111b6b9d7ebd431daca67491646617b6"
            }
          },
          "metadata": {}
        }
      ],
      "source": [
        "tokenized_datasets = tokenized_datasets_full.filter(lambda example, index: index % 100 == 0, with_indices=True)"
      ]
    },
    {
      "cell_type": "markdown",
      "metadata": {
        "tags": [],
        "id": "xrgkJVNyPAtz"
      },
      "source": [
        "Shapes of all three parts of the filtered dataset:"
      ]
    },
    {
      "cell_type": "code",
      "execution_count": null,
      "metadata": {
        "tags": [],
        "colab": {
          "base_uri": "https://localhost:8080/"
        },
        "id": "JJ4Q6x7-PAtz",
        "outputId": "aff57e22-4d4c-454a-8696-889dc45d06df"
      },
      "outputs": [
        {
          "output_type": "stream",
          "name": "stdout",
          "text": [
            "Shapes of the datasets:\n",
            "Training: (125, 2)\n",
            "Validation: (5, 2)\n",
            "Test: (15, 2)\n",
            "DatasetDict({\n",
            "    train: Dataset({\n",
            "        features: ['input_ids', 'labels'],\n",
            "        num_rows: 125\n",
            "    })\n",
            "    validation: Dataset({\n",
            "        features: ['input_ids', 'labels'],\n",
            "        num_rows: 5\n",
            "    })\n",
            "    test: Dataset({\n",
            "        features: ['input_ids', 'labels'],\n",
            "        num_rows: 15\n",
            "    })\n",
            "})\n"
          ]
        }
      ],
      "source": [
        "print(f\"Shapes of the datasets:\")\n",
        "print(f\"Training: {tokenized_datasets['train'].shape}\")\n",
        "print(f\"Validation: {tokenized_datasets['validation'].shape}\")\n",
        "print(f\"Test: {tokenized_datasets['test'].shape}\")\n",
        "\n",
        "print(tokenized_datasets)"
      ]
    },
    {
      "cell_type": "markdown",
      "metadata": {
        "id": "LO3_FcArPAtz"
      },
      "source": [
        "The output dataset is ready for fine-tuning."
      ]
    },
    {
      "cell_type": "markdown",
      "metadata": {
        "id": "5cO7gup4PAt0"
      },
      "source": [
        "### 2.2 - Fine-Tune the Model with the Preprocessed Dataset\n",
        "\n",
        "We can utilize the built-in Hugging Face `Trainer` class ( [documentation](https://huggingface.co/docs/transformers/main_classes/trainer) ). Pass the preprocessed dataset with reference to the original model."
      ]
    },
    {
      "cell_type": "code",
      "execution_count": null,
      "metadata": {
        "tags": [],
        "id": "EhSBHlmyPAt0"
      },
      "outputs": [],
      "source": [
        "output_dir = f'./dialogue-summary-training-{str(int(time.time()))}'\n",
        "\n",
        "training_args = TrainingArguments(\n",
        "    output_dir=output_dir,\n",
        "    learning_rate=1e-5,\n",
        "    num_train_epochs=1,\n",
        "    weight_decay=0.01,\n",
        "    logging_steps=1,\n",
        "    # max_steps=1\n",
        ")\n",
        "\n",
        "trainer = Trainer(\n",
        "    model=original_model,\n",
        "    args=training_args,\n",
        "    train_dataset=tokenized_datasets['train'],\n",
        "    eval_dataset=tokenized_datasets['validation']\n",
        ")"
      ]
    },
    {
      "cell_type": "markdown",
      "source": [
        "###**Quick math before training:**\n",
        "\n",
        "**TL;DR:** If done in google colab with t4 gpu instance, full instruction fine tuning may encounter out of memory error.  \n",
        "  <br>\n",
        "Total no. of parameters in the model = 248 Million  \n",
        "  \n",
        "Memory required for 1 param = 2 Bytes  \n",
        "(since model is loaded in bfloat16 instead of the default bfloat32 which requires 4 bytes)\n",
        "  \n",
        "Memory required for other intermediate operations = 20 Bytes\n",
        "(Adam optimizer: 8 Bytes, Gradients: 4 Bytes, Activations and Temp memory: 8 Bytes)\n",
        "\n",
        "Total memory overhead for loading the model = 2 + 20 = 22 Bytes\n",
        "\n",
        "Total GPU memory required = 248,000,000 * 22 Bytes = 5,456,000,000 Bytes\n",
        "or 5.08 GBs\n",
        "\n",
        "There is additional memory overhead for loading the dataset, since the dataset comprise of string value each character takes 1 Byte of data\n",
        "hence the training is not possible and out of memory error might occur\n",
        "<br><br>\n",
        "minimum compute requirements: AWS ml.m5.2xlarge (can take few hours for the entire dataset)\n",
        "  \n",
        "This also motivates us to try out other low compute PEFT strategies.\n",
        "\n"
      ],
      "metadata": {
        "id": "ntx6aU8Pxs6r"
      }
    },
    {
      "cell_type": "code",
      "execution_count": null,
      "metadata": {
        "tags": [],
        "id": "auBRid5HPAt1"
      },
      "outputs": [],
      "source": [
        "trainer.train()"
      ]
    },
    {
      "cell_type": "markdown",
      "metadata": {
        "id": "eQyeW7WXPAt1"
      },
      "source": [
        "ALternatively, we can download a checkpoint of the fully fine-tuned model from my gdrive which I had previously trained on AWS SageMaker"
      ]
    },
    {
      "cell_type": "code",
      "source": [
        "# # Load model directly\n",
        "# from transformers import AutoTokenizer, AutoModelForSeq2SeqLM\n",
        "\n",
        "# tokenizer = AutoTokenizer.from_pretrained(\"CyberPun/flan-summary-fft\")\n",
        "# model = AutoModelForSeq2SeqLM.from_pretrained(\"CyberPun/flan-summary-fft\")"
      ],
      "metadata": {
        "id": "7lPuC3_cRMMX"
      },
      "execution_count": null,
      "outputs": []
    },
    {
      "cell_type": "code",
      "execution_count": null,
      "metadata": {
        "tags": [],
        "id": "fQ95DwNjPAt2",
        "outputId": "d62d3279-a2be-433b-d954-5a69227e8be3",
        "colab": {
          "base_uri": "https://localhost:8080/"
        }
      },
      "outputs": [
        {
          "output_type": "stream",
          "name": "stdout",
          "text": [
            "Retrieving folder contents\n",
            "Processing file 1_qCS24z62v19iborAMkbtQPy6uHitr9b config.json\n",
            "Processing file 1FqqeFgZzJJ9Md4ZITgUP6Qs5F9TFs1y_ generation_config.json\n",
            "Processing file 1-gD1rHef8BGjH780Hlj2lsjmi4O0iTNC optimizer.pt\n",
            "Processing file 1diYWVq-Y9nW2dWTg3o49hYRDr9-A9YtB pytorch_model.bin\n",
            "Processing file 1eahqvq77Kam_2y9VTrJyfYIS3TrnErX7 rng_state.pth\n",
            "Processing file 1oToblQtVdKLPzJA6KwszbzgRIvtKqaj- scheduler.pt\n",
            "Processing file 1dj9vtNvXL7p2DUa0mqmpB5jM4knjgH4n trainer_state.json\n",
            "Processing file 1kQXsuAob_SiBYQnZgtngShDUeNG7KlDq training_args.bin\n",
            "Retrieving folder contents completed\n",
            "Building directory structure\n",
            "Building directory structure completed\n",
            "Downloading...\n",
            "From: https://drive.google.com/uc?id=1_qCS24z62v19iborAMkbtQPy6uHitr9b\n",
            "To: /content/flan-dialogue-summary-checkpoint/config.json\n",
            "100% 1.53k/1.53k [00:00<00:00, 7.14MB/s]\n",
            "Downloading...\n",
            "From: https://drive.google.com/uc?id=1FqqeFgZzJJ9Md4ZITgUP6Qs5F9TFs1y_\n",
            "To: /content/flan-dialogue-summary-checkpoint/generation_config.json\n",
            "100% 142/142 [00:00<00:00, 798kB/s]\n",
            "Downloading...\n",
            "From (original): https://drive.google.com/uc?id=1-gD1rHef8BGjH780Hlj2lsjmi4O0iTNC\n",
            "From (redirected): https://drive.google.com/uc?id=1-gD1rHef8BGjH780Hlj2lsjmi4O0iTNC&confirm=t&uuid=bddefb62-fa7a-4b16-ad2c-d848a3ce38ab\n",
            "To: /content/flan-dialogue-summary-checkpoint/optimizer.pt\n",
            "100% 1.98G/1.98G [00:41<00:00, 48.3MB/s]\n",
            "Downloading...\n",
            "From (original): https://drive.google.com/uc?id=1diYWVq-Y9nW2dWTg3o49hYRDr9-A9YtB\n",
            "From (redirected): https://drive.google.com/uc?id=1diYWVq-Y9nW2dWTg3o49hYRDr9-A9YtB&confirm=t&uuid=094d9d53-4054-47ec-bb43-5e0d781c06aa\n",
            "To: /content/flan-dialogue-summary-checkpoint/pytorch_model.bin\n",
            "100% 990M/990M [00:22<00:00, 44.4MB/s]\n",
            "Downloading...\n",
            "From: https://drive.google.com/uc?id=1eahqvq77Kam_2y9VTrJyfYIS3TrnErX7\n",
            "To: /content/flan-dialogue-summary-checkpoint/rng_state.pth\n",
            "100% 14.6k/14.6k [00:00<00:00, 44.8MB/s]\n",
            "Downloading...\n",
            "From: https://drive.google.com/uc?id=1oToblQtVdKLPzJA6KwszbzgRIvtKqaj-\n",
            "To: /content/flan-dialogue-summary-checkpoint/scheduler.pt\n",
            "100% 627/627 [00:00<00:00, 2.92MB/s]\n",
            "Downloading...\n",
            "From: https://drive.google.com/uc?id=1dj9vtNvXL7p2DUa0mqmpB5jM4knjgH4n\n",
            "To: /content/flan-dialogue-summary-checkpoint/trainer_state.json\n",
            "100% 9.90k/9.90k [00:00<00:00, 31.3MB/s]\n",
            "Downloading...\n",
            "From: https://drive.google.com/uc?id=1kQXsuAob_SiBYQnZgtngShDUeNG7KlDq\n",
            "To: /content/flan-dialogue-summary-checkpoint/training_args.bin\n",
            "100% 3.64k/3.64k [00:00<00:00, 16.9MB/s]\n",
            "Download completed\n"
          ]
        }
      ],
      "source": [
        "!gdown --folder 11wEBTprgRylL-FMFECujbABXl2BF-bar"
      ]
    },
    {
      "cell_type": "markdown",
      "metadata": {
        "tags": [],
        "id": "XFwNPnFCPAt2"
      },
      "source": [
        "The size of the downloaded instruct model is approximately 1GB."
      ]
    },
    {
      "cell_type": "code",
      "execution_count": null,
      "metadata": {
        "tags": [],
        "id": "aS8dVnZXPAt2",
        "outputId": "65e5bf0a-e413-4a30-846d-52a729eb8438",
        "colab": {
          "base_uri": "https://localhost:8080/"
        }
      },
      "outputs": [
        {
          "output_type": "stream",
          "name": "stdout",
          "text": [
            "-rw-r--r-- 1 root root 945M May 17 15:41 ./flan-dialogue-summary-checkpoint/pytorch_model.bin\n"
          ]
        }
      ],
      "source": [
        "!ls -alh ./flan-dialogue-summary-checkpoint/pytorch_model.bin"
      ]
    },
    {
      "cell_type": "markdown",
      "metadata": {
        "tags": [],
        "id": "TjpbpgKGPAt3"
      },
      "source": [
        "Create an instance of the `AutoModelForSeq2SeqLM` class for the instruct model:"
      ]
    },
    {
      "cell_type": "code",
      "execution_count": null,
      "metadata": {
        "tags": [],
        "id": "t1DLgikdPAuA"
      },
      "outputs": [],
      "source": [
        "instruct_model = AutoModelForSeq2SeqLM.from_pretrained(\"./flan-dialogue-summary-checkpoint\", torch_dtype=torch.bfloat16)"
      ]
    },
    {
      "cell_type": "markdown",
      "metadata": {
        "id": "_9zSMmzQPAuA"
      },
      "source": [
        "### 2.3 - Evaluate the Model Qualitatively (Human Evaluation)\n",
        "\n",
        "As with many GenAI applications, a qualitative approach where we ask ourself the question \"Is my model behaving the way it is supposed to?\" is usually a good starting point. In the example below we can see how the fine-tuned model is able to create a reasonable summary of the dialogue compared to the original inability to understand what is being asked of the model."
      ]
    },
    {
      "cell_type": "code",
      "execution_count": null,
      "metadata": {
        "tags": [],
        "id": "DOwEk0KMPAuA",
        "outputId": "d1d2fd74-1904-4d72-9e1a-b91f9ca584dd",
        "colab": {
          "base_uri": "https://localhost:8080/"
        }
      },
      "outputs": [
        {
          "output_type": "stream",
          "name": "stdout",
          "text": [
            "---------------------------------------------------------------------------------------------------\n",
            "BASELINE HUMAN SUMMARY:\n",
            "#Person1# teaches #Person2# how to upgrade software and hardware in #Person2#'s system.\n",
            "---------------------------------------------------------------------------------------------------\n",
            "ORIGINAL MODEL:\n",
            "#Person1#: I'm thinking of upgrading my computer.\n",
            "---------------------------------------------------------------------------------------------------\n",
            "INSTRUCT MODEL:\n",
            "#Person1# suggests #Person2# upgrading #Person2#'s system, hardware, and CD-ROM drive. #Person2# thinks it's great.\n"
          ]
        }
      ],
      "source": [
        "index = 200\n",
        "dialogue = dataset['test'][index]['dialogue']\n",
        "human_baseline_summary = dataset['test'][index]['summary']\n",
        "\n",
        "prompt = f\"\"\"\n",
        "Summarize the following conversation.\n",
        "\n",
        "{dialogue}\n",
        "\n",
        "Summary:\n",
        "\"\"\"\n",
        "\n",
        "input_ids = tokenizer(prompt, return_tensors=\"pt\").input_ids\n",
        "\n",
        "original_model_outputs = original_model.generate(input_ids=input_ids, generation_config=GenerationConfig(max_new_tokens=200, num_beams=1))\n",
        "original_model_text_output = tokenizer.decode(original_model_outputs[0], skip_special_tokens=True)\n",
        "\n",
        "instruct_model_outputs = instruct_model.generate(input_ids=input_ids, generation_config=GenerationConfig(max_new_tokens=200, num_beams=1))\n",
        "instruct_model_text_output = tokenizer.decode(instruct_model_outputs[0], skip_special_tokens=True)\n",
        "\n",
        "print(dash_line)\n",
        "print(f'BASELINE HUMAN SUMMARY:\\n{human_baseline_summary}')\n",
        "print(dash_line)\n",
        "print(f'ORIGINAL MODEL:\\n{original_model_text_output}')\n",
        "print(dash_line)\n",
        "print(f'INSTRUCT MODEL:\\n{instruct_model_text_output}')"
      ]
    },
    {
      "cell_type": "markdown",
      "metadata": {
        "id": "HVafd70zPAuB"
      },
      "source": [
        "### 2.4 - Evaluate the Model Quantitatively (with ROUGE Metric)\n",
        "\n",
        "The [ROUGE metric](https://en.wikipedia.org/wiki/ROUGE_(metric)) helps quantify the validity of summarizations produced by models. It compares summarizations to a \"baseline\" summary which is usually created by a human. While not perfect, it does indicate the overall increase in summarization effectiveness that we have accomplished by fine-tuning."
      ]
    },
    {
      "cell_type": "code",
      "execution_count": null,
      "metadata": {
        "tags": [],
        "colab": {
          "referenced_widgets": [
            "f16c2cbeaaef437eb36df4bb9d159dd6",
            "fe971995fac74d5984f47cd21c519fde",
            "5f9d5c711f384f959142a21a0fe9860a",
            "13fa2678ada04b1e9aff5141728df21f",
            "b95d493aaeb1471aa504c92716badba6",
            "0542b6b5d2c64ae3a5dc4ca0c3239f78",
            "e775a6cc7c434dbfb2bc91197dd3a55a",
            "0f3fbbd43c0f47a6a0c58cdbadf60637",
            "19ad8190b3d3434daf69c30d90367bff",
            "385a637df2854d2bbe5b36e2c6bf5509",
            "ea45cda1c94f43879c111ed6ae9fa61e"
          ],
          "base_uri": "https://localhost:8080/",
          "height": 49
        },
        "id": "jAiEXU04PAuC",
        "outputId": "7bdca0fb-d18e-44a2-a6cb-90ac6b865426"
      },
      "outputs": [
        {
          "output_type": "display_data",
          "data": {
            "text/plain": [
              "Downloading builder script:   0%|          | 0.00/6.27k [00:00<?, ?B/s]"
            ],
            "application/vnd.jupyter.widget-view+json": {
              "version_major": 2,
              "version_minor": 0,
              "model_id": "f16c2cbeaaef437eb36df4bb9d159dd6"
            }
          },
          "metadata": {}
        }
      ],
      "source": [
        "rouge = evaluate.load('rouge')"
      ]
    },
    {
      "cell_type": "markdown",
      "metadata": {
        "id": "N9j9MGjWPAuC"
      },
      "source": [
        "Generate the outputs for the sample of the test dataset (only 10 dialogues and summaries to save time), and save the results."
      ]
    },
    {
      "cell_type": "code",
      "execution_count": null,
      "metadata": {
        "tags": [],
        "id": "eS7uTwqKPAuC",
        "outputId": "943694cb-8d49-4ebf-8c64-c1fb992df993",
        "colab": {
          "base_uri": "https://localhost:8080/",
          "height": 363
        }
      },
      "outputs": [
        {
          "output_type": "execute_result",
          "data": {
            "text/plain": [
              "                            human_baseline_summaries  \\\n",
              "0  Ms. Dawson helps #Person1# to write a memo to ...   \n",
              "1  In order to prevent employees from wasting tim...   \n",
              "2  Ms. Dawson takes a dictation for #Person1# abo...   \n",
              "3  #Person2# arrives late because of traffic jam....   \n",
              "4  #Person2# decides to follow #Person1#'s sugges...   \n",
              "5  #Person2# complains to #Person1# about the tra...   \n",
              "6  #Person1# tells Kate that Masha and Hero get d...   \n",
              "7  #Person1# tells Kate that Masha and Hero are g...   \n",
              "8  #Person1# and Kate talk about the divorce betw...   \n",
              "9  #Person1# and Brian are at the birthday party ...   \n",
              "\n",
              "                            original_model_summaries  \\\n",
              "0     #Person1#: I need to take a dictation for you.   \n",
              "1     #Person1#: I need to take a dictation for you.   \n",
              "2     #Person1#: I need to take a dictation for you.   \n",
              "3  The traffic jam at the Carrefour intersection ...   \n",
              "4  The traffic jam at the Carrefour intersection ...   \n",
              "5  The traffic jam at the Carrefour intersection ...   \n",
              "6               Masha and Hero are getting divorced.   \n",
              "7               Masha and Hero are getting divorced.   \n",
              "8               Masha and Hero are getting divorced.   \n",
              "9  #Person1#: Happy birthday, Brian. #Person2#: I...   \n",
              "\n",
              "                            instruct_model_summaries  \n",
              "0  #Person1# asks Ms. Dawson to take a dictation ...  \n",
              "1  #Person1# asks Ms. Dawson to take a dictation ...  \n",
              "2  #Person1# asks Ms. Dawson to take a dictation ...  \n",
              "3  #Person2# got stuck in traffic again. #Person1...  \n",
              "4  #Person2# got stuck in traffic again. #Person1...  \n",
              "5  #Person2# got stuck in traffic again. #Person1...  \n",
              "6  Masha and Hero are getting divorced. Kate can'...  \n",
              "7  Masha and Hero are getting divorced. Kate can'...  \n",
              "8  Masha and Hero are getting divorced. Kate can'...  \n",
              "9  Brian's birthday is coming. #Person1# invites ...  "
            ],
            "text/html": [
              "\n",
              "  <div id=\"df-1ff0c670-fcc9-4d54-99fa-d9fdd87745f9\" class=\"colab-df-container\">\n",
              "    <div>\n",
              "<style scoped>\n",
              "    .dataframe tbody tr th:only-of-type {\n",
              "        vertical-align: middle;\n",
              "    }\n",
              "\n",
              "    .dataframe tbody tr th {\n",
              "        vertical-align: top;\n",
              "    }\n",
              "\n",
              "    .dataframe thead th {\n",
              "        text-align: right;\n",
              "    }\n",
              "</style>\n",
              "<table border=\"1\" class=\"dataframe\">\n",
              "  <thead>\n",
              "    <tr style=\"text-align: right;\">\n",
              "      <th></th>\n",
              "      <th>human_baseline_summaries</th>\n",
              "      <th>original_model_summaries</th>\n",
              "      <th>instruct_model_summaries</th>\n",
              "    </tr>\n",
              "  </thead>\n",
              "  <tbody>\n",
              "    <tr>\n",
              "      <th>0</th>\n",
              "      <td>Ms. Dawson helps #Person1# to write a memo to ...</td>\n",
              "      <td>#Person1#: I need to take a dictation for you.</td>\n",
              "      <td>#Person1# asks Ms. Dawson to take a dictation ...</td>\n",
              "    </tr>\n",
              "    <tr>\n",
              "      <th>1</th>\n",
              "      <td>In order to prevent employees from wasting tim...</td>\n",
              "      <td>#Person1#: I need to take a dictation for you.</td>\n",
              "      <td>#Person1# asks Ms. Dawson to take a dictation ...</td>\n",
              "    </tr>\n",
              "    <tr>\n",
              "      <th>2</th>\n",
              "      <td>Ms. Dawson takes a dictation for #Person1# abo...</td>\n",
              "      <td>#Person1#: I need to take a dictation for you.</td>\n",
              "      <td>#Person1# asks Ms. Dawson to take a dictation ...</td>\n",
              "    </tr>\n",
              "    <tr>\n",
              "      <th>3</th>\n",
              "      <td>#Person2# arrives late because of traffic jam....</td>\n",
              "      <td>The traffic jam at the Carrefour intersection ...</td>\n",
              "      <td>#Person2# got stuck in traffic again. #Person1...</td>\n",
              "    </tr>\n",
              "    <tr>\n",
              "      <th>4</th>\n",
              "      <td>#Person2# decides to follow #Person1#'s sugges...</td>\n",
              "      <td>The traffic jam at the Carrefour intersection ...</td>\n",
              "      <td>#Person2# got stuck in traffic again. #Person1...</td>\n",
              "    </tr>\n",
              "    <tr>\n",
              "      <th>5</th>\n",
              "      <td>#Person2# complains to #Person1# about the tra...</td>\n",
              "      <td>The traffic jam at the Carrefour intersection ...</td>\n",
              "      <td>#Person2# got stuck in traffic again. #Person1...</td>\n",
              "    </tr>\n",
              "    <tr>\n",
              "      <th>6</th>\n",
              "      <td>#Person1# tells Kate that Masha and Hero get d...</td>\n",
              "      <td>Masha and Hero are getting divorced.</td>\n",
              "      <td>Masha and Hero are getting divorced. Kate can'...</td>\n",
              "    </tr>\n",
              "    <tr>\n",
              "      <th>7</th>\n",
              "      <td>#Person1# tells Kate that Masha and Hero are g...</td>\n",
              "      <td>Masha and Hero are getting divorced.</td>\n",
              "      <td>Masha and Hero are getting divorced. Kate can'...</td>\n",
              "    </tr>\n",
              "    <tr>\n",
              "      <th>8</th>\n",
              "      <td>#Person1# and Kate talk about the divorce betw...</td>\n",
              "      <td>Masha and Hero are getting divorced.</td>\n",
              "      <td>Masha and Hero are getting divorced. Kate can'...</td>\n",
              "    </tr>\n",
              "    <tr>\n",
              "      <th>9</th>\n",
              "      <td>#Person1# and Brian are at the birthday party ...</td>\n",
              "      <td>#Person1#: Happy birthday, Brian. #Person2#: I...</td>\n",
              "      <td>Brian's birthday is coming. #Person1# invites ...</td>\n",
              "    </tr>\n",
              "  </tbody>\n",
              "</table>\n",
              "</div>\n",
              "    <div class=\"colab-df-buttons\">\n",
              "\n",
              "  <div class=\"colab-df-container\">\n",
              "    <button class=\"colab-df-convert\" onclick=\"convertToInteractive('df-1ff0c670-fcc9-4d54-99fa-d9fdd87745f9')\"\n",
              "            title=\"Convert this dataframe to an interactive table.\"\n",
              "            style=\"display:none;\">\n",
              "\n",
              "  <svg xmlns=\"http://www.w3.org/2000/svg\" height=\"24px\" viewBox=\"0 -960 960 960\">\n",
              "    <path d=\"M120-120v-720h720v720H120Zm60-500h600v-160H180v160Zm220 220h160v-160H400v160Zm0 220h160v-160H400v160ZM180-400h160v-160H180v160Zm440 0h160v-160H620v160ZM180-180h160v-160H180v160Zm440 0h160v-160H620v160Z\"/>\n",
              "  </svg>\n",
              "    </button>\n",
              "\n",
              "  <style>\n",
              "    .colab-df-container {\n",
              "      display:flex;\n",
              "      gap: 12px;\n",
              "    }\n",
              "\n",
              "    .colab-df-convert {\n",
              "      background-color: #E8F0FE;\n",
              "      border: none;\n",
              "      border-radius: 50%;\n",
              "      cursor: pointer;\n",
              "      display: none;\n",
              "      fill: #1967D2;\n",
              "      height: 32px;\n",
              "      padding: 0 0 0 0;\n",
              "      width: 32px;\n",
              "    }\n",
              "\n",
              "    .colab-df-convert:hover {\n",
              "      background-color: #E2EBFA;\n",
              "      box-shadow: 0px 1px 2px rgba(60, 64, 67, 0.3), 0px 1px 3px 1px rgba(60, 64, 67, 0.15);\n",
              "      fill: #174EA6;\n",
              "    }\n",
              "\n",
              "    .colab-df-buttons div {\n",
              "      margin-bottom: 4px;\n",
              "    }\n",
              "\n",
              "    [theme=dark] .colab-df-convert {\n",
              "      background-color: #3B4455;\n",
              "      fill: #D2E3FC;\n",
              "    }\n",
              "\n",
              "    [theme=dark] .colab-df-convert:hover {\n",
              "      background-color: #434B5C;\n",
              "      box-shadow: 0px 1px 3px 1px rgba(0, 0, 0, 0.15);\n",
              "      filter: drop-shadow(0px 1px 2px rgba(0, 0, 0, 0.3));\n",
              "      fill: #FFFFFF;\n",
              "    }\n",
              "  </style>\n",
              "\n",
              "    <script>\n",
              "      const buttonEl =\n",
              "        document.querySelector('#df-1ff0c670-fcc9-4d54-99fa-d9fdd87745f9 button.colab-df-convert');\n",
              "      buttonEl.style.display =\n",
              "        google.colab.kernel.accessAllowed ? 'block' : 'none';\n",
              "\n",
              "      async function convertToInteractive(key) {\n",
              "        const element = document.querySelector('#df-1ff0c670-fcc9-4d54-99fa-d9fdd87745f9');\n",
              "        const dataTable =\n",
              "          await google.colab.kernel.invokeFunction('convertToInteractive',\n",
              "                                                    [key], {});\n",
              "        if (!dataTable) return;\n",
              "\n",
              "        const docLinkHtml = 'Like what you see? Visit the ' +\n",
              "          '<a target=\"_blank\" href=https://colab.research.google.com/notebooks/data_table.ipynb>data table notebook</a>'\n",
              "          + ' to learn more about interactive tables.';\n",
              "        element.innerHTML = '';\n",
              "        dataTable['output_type'] = 'display_data';\n",
              "        await google.colab.output.renderOutput(dataTable, element);\n",
              "        const docLink = document.createElement('div');\n",
              "        docLink.innerHTML = docLinkHtml;\n",
              "        element.appendChild(docLink);\n",
              "      }\n",
              "    </script>\n",
              "  </div>\n",
              "\n",
              "\n",
              "<div id=\"df-9f86f1ff-3782-4bb4-870b-37753e05091c\">\n",
              "  <button class=\"colab-df-quickchart\" onclick=\"quickchart('df-9f86f1ff-3782-4bb4-870b-37753e05091c')\"\n",
              "            title=\"Suggest charts\"\n",
              "            style=\"display:none;\">\n",
              "\n",
              "<svg xmlns=\"http://www.w3.org/2000/svg\" height=\"24px\"viewBox=\"0 0 24 24\"\n",
              "     width=\"24px\">\n",
              "    <g>\n",
              "        <path d=\"M19 3H5c-1.1 0-2 .9-2 2v14c0 1.1.9 2 2 2h14c1.1 0 2-.9 2-2V5c0-1.1-.9-2-2-2zM9 17H7v-7h2v7zm4 0h-2V7h2v10zm4 0h-2v-4h2v4z\"/>\n",
              "    </g>\n",
              "</svg>\n",
              "  </button>\n",
              "\n",
              "<style>\n",
              "  .colab-df-quickchart {\n",
              "      --bg-color: #E8F0FE;\n",
              "      --fill-color: #1967D2;\n",
              "      --hover-bg-color: #E2EBFA;\n",
              "      --hover-fill-color: #174EA6;\n",
              "      --disabled-fill-color: #AAA;\n",
              "      --disabled-bg-color: #DDD;\n",
              "  }\n",
              "\n",
              "  [theme=dark] .colab-df-quickchart {\n",
              "      --bg-color: #3B4455;\n",
              "      --fill-color: #D2E3FC;\n",
              "      --hover-bg-color: #434B5C;\n",
              "      --hover-fill-color: #FFFFFF;\n",
              "      --disabled-bg-color: #3B4455;\n",
              "      --disabled-fill-color: #666;\n",
              "  }\n",
              "\n",
              "  .colab-df-quickchart {\n",
              "    background-color: var(--bg-color);\n",
              "    border: none;\n",
              "    border-radius: 50%;\n",
              "    cursor: pointer;\n",
              "    display: none;\n",
              "    fill: var(--fill-color);\n",
              "    height: 32px;\n",
              "    padding: 0;\n",
              "    width: 32px;\n",
              "  }\n",
              "\n",
              "  .colab-df-quickchart:hover {\n",
              "    background-color: var(--hover-bg-color);\n",
              "    box-shadow: 0 1px 2px rgba(60, 64, 67, 0.3), 0 1px 3px 1px rgba(60, 64, 67, 0.15);\n",
              "    fill: var(--button-hover-fill-color);\n",
              "  }\n",
              "\n",
              "  .colab-df-quickchart-complete:disabled,\n",
              "  .colab-df-quickchart-complete:disabled:hover {\n",
              "    background-color: var(--disabled-bg-color);\n",
              "    fill: var(--disabled-fill-color);\n",
              "    box-shadow: none;\n",
              "  }\n",
              "\n",
              "  .colab-df-spinner {\n",
              "    border: 2px solid var(--fill-color);\n",
              "    border-color: transparent;\n",
              "    border-bottom-color: var(--fill-color);\n",
              "    animation:\n",
              "      spin 1s steps(1) infinite;\n",
              "  }\n",
              "\n",
              "  @keyframes spin {\n",
              "    0% {\n",
              "      border-color: transparent;\n",
              "      border-bottom-color: var(--fill-color);\n",
              "      border-left-color: var(--fill-color);\n",
              "    }\n",
              "    20% {\n",
              "      border-color: transparent;\n",
              "      border-left-color: var(--fill-color);\n",
              "      border-top-color: var(--fill-color);\n",
              "    }\n",
              "    30% {\n",
              "      border-color: transparent;\n",
              "      border-left-color: var(--fill-color);\n",
              "      border-top-color: var(--fill-color);\n",
              "      border-right-color: var(--fill-color);\n",
              "    }\n",
              "    40% {\n",
              "      border-color: transparent;\n",
              "      border-right-color: var(--fill-color);\n",
              "      border-top-color: var(--fill-color);\n",
              "    }\n",
              "    60% {\n",
              "      border-color: transparent;\n",
              "      border-right-color: var(--fill-color);\n",
              "    }\n",
              "    80% {\n",
              "      border-color: transparent;\n",
              "      border-right-color: var(--fill-color);\n",
              "      border-bottom-color: var(--fill-color);\n",
              "    }\n",
              "    90% {\n",
              "      border-color: transparent;\n",
              "      border-bottom-color: var(--fill-color);\n",
              "    }\n",
              "  }\n",
              "</style>\n",
              "\n",
              "  <script>\n",
              "    async function quickchart(key) {\n",
              "      const quickchartButtonEl =\n",
              "        document.querySelector('#' + key + ' button');\n",
              "      quickchartButtonEl.disabled = true;  // To prevent multiple clicks.\n",
              "      quickchartButtonEl.classList.add('colab-df-spinner');\n",
              "      try {\n",
              "        const charts = await google.colab.kernel.invokeFunction(\n",
              "            'suggestCharts', [key], {});\n",
              "      } catch (error) {\n",
              "        console.error('Error during call to suggestCharts:', error);\n",
              "      }\n",
              "      quickchartButtonEl.classList.remove('colab-df-spinner');\n",
              "      quickchartButtonEl.classList.add('colab-df-quickchart-complete');\n",
              "    }\n",
              "    (() => {\n",
              "      let quickchartButtonEl =\n",
              "        document.querySelector('#df-9f86f1ff-3782-4bb4-870b-37753e05091c button');\n",
              "      quickchartButtonEl.style.display =\n",
              "        google.colab.kernel.accessAllowed ? 'block' : 'none';\n",
              "    })();\n",
              "  </script>\n",
              "</div>\n",
              "\n",
              "  <div id=\"id_c5fd1634-b20c-47dc-91e8-296e052279f9\">\n",
              "    <style>\n",
              "      .colab-df-generate {\n",
              "        background-color: #E8F0FE;\n",
              "        border: none;\n",
              "        border-radius: 50%;\n",
              "        cursor: pointer;\n",
              "        display: none;\n",
              "        fill: #1967D2;\n",
              "        height: 32px;\n",
              "        padding: 0 0 0 0;\n",
              "        width: 32px;\n",
              "      }\n",
              "\n",
              "      .colab-df-generate:hover {\n",
              "        background-color: #E2EBFA;\n",
              "        box-shadow: 0px 1px 2px rgba(60, 64, 67, 0.3), 0px 1px 3px 1px rgba(60, 64, 67, 0.15);\n",
              "        fill: #174EA6;\n",
              "      }\n",
              "\n",
              "      [theme=dark] .colab-df-generate {\n",
              "        background-color: #3B4455;\n",
              "        fill: #D2E3FC;\n",
              "      }\n",
              "\n",
              "      [theme=dark] .colab-df-generate:hover {\n",
              "        background-color: #434B5C;\n",
              "        box-shadow: 0px 1px 3px 1px rgba(0, 0, 0, 0.15);\n",
              "        filter: drop-shadow(0px 1px 2px rgba(0, 0, 0, 0.3));\n",
              "        fill: #FFFFFF;\n",
              "      }\n",
              "    </style>\n",
              "    <button class=\"colab-df-generate\" onclick=\"generateWithVariable('df')\"\n",
              "            title=\"Generate code using this dataframe.\"\n",
              "            style=\"display:none;\">\n",
              "\n",
              "  <svg xmlns=\"http://www.w3.org/2000/svg\" height=\"24px\"viewBox=\"0 0 24 24\"\n",
              "       width=\"24px\">\n",
              "    <path d=\"M7,19H8.4L18.45,9,17,7.55,7,17.6ZM5,21V16.75L18.45,3.32a2,2,0,0,1,2.83,0l1.4,1.43a1.91,1.91,0,0,1,.58,1.4,1.91,1.91,0,0,1-.58,1.4L9.25,21ZM18.45,9,17,7.55Zm-12,3A5.31,5.31,0,0,0,4.9,8.1,5.31,5.31,0,0,0,1,6.5,5.31,5.31,0,0,0,4.9,4.9,5.31,5.31,0,0,0,6.5,1,5.31,5.31,0,0,0,8.1,4.9,5.31,5.31,0,0,0,12,6.5,5.46,5.46,0,0,0,6.5,12Z\"/>\n",
              "  </svg>\n",
              "    </button>\n",
              "    <script>\n",
              "      (() => {\n",
              "      const buttonEl =\n",
              "        document.querySelector('#id_c5fd1634-b20c-47dc-91e8-296e052279f9 button.colab-df-generate');\n",
              "      buttonEl.style.display =\n",
              "        google.colab.kernel.accessAllowed ? 'block' : 'none';\n",
              "\n",
              "      buttonEl.onclick = () => {\n",
              "        google.colab.notebook.generateWithVariable('df');\n",
              "      }\n",
              "      })();\n",
              "    </script>\n",
              "  </div>\n",
              "\n",
              "    </div>\n",
              "  </div>\n"
            ],
            "application/vnd.google.colaboratory.intrinsic+json": {
              "type": "dataframe",
              "variable_name": "df",
              "summary": "{\n  \"name\": \"df\",\n  \"rows\": 10,\n  \"fields\": [\n    {\n      \"column\": \"human_baseline_summaries\",\n      \"properties\": {\n        \"dtype\": \"string\",\n        \"num_unique_values\": 10,\n        \"samples\": [\n          \"#Person1# and Kate talk about the divorce between Masha and Hero. Kate feels surprised because she thought they are well matched\",\n          \"In order to prevent employees from wasting time on Instant Message programs, #Person1# decides to terminate the use of those programs and asks Ms. Dawson to send out a memo to all employees by the afternoon.\",\n          \"#Person2# complains to #Person1# about the traffic jam, #Person1# suggests quitting driving and taking public transportation instead.\"\n        ],\n        \"semantic_type\": \"\",\n        \"description\": \"\"\n      }\n    },\n    {\n      \"column\": \"original_model_summaries\",\n      \"properties\": {\n        \"dtype\": \"category\",\n        \"num_unique_values\": 4,\n        \"samples\": [\n          \"The traffic jam at the Carrefour intersection is a problem.\",\n          \"#Person1#: Happy birthday, Brian. #Person2#: I'm so happy you're having a good time. #Person1#: Thank you, I'm sure you look great today. #Person2#: Thank you, I'm sure you look great. #Person1#: Thank you, I'm sure you look great today. #Person2#: Thank you, I'm sure you look great today. #Person1#: Thank you, I'm sure you look great today. #Person2#: Thank you, I'm sure you look great today. #Person1#: Thank you, I'm sure you look great today.\",\n          \"#Person1#: I need to take a dictation for you.\"\n        ],\n        \"semantic_type\": \"\",\n        \"description\": \"\"\n      }\n    },\n    {\n      \"column\": \"instruct_model_summaries\",\n      \"properties\": {\n        \"dtype\": \"category\",\n        \"num_unique_values\": 4,\n        \"samples\": [\n          \"#Person2# got stuck in traffic again. #Person1# suggests #Person2# start taking public transport system to work and suggests #Person2# start biking to work when it's nicer outside. #Person2# agrees.\",\n          \"Brian's birthday is coming. #Person1# invites Brian to have a dance and Brian compliments #Person1#'s looks. Brian thinks #Person1# looks great and invites #Person1# to have a drink together.\",\n          \"#Person1# asks Ms. Dawson to take a dictation to all employees by this afternoon. Ms. Dawson tells #Person1# all office communications are restricted to email correspondence and official memos and the use of Instant Message programs by employees during working hours is strictly prohibited. #Person1# wants to change the communication methods and Ms. Dawson tells #Person1# it applies to internal and external communications.\"\n        ],\n        \"semantic_type\": \"\",\n        \"description\": \"\"\n      }\n    }\n  ]\n}"
            }
          },
          "metadata": {},
          "execution_count": 38
        }
      ],
      "source": [
        "dialogues = dataset['test'][0:10]['dialogue']\n",
        "human_baseline_summaries = dataset['test'][0:10]['summary']\n",
        "\n",
        "original_model_summaries = []\n",
        "instruct_model_summaries = []\n",
        "\n",
        "for _, dialogue in enumerate(dialogues):\n",
        "    prompt = f\"\"\"\n",
        "Summarize the following conversation.\n",
        "\n",
        "{dialogue}\n",
        "\n",
        "Summary: \"\"\"\n",
        "    input_ids = tokenizer(prompt, return_tensors=\"pt\").input_ids\n",
        "\n",
        "    original_model_outputs = original_model.generate(input_ids=input_ids, generation_config=GenerationConfig(max_new_tokens=200))\n",
        "    original_model_text_output = tokenizer.decode(original_model_outputs[0], skip_special_tokens=True)\n",
        "    original_model_summaries.append(original_model_text_output)\n",
        "\n",
        "    instruct_model_outputs = instruct_model.generate(input_ids=input_ids, generation_config=GenerationConfig(max_new_tokens=200))\n",
        "    instruct_model_text_output = tokenizer.decode(instruct_model_outputs[0], skip_special_tokens=True)\n",
        "    instruct_model_summaries.append(instruct_model_text_output)\n",
        "\n",
        "zipped_summaries = list(zip(human_baseline_summaries, original_model_summaries, instruct_model_summaries))\n",
        "\n",
        "df = pd.DataFrame(zipped_summaries, columns = ['human_baseline_summaries', 'original_model_summaries', 'instruct_model_summaries'])\n",
        "df"
      ]
    },
    {
      "cell_type": "markdown",
      "metadata": {
        "tags": [],
        "id": "VsnqbGfcPAuD"
      },
      "source": [
        "Evaluate the models computing ROUGE metrics. Notice the improvement in the results!"
      ]
    },
    {
      "cell_type": "code",
      "execution_count": null,
      "metadata": {
        "tags": [],
        "id": "xRgXOxEPPAuD",
        "outputId": "7fc45d84-e782-4383-cc21-2aa5951a3346",
        "colab": {
          "base_uri": "https://localhost:8080/"
        }
      },
      "outputs": [
        {
          "output_type": "stream",
          "name": "stdout",
          "text": [
            "ORIGINAL MODEL:\n",
            "{'rouge1': 0.24089921652421653, 'rouge2': 0.11769053708439897, 'rougeL': 0.22001958689458687, 'rougeLsum': 0.22134175465057818}\n",
            "INSTRUCT MODEL:\n",
            "{'rouge1': 0.41026607717457186, 'rouge2': 0.17840645241958838, 'rougeL': 0.2977022096267017, 'rougeLsum': 0.2987374187518165}\n"
          ]
        }
      ],
      "source": [
        "original_model_results = rouge.compute(\n",
        "    predictions=original_model_summaries,\n",
        "    references=human_baseline_summaries[0:len(original_model_summaries)],\n",
        "    use_aggregator=True,\n",
        "    use_stemmer=True,\n",
        ")\n",
        "\n",
        "instruct_model_results = rouge.compute(\n",
        "    predictions=instruct_model_summaries,\n",
        "    references=human_baseline_summaries[0:len(instruct_model_summaries)],\n",
        "    use_aggregator=True,\n",
        "    use_stemmer=True,\n",
        ")\n",
        "\n",
        "print('ORIGINAL MODEL:')\n",
        "print(original_model_results)\n",
        "print('INSTRUCT MODEL:')\n",
        "print(instruct_model_results)"
      ]
    },
    {
      "cell_type": "markdown",
      "metadata": {
        "id": "sL-akZogPAuE"
      },
      "source": [
        "The file `dialogue-summary-training-results.csv` contains a pre-populated list of all model results which we can use to evaluate on a larger section of data. Let's do that for each of the models:"
      ]
    },
    {
      "cell_type": "code",
      "source": [
        "# download the csv file from my github repo\n",
        "\n",
        "# !wget https://raw.githubusercontent.com/Taha0229/GenAI_with_LLM/main/README.md\n"
      ],
      "metadata": {
        "id": "40sRpfLYdvWo"
      },
      "execution_count": null,
      "outputs": []
    },
    {
      "cell_type": "code",
      "execution_count": null,
      "metadata": {
        "tags": [],
        "id": "XY0wS3hcPAuE",
        "outputId": "ea6bd337-c021-4915-a7e6-82f8323b9416",
        "colab": {
          "base_uri": "https://localhost:8080/"
        }
      },
      "outputs": [
        {
          "output_type": "stream",
          "name": "stdout",
          "text": [
            "ORIGINAL MODEL:\n",
            "{'rouge1': 0.2334158581572823, 'rouge2': 0.07603964187010573, 'rougeL': 0.20145520923859048, 'rougeLsum': 0.20145899339006135}\n",
            "INSTRUCT MODEL:\n",
            "{'rouge1': 0.42161291557556113, 'rouge2': 0.18035380596301792, 'rougeL': 0.3384439349963909, 'rougeLsum': 0.33835653595561666}\n"
          ]
        }
      ],
      "source": [
        "results = pd.read_csv(\"dialogue-summary-training-results.csv\")\n",
        "\n",
        "human_baseline_summaries = results['human_baseline_summaries'].values\n",
        "original_model_summaries = results['original_model_summaries'].values\n",
        "instruct_model_summaries = results['instruct_model_summaries'].values\n",
        "\n",
        "original_model_results = rouge.compute(\n",
        "    predictions=original_model_summaries,\n",
        "    references=human_baseline_summaries[0:len(original_model_summaries)],\n",
        "    use_aggregator=True,\n",
        "    use_stemmer=True,\n",
        ")\n",
        "\n",
        "instruct_model_results = rouge.compute(\n",
        "    predictions=instruct_model_summaries,\n",
        "    references=human_baseline_summaries[0:len(instruct_model_summaries)],\n",
        "    use_aggregator=True,\n",
        "    use_stemmer=True,\n",
        ")\n",
        "\n",
        "print('ORIGINAL MODEL:')\n",
        "print(original_model_results)\n",
        "print('INSTRUCT MODEL:')\n",
        "print(instruct_model_results)"
      ]
    },
    {
      "cell_type": "markdown",
      "metadata": {
        "tags": [],
        "id": "yMTEouIrPAuE"
      },
      "source": [
        "The results show substantial improvement in all ROUGE metrics:"
      ]
    },
    {
      "cell_type": "code",
      "execution_count": null,
      "metadata": {
        "tags": [],
        "id": "_inQQiloPAuF",
        "outputId": "b5a580b9-b55f-4974-e642-92db6e7fcdfe",
        "colab": {
          "base_uri": "https://localhost:8080/"
        }
      },
      "outputs": [
        {
          "output_type": "stream",
          "name": "stdout",
          "text": [
            "Absolute percentage improvement of INSTRUCT MODEL over ORIGINAL MODEL\n",
            "rouge1: 18.82%\n",
            "rouge2: 10.43%\n",
            "rougeL: 13.70%\n",
            "rougeLsum: 13.69%\n"
          ]
        }
      ],
      "source": [
        "print(\"Absolute percentage improvement of INSTRUCT MODEL over ORIGINAL MODEL\")\n",
        "\n",
        "improvement = (np.array(list(instruct_model_results.values())) - np.array(list(original_model_results.values())))\n",
        "for key, value in zip(instruct_model_results.keys(), improvement):\n",
        "    print(f'{key}: {value*100:.2f}%')"
      ]
    },
    {
      "cell_type": "markdown",
      "metadata": {
        "id": "4FuMglfvPAuF"
      },
      "source": [
        "## 3 - Perform Parameter Efficient Fine-Tuning (PEFT)\n",
        "\n",
        "Now, let's perform **Parameter Efficient Fine-Tuning (PEFT)** fine-tuning as opposed to \"full fine-tuning\" as we did above. PEFT is a form of instruction fine-tuning that is much more efficient than full fine-tuning - with comparable evaluation results.\n",
        "\n",
        "PEFT is a generic term that includes **Low-Rank Adaptation (LoRA)** and prompt tuning (which is NOT THE SAME as prompt engineering!).\n",
        "\n",
        "In LoRA we freeze the LLMs weights and inject 2 rank decomposition matrics and only train weights of these smaller matrices. The key aspect here is to choose a rank, r for the both matrices to perform matrix multiplication. The result of the matmul should be a new matrix with dimensions equal to the weight matrix of the LLM. Finally, the resultant matrix is added to the original weights.\n",
        "![LoRA.png](data:image/png;base64,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)\n",
        "\n",
        "\n",
        "\n",
        "LoRA, at a very high level, allows the user to fine-tune their model using fewer compute resources (in some cases, a single GPU). After fine-tuning for a specific task, use case, or tenant with LoRA, the result is that the original LLM remains unchanged and a newly-trained “LoRA adapter” emerges. This LoRA adapter is much, much smaller than the original LLM - on the order of a single-digit % of the original LLM size (MBs vs GBs).  \n",
        "\n",
        "That said, at inference time, the LoRA adapter needs to be reunited and combined with its original LLM to serve the inference request.  The benefit, however, is that many LoRA adapters can re-use the original LLM which reduces overall memory requirements when serving multiple tasks and use cases."
      ]
    },
    {
      "cell_type": "markdown",
      "metadata": {
        "id": "mDD46eW-PAuG"
      },
      "source": [
        "### 3.1 - Setup the PEFT/LoRA model for Fine-Tuning\n",
        "\n",
        "We need to set up the PEFT/LoRA model for fine-tuning with a new layer/parameter adapter. Using PEFT/LoRA, we are freezing the underlying LLM and only training the adapter with the following LoRA configuration below. The rank (`r`) hyper-parameter, which defines the rank/dimension of the adapter to be trained (as discussed above)."
      ]
    },
    {
      "cell_type": "markdown",
      "source": [
        "Validation loss with respect to the different r values. As we can notice that higher r values doesn't gurantee better performance. However, recommended range is from 8 to 64.\n",
        "\n",
        "![image.png](data:image/png;base64,iVBORw0KGgoAAAANSUhEUgAAAngAAAEqCAYAAACGOS1bAAAAAXNSR0IArs4c6QAAAARnQU1BAACxjwv8YQUAAAAJcEhZcwAADsMAAA7DAcdvqGQAAN5rSURBVHhe7Z0LvFZT+vg3MYz6YWLGhC5DuTMpQqkIEZJMLkW6IFIkTKZJKEqFMijUyKhpCt1ULhFy6S6XQqiRcRkGI7eZP8PM/q/vc9Y6Z7377P2++33POe9ln/X9fPZ5z177vey9Ls961lrPep6tfIXncDgcDofD4UgMW+tXh8PhcDgcDkdCcAqew+FwOBwOR8JwCp7D4XA4HA5HwnAKnsPhcDgcDkfCcAqew+FwOBwOR8JwCp7D4XA4HA5HwnAKnsPhcDgcDkfCcAqew+FwOBwOR8JwCp7D4XA4HA5HwnAKnsPhcDgcDkfCcAqew+FwOBwOR8JwCp7D4XA4HA5HwtjKV+j/s+KXv/yl949//EOfORwOh8PhcDhyBb3q448/1mdVJ2cF79Zbb/W+/fZbfeZwOBwOh8PhyJV69ep5V199tT6rOjkreA6Hw+FwOByO4sTZ4DkcDofD4XAkDKfgORwOh8PhcCQMp+A5HA6Hw+FwJAyn4OWZf/7zn/o/h8PhcDgcjprBKXh5pmHDht53332nzxwOh8PhcDiqn1ql4H3xxRf6v9pNtvmwZcsW/Z/DUT3873//0/+V8eOPP+r/HMVObS2rfD932O/98MMP+r/ax3//+1/9XxlOZmQmb25SJk2a5M2bN6/cd95PfvITb6uttvJ+9atfec2aNfNOP/1074ADDpBr1cn/+3//z7vjjju8Rx55xHvjjTe8r776Sl8pDDvssIMoWNtvv71OyQ9//etfvSlTpniPPvqot/POO3svvPCCvhLOv/71L2/ixIny/uXLl8usY506dfTV0oU8WLx4sffRRx/Jed26dT2awE477eTtueee3m9+8xuvffv2cg24hs/Hxx57rHzmtV27dt7555/vHXjggXJu8/e//9276667vGeffVanlP0GdR2lhvrId3JOvr788svetGnTvFWrVsl7uY+TTjrJu+KKK+Qcnn76ae+Pf/yj995773n/93//55155pneRRddpK9WP+QNz7xy5Uo5v/HGG73jjz9e/je89dZbkpc8A/WC63379vUeeughyV/Tzo888kjJ06OPPlrOec6rrrrKe/fddyX/eN7DDjvM27Bhg/fAAw/Ie84991y5HocFCxZ4P//5z/VZ4bjzzju9p556yvvss89EtlFfKPcoxo0bJ/IQjjjiCClP8mDGjBneJ598Iul8Dwf85z//kQN4L3mdTT5NnjzZmzlzZux6GYQ6SHkjP7fZZhup53vssYc3dOhQ76ijjtLvKhsM3n777d6SJUvKlfjttttOnqNp06be/vvv75199tneL37xC7lW01T1fuI+N07/yeMnn3xSFA/axAknnOBdcskl3m677Sbv2bhxo/RFL730krf11ltLm7nmmmukTzCsX79e2ttzzz0ncrpJkybyXfvuu6+37bbbyufGjBmTtZxJx+rVq+UZX3/9dTmnPZ166qlev3795LyQ/PnPf5aDvMMJ8E9/+lPvZz/7mXfIIYdIG3v88ce9NWvWSFt65ZVX5DNcJ+/POecckZumTICyJ0922WUXkT/HHnusd8wxx8g1Q3XmbcFRN5o37rvvPpRJv3Xr1r7Sxv3vv//eX7Fihd+2bVtfZZavhJ5+Z/WiBKN/6KGH+vXq1dMphUNVUF9VEH2WX77++mv5fdXZ6pT0qEbhK2VHyoz/k4ISovJMSoD6qsHK8f777/tXXnmlpHfr1q3S81I3udahQwedkp6TTz5Z3v+HP/xBp5RBvX/++eflt/nfoDoaef+DDz6oU1L58ssvpeyeeeYZnVLzKCVC7kkJQ3/z5s06NRWlwPkDBw7UZ2WozkI+16JFC51Shhpk+EpB9VUH5f/www+StnbtWn/vvff2W7VqJeegOl7/6quvlt9UiqKvFGD5vp49e0rbUZ2prxRJyQ++s1igbLhPDtWR69TK8EyUP+/bb7/9dGoZqrOV9F133bVSHfznP//pX3DBBf7w4cPlPJd8yrZeIjsHDRrkq07TnzNnjk4tQymMUp4jRoyodK/cA7/zu9/9Ts6/+eYbf+7cub4aRMln8lmPIdv7yfW5lUInv9O/f3+dUhn6v+uuu06flUGejxo1yleKp9+nTx//iy++0Fd8XymX0sb43ssuu0ynlpFteUZBX2zqJJ8rNB9++KHoBfTZ5LeRF6CUX3+vvfaSe1WDUUlDhjds2FDS1KBP0gyXXnqppA8YMEDOKXv6gN/+9re+GmD6StHzly1bJtdsqitvC0lel2h33313eWW0xEiEURQjfGbXGJ0MGzasWsN0GPhuVSH0We1FCaXyMogDI0dGuUmDETgwi8oojAPbyNtuu83r0qWLN3v2bG/hwoXyHgOze8D74mDezwyVDfVeCS6ZATQzMmDKJap8+B5mu3/961/rlJpHdUQyi8DGoDPOOENGrkHUwMk7/PDD9VkZJn+DefWXv/zFU8LVU0qKzIaAUgJlFG6bATBrccstt8grI2czi0V9pMyQH8xiMjtSTPaslLmZTRw/fnylJSXDn/70J8k3MHllMPUGj/Y8r039+vVl9sZ8by75lG295PdUByczPNQBG2ZImOm9/vrr5T5sTD1m1gV4nq5du3r33HOP1AGlqEh6vsj2fnJ9blOe6eRs8+bNK7VjVrjo/5QC6k2dOlVmoQw77rijzBArpdH797//rVPLyLY8o6DumFnMuDKuplB6iderVy/vxRdflBlU8tvIC2AFRSnkkkcmP5DhDRo0kP+D92/SzStlf9BBB8ksOrN/lD+zeEuXLpXrhurK20KSVwWPQgiDgkJIYV/w5ptv6tTqJeq3axvZ5kMS840GGgUDDli3bp28Gsxn4uZHut8AOg97md58b7rv/+lPfypLDPmEsDkocCx/hC3Z0Plw2ETllYldzVKmDSYaCEyjuNDJxeHCCy8UpadY4LlbtWol+cVy+sMPP6yvVEDnhVJx6aWXynkwjzLVm1133dUbNWqU/J9LPmVTLzHrGD16tMjmoJJj6NOnjygG3JM9OI+qxyj0gJzPpz1ZNvdTHc8d9XsQbMcffvih9/vf/14GByh5UYwcObJS+WVTnpkw35Xu3vMBy9godgxOaE9hNG7c2Lv44otTFN6o+0/3PMgezCJ+/PFHMX2wB7HVmbeFIv0T5AlGlwhECM60rV271rv88su9G264wTvrrLNkRGXgc9iIYY/CjAt2Fp07dxabnunTp+t3hTN37lwZwVFJZs2aJYI3DDT0Bx98UGYZ4Msvv/Tuvffe8tmImgZbOBo994qtyPPPP6+vlMUDJn3OnDlyjqDBpgNB0LNnT2/IkCE1NsJAINL5Y4tCuYwYMaLS6BL7soEDB0pD+O1vfyuzGgYaFMKRUTDplDH2J4XG2KEcfPDB8loT8My5UAjBiwCjrWBHhC0MZWnDPcW9rzZt2sgrgpTvtLn77rvLZ6yOO+44ec0ENrtmRqZYIC+o6xCc3QHshlAAzWxCNmAbacu/6s6nYL1E7iFjKbeoMmZ1hNkobC6Ro5nAzhCYZeGzhSbsfmriuW2C30lfRV9y4oknls/ChoFyTzuJS65yptCg4MF5550nr1EMHjzYa9SokT7LHeyDKetNmzaFDsrCCOYtM4H0degJ2BKz+oG8LDQFV/BY/qEgUUTIIJahDBhyM7Lv1KmTKHjDhw+XWQTTOWCM/MQTT3j333+/bAjAgJuRMUarjLAYiUVBA+Z9CGGmgKMaMsaWHTp0kO+fMGGCKHfdu3eXZbybb75Zv6vmYOkFg3umpFF2mZ42sJyIYMCIndkP8gquu+46WQbiqM7AxQY6qdNOO8278sorJQ/If8qBZScUYPj666+l3FA4Bw0aJO/lPYaxY8d6f/vb30Qx5BojWrPxIV9gMIvxNMuD1DXyDUN0lrRQnKsDvp+ZK44PPvhA8i7bDqHQsFRBfadToz4FlzLiwkCAGREGLdRZDmYvIF3HVmrwjAxUGeDQbm0w+KdjygTt2dQb5ByKyLXXXlttA7Y49dIMdjKZtxgzjrffflteo+D6gAEDZGYkTPnNN1H3U93PnQmzWsBGikwEl+0NSZAzwP2bjUOZzIOYQcWEpDowg6WwSYZMectmNPQTdAQmftikwYSR2fRRSAqi4KGooCShODENTqVFacPOwGbz5s0i6JiOBWZVUMpYmwc+y04yYA2dmS6UCpQGPrds2TK5FoTdTu+//75MzQaXl2z4DhRQps6Zvn/ooYekg6OjYycs958P+H0UVxRWu9Jgu2h2W1IJmcEzjYI8ZabA5FV1wSwds54o0MbOBCWUyv3OO+/IUgMww/fpp5+KogfMWHTr1k3+B3bxGmUQUAJRuPIJeYZyjzLHjjZ2r2FXYe9grSqM5lAYOShDOvdSdNfDKJfZO2ZeUdQQdNlCR0obYlBAO6bNs4sxm1mJUoC2Z5Q47HwMKA7kQZzZYeSOqTccDH4ZfFQXceol7Rky2WSZQTkzIEGYxaC+sKrC4JQd6sx2kFYI4txPdTx3NuDdAaIUSgbG2KRRbzhQ9IOuq5IiZ9iFbshlljtXzG+FKeuZ8hazHvpE4HtY1VqxYoXYdBeagih4bE9meRFNlyluXKSEzZigrKEgsMTA63333ScdjL00aqbV2UBgMAaqwUaAVs0sIMvBcexXUEAYjaPoUWAoIQhvbCiYxQi6jqhJGGny2/YSDbZM5BFgY0OlY/mL+0X5YyRU3cvIbPFn1iU42sSWZe+995bfhf32209GVyjeNBDy3rbholEwHU7+omwzS3TyySfrq/mBesKUOmXJM6F0kqdswUcRqQ5YemYLPwdmBMwUYmRdimDkjT0XQphyYxY8W6jDtD06tY4dO0r7R2iW6nJSFJiN4IoBlzFmhgYFmdnqODA7YerN/PnzxSapOhW8OPXSbBhgoJYOZmQhbGMBqwy4xWHA9/3330vnaOzeCkGc+6mO584G01+h1IeB2yQmLRggIONvuumm8s8YkiJnbFMC+oV8YfrJsAmfOHlrbCpbtmwpr8VCQRQ87HpoRIzgmf1hVx2zemFg9EiHwNIoy4JxlnKilluZIUJQoiiapaF0IKApMJZaqABmCbQQoAAhnJh1RLAwLcw6Px2mgZ1G2C8wi7bPPvvUyA5YM7o1M3M2jGhR2un4Ue7wUcb99e7dW2wc7FkfZlsZldJomMUxdheFhFkqDOBZBkMZrQkjcOomtpFBjIBIN4vJ4CbfmyyCMFOLco6ij2IWZbuaCWbfUX5Y2gA6rWKwwawumKEkf4DB7Oeffy6z7yi1uYKNVk112mH10vh5zLQEiakFMDAKwsAbP3+0K2bMkeH2zH2+iXM/VXnuOO0YuWIb5zMYBny9RWEUn3QrTjZRcqbYwc6QA0xfkw9Q2sBssktHKeVtQW3wmJnDESFKHLN4rHHbkOlMSbMUiuGycUGQKygbGNDSUTIDwQguDszwoCwFXRrkG2bxUKx4BmbFmCUwoFQxW4a9DvZtKE01gckDsynGhplNrhvhhUKM7RAdHc402RFlypiZV2wE2STDZ5gdZXNIoTENHOGPiUA2sESeadQPOOEEuwNB4QF+Nwo6DdtdQCFggMWmHpYisL2kLsYB+0oGVkGYuWMWmmfDuWuSYFmVtsDMGwMaZkCjBp9xQGlkoMQAJNu6GYdgvTzllFPk1dikRYFDWJae0236wPSBJS46bcwiWGUoJOnupyrPHacdMwtnlBgwqzAsxUYNKnOpN2Fypqq8+uqr+r+awwyCWDXLB5gdsfKEfkFdiENN5G1NkFcFz4z27VE/GcoUKDNqKF22ETEdPo3BHvXSEHOdNQDsKlCOzAxEHFDw7M0NhQJFF8UNW0UUPdtGZNq0aWJvh6JsqGpehYHtCorcokWLdEoFdDqm4mP/yNIUSwnM+tCAUD4xUAX8PgHLsggN8jdMAagJ0uWJabB0zEZYQ5x8ZEOJUcAyvZ+lSdv3lvGLZaJHBEGhtjcg5QPaYphRP0tSKHkoe2GKvnl2Ow/YhYuNI88dxMxKRQ2gwr6vGAnmF8uszFIzoGSZ1d4VGPVMcZ6R2e4wA+44+ZTp++16iTKJfOa3kJdhMEBjJgtZanz7Qdi9sMEEu2Bmbmkr+SSb+6nKczObhzIW1Y75fSYu7KhNyGyWYZnBY2YxG+znCSMoZ9KR6bsYrLOJoKbBRQ3yl8mfdLa+DBpZajeElTGkey6uYXPNDDvmT7binSk/ssnbQpFXBc/YxAWX91jCYLmRsB8YK5qMZeoc7RrhyP8s0yIsmSWhQBj1G4FKusH4srHddqDsmFEaYVjYLIFDyUw7YfkMihMhTYoBBAoKUXCkYZYZzBZ/FCnsnFCQWdI1I0ryyx4l8j8NJXiY7zP5az7DKAc7RoSfHcoFQcjnaJxAediualD8WI4329q5PzObx8wESnx1bHmPg8kL6oepE4DNorET5DlscwCTH2F2MtRnZmeYDTD+xsz77TpoYKYPoY6zTQPL2Cyr03kHZ7LIVwY/xv1GvsAGJkyBA8I0BTdFGUz+2rMYKL7M2rK5yrbdo57QwWK/GWXTSh2GdLMixUBYfmHvxSwPs+/28rqpR8FnMvUmzKk08o4OlmXtMHkUJ5+yrZd4DkDhwe1S0KyF+o7NLxsVjG8+Q5is5/nZjY3pCwbozADni2zvJ9fnpg3TlhngBo3skaXUfzabGdtxA7+Nkkd9oT8MKhfGHi04k5dNefJeW8abw/Sd5rvCZJyx92aSoaZhUyWrO0C/EDaTh/kP8tAehIfJHTDnxmbSgNcNzJ6Y8DFO7m2yyVuTh7nYJdcoqiLlhcmTJ5eHY1LC3h8yZIivtG991ZeQI2qUL9dVRfLXrFnjq0rlK6VA0lq0aCFhjbp27SrnZ555pr9p0yYJK8V58+bN/SVLlvhvv/22r5QJSVOjJP/JJ5/077rrLgn9Q9qwYcN8JYQlXTUWSTv33HN9pTTpO0lFjbYkfIwqUJ1SNX5axVBlqrLKc6kKpVPK+Pvf/+6ryi7Ps/vuu/szZsyQECucH3zwwb5SwHzVMci5Gh35EydOlHA4r732moTrCR6q8fhqNFmeb0rwSN4a+HzTpk3lO5VAKi8Pw9KlS/0GDRpIWKVFixb5F154oT906FB91fdPPPFE/5hjjpFQSoSwU527rxRSfbXmUILDV0JDnomDvOQ+yKO99trLP+WUU/ynn35av7ssBI4S9uV5qzpr/7DDDpMQbm3btpXPUJ+5xrNSDoQhopxJ23HHHX3VUchvmt/hO7imlFz9K2VQL5WQ8ZXw94844gi/V69evlKkJMzeE088od9V85hnIBwTz3HttddKWhiXXHKJrwZg8j91UymoEvqH56tTp460czVwk+vk7WmnneYfd9xxUhduuukmv2XLlpKPtLMgfJ8SvOV5rzpkuZeotlooqCPjx4/3mzVrJvepOniRXwbVqftqUKrPfJFHJo+QQYTIQxbOnTu3PDQgB/KSvEKeHXnkkb4aXEm6HdYN4uRTVeolskYpMr7qeH2l2EiouT59+kjbobx5foNSpKRcd9ppJ/muX/7yl/7YsWMl3aAUevktDjVg9T/55BN9pfqpyv1k89w23377rdR7+g3KsEePHpLPSvkTWRn1OVCKnoTu+9WvfiUyFbnbuXNnKR/CnynlUt6XS3lSz8JkvVJyy8MSciC3aZN8D/0uIblIp14pJUm+Kx/87W9/E3lBPiInzjvvPF8pwVL/aW8/6PBlhJm74ooryu+fe6aN0WfffPPN5X0YYc9oX+QT/Q26xMiRI/0PPvhAvseQbd4Stsy0W2S1GoTpbyo8W/FH3VjRwuYGNHBVEeVcNQ4ZdWTawl5dkD1ME1fX7BKzVYy0jZ1aLvD5MA/+zLJxryzlmZEeo0/spezNGNUJI0vuhfAvNoxo+E1GrbyHJTrbQJh0ZsiYjWWq277n2g4jTVziUPdZtrRHqcUGdY7yC+7qC4MlLePyiBkVlsNpV1XdhejID7Rplumon5iKBEM4JZVcn5u2wYwupiks/eF5QCkG+mp6kOPIbqVkSLQFVj9qK8y6snzN7BiyIt+mKqVM0St4SaM6FDyHw+FwOByOdBR0F63D4XA4HA6Ho/pxCp7D4XA4HA5HwnAKnsPhcDgcDkfCcAqew+FwOBwOR8JwCl6ewYcd/pccDofD4XA4agq3i9bhcDgcDocjYbgZPIfD4XA4HI6EkfMM3k033RQawsPhcDiKCRxxmzBeDofDUawQMOD3v/+9Pqs6OSt4xMx0Cp7D4Sh2iDxANByHw+EoZlDwBg4cqM+qjrPBczgcDofD4UgYzgbP4XA4HA6HI2E4Bc/hcDgcDocjYTgFz+FwOBwOhyNhOAUvz7zzzjueM3t0OBwOh8NRk7hNFnlmhx12EJcN22+/vU5xOBwOh8PhqF4SOYNXG3TWXJ7xf//7n/4vPf/973/1f7WLTz/91NuyZYs+S6Wm8yRu2RSKYnn+XOp9IXzgVbU8f/jhB+/HH3/UZ5mJ84zp6rdN0n0G1nRby+X7o/K82OVCTVMdz5/OnVvc76/u9+WLRCl4ZO6sWbO8/fff3/v+++91arJYsWKF17FjR+/JJ5/UKZmZN2+e9+tf/1pi4DZp0sS7+eabK3UedOC33nqr17hxY+8nP/mJt++++3pz587VV5PLe++951100UXeeeed5z3yyCM6tYx//vOf3mWXXeYNHjzYu+aaa7yTTjrJu//++/XVaG688UbvqKOOCj24ZiDPOd9rr72kbCij+fPn66uFp5ieP27bphzt3zvkkEO8Dz/8UF+teebMmeOdeuqp4qy0T58+3h//+Ed9JT7/+c9/vMMPP9x74IEHdEoq2TxjuvoN48ePT/kufvfhhx/WV5MDCjPO+c8++2xv2LBhXs+ePb0XX3xRX40mbl3O5vvj5HkcmZ1kXn/9de+4447z/u///s/bddddvQsuuEDkUbY89NBD0pcFefPNN70TTzxRvp/j3HPPDR38xO07R44c6f32t78VWXn66ad7jz/+uL5aYFiiTQKvvfaarxqYv/POOzPE97/77jt9pbj46U9/6v+///f/9Fl8PvroI/+ee+7xVQcnz/fEE0/oK+m59957/Xbt2vkTJkzwVafj//KXv5TPq8qo31HGVVdd5Y8bN87fsGGD/9RTT8nvbLvttnKeRJTC4F977bWSH0oI6NQKVKP1W7du7U+aNEmn+L4SAP4vfvELXzV6nVKZf/3rX74SSH6bNm38c845J+VQQsL/85//rN/p+0qo+Koj8P/whz/4/fv3l+uUzaJFi/Q7CkcxPX/ctq06VL9p06b+McccU34oBVVfrXlmzpzp77jjjv7f/vY3Of/22299pbzK82XD1VdfLc+plEOdUkHcZ8xUv+Gbb77xmzVrlvJdp5xyiv/111/rdySHiy++2D/ssMN8pYjJ+auvvur/7Gc/85cvXy7nYWRTl+N+f5w8jyuzkwrtnf5n9OjRcrRo0UKe/8gjj/SVcqXflZkPPvhAymDPPffUKWVs2rRJ8vyZZ57xlaLnDx8+XL5fDYL0O8qIWw7Ise7du+sz31fKqa+URn/GjBk6pXAkRsEznHXWWVIISVPwDHS4PF8cBe/f//6336VLl5RG8Y9//MP/+c9/LsqbyaO//vWv0jnZLF26VH7n/vvv1ynJonfv3pIHK1eu1CmpIKB5fhqrTefOneWzUfzpT3/yn332WX1WwcaNG/2f/OQn/pdffinndNTXX3+9/G9A4Gy11VYiVApNMT5/prbdtWtX+Z1C8P3330sHcMkll+iUMugcaPNffPGFTkkPeXDppZfKc4YpeHGfMVP9hvHjxye2fdugMJCfs2bN0illIBtRGqKIW5ez+f5MeR5XZicZFKaPP/5Yn/mSFx06dJA8pn3EgQFOjx49JC+DCh5lQD7boGg3btxYn8UvhxdeeEHuKzgo7datm7/77rtXqa+vDhJng8fyYpLJ5vnWrFnj3XDDDV6dOnV0iuf94he/8FRHKUsK77//vqSpjslTo1L536AqsryyfJA0WGZUwtsbMWKEd8QRR+jUVExoq8WLF8urgaWD3XbbTZ9Vhul5JSz0WQWzZ8/2jj/+eAmbBW+88Yb3u9/9Tv43HHvssd4BBxzgqRGmTikcxfj86er+W2+95a1atcp77LHHPKWc6tT88eijj3qffPJJpWdv3769p4R8rKXtLVu2ePfcc483ZMgQnZJK3GeMU79Vx+XdfvvtsoSrOs1EL//dd9998kpZ2HCuFGDv5Zdf1impxK3Lcb8/Tp7HldlJBXs58pw+yUBe9O/fX/6PKxtvu+02MUsw/ZjNxRdf7KlBlz4rg/fZfV3ccnjqqafkde+995ZXA8/w97//XeRCQdGKXmJgmpXHSuoMHqN6ni/uEm0YqmOVJQaWIKJg2lp1NPosObCEohQUf5tttvE//fRTXykavhLAlerLf/7zH181Wn/77bcvH52xRL7PPvvISC5bWGZQHYE+i4YRf9u2bfVZ4SjG50/Xtvv16yfXzNGyZUuZhcwXl19+ufzuK6+8olPKoI2RrpQFnRLNhRdeKLPpH374oXwmOIMX5xnj1u+//OUvKd/F7OPDDz+sryaLQw45xFfKmD6rQHW+8uxK6dIp8QjW5bjfX5U8jyOzkwz9HXn29NNP65RoaBODBw+W/2lTwRm8ILSTX//61/4777yjU6IJlsP5558v97V+/Xo5N2AWQfqoUaN0SmFwfvBqIWvXrvXOPPNMcdkSRHUEYkjKqBQj16TBiEspKDIaw3AXY/hTTjlFDHmnTZum3+V52267rbdw4UIZpXfu3Nnr0qWLzJ4wIuez2fDuu+9669atk+9IB3mP8W+vXr10SuEotedngxBG7XfccYd36KGHSh1nRL569Wr9jpqFZwQzq2OgjZGXmWZeqHutW7eWDSdRxHnGuPW7W7duMgtIGuXLZ5AJEyZM0O9IDpRNsFxg5513ltdsZsXC6nLc769KnqeT2bUBnp8NgMFZ0iDIEDY8sOElDkox80444QRpT2GzfUGC5dCwYUN53bBhg7waTNl//PHH8lowtKKXGNwMXnowMMXwlFmCINg9DBw40FeVXX4De6jZs2frq8lAKa/ybEOHDtUpvhg4M3O09dZbV5qBUZ2npPMZjKgx3M2WMWPG+EpZ1mfRTJ061VcddlaGxDVNMT1/Nm2b2UZmsZhxzAfYDXJvn332mU6pYJdddpFZtSg2b97sK6VWn/mRM3hBwp4x2/ptWLZsmdwjsxNKYdGppQ+bhZBjBx54oE6pgFkX8urss8/WKZkJ1uWqfH/cPE8ns2sDzEqzsWjBggU6JZorr7zSX7NmjT5LP4OHzSQ2xUo5l3Ki3+O3oggrB36L8leKZ4rcMrbybA4rJE7ByzOFVvBOO+00/7HHHtNn0UycOFEMidnxlSQGDRok+ccmEpvFixdL+oABA3SKL1P2NPrnnntODHa53qhRo6yVHJbS7N2oYWCwzdKP2YFZDBTb82fbtq+44gp5PzvQaxqTP2GdsBrty27aMOgUMMi2FcO4Ch4EnzGb+h1k/vz58p5i2P1XnWDsjoIQhMELz9u3b1+dkpmwulyV74+T53FldlLBu8OwYcP0WTSPP/54pSXROEu077//vgyAci0HBlV16tTxjz32WLlXzDX4n++jfAuJW6KtRajK53Xt2tXr1KmTTonm0ksvFcPWjRs3pnUUWWooYSyvqu7Lq0E1cHkllBx8++23Ykh9ySWXeO3atfNUw5clMpZb+vXrJ++Jw+bNm71XXnlF8j0KfLwNHDhQlsWVAqVTC0sSnh+DaMjHMokxslaKqrwaMKSn/ahORqekMnnyZPF7h887DMM52GgBbHDhPLj8YxN8xrj1OwyWDYmwU/BlpWqGsgmWC5iNRFFlEySqLlfl+zPleTYyO4m88MIL3l//+tcUn4NhUN/x2cmmCNOOOFhO/+abb+R/5EsYLLPif5NNXK+99ppOTSVdObBZjA1QSpkUn3vDhw+Xds8yLb5DC4lT8GoJOInFoWPv3r11SmZwwoltSXDHUSmzzz77yGtQoO64445iK/Wzn/1MzrE/Q5np0KGDnMNVV13lnXzyyd4TTzwR25E2DkzbtGmTsissyNChQ0XBad68uU4pPEl4flOWTZs2ldeaxDhT/eijj+TVwE46wL4ujK233loiTLAz0xzskgXsfTinHKIIPmPc+h0G90J7b9asmU5JBpQNO5TZzWyTqWyCRNXlqnx/ujzPRWYnCexxcVQ8adIkb6utttKp4TBIxM4URc1uS+xYplz4H7kVxW677Sb2r2FyKk450P569OjhnXbaafKbKKY4Pt5uu+30OwqDU/BqAXTWuHAwW80NVMJ0s3N0Ehi1ZmpcpQTb1xlZPf/88zqlDEbgbH9v0aKFnG+zzTbyam+TB2a16Cjj5gmdwm9+8xt9VhkMgjGCD7qzSCeM8kESnh+D9qOPPjrUAL664RmYiWEThI2pZ927d5fXILhsIDqNfRgFjw0SnONxP4rgM8at32EgI5hNjKvwlArUP6INkJc25BEdOu554hBVl6vy/VF5nqvMTgpsXLnrrrtkAwpKsIHBELOoQZBTpv3YxxlnnCEbjvif8ouCGUC+O7iJI9tyYNYWl2PMmEe5O8oniVPwWFqC4GgqKaR7PkYOzILYIY7wt0ToHGZcxo4dW35cccUVshTEbiAUuTvvvFMquIHfYeRCI0sSdH40vAcffLB8hA34K0IYszQNdJT169evJBRYLmMWy/hkC8tzA9eYhUHIhDF69Ghv+fLlInxMuYwZM8Y7//zzxd9cISnG54+q+3/7299keWbp0qU6xfO+/vprqdNTpkzRKTUL9erKK6/0Zs6cmXJ/+KMjfBXhxICOBIVtwIABch6XuM8Yp36jjDAby70x8wHcFwolO3SZCUkS5DdK8NSpU3VKWRi+BQsWeNdff315XV60aJGUE0pzkHR1Oc73Z5PncWR2kmEWnJkw6itLq+b5r732WvFNSLhCwE8dM6rZ9vWEEwwOIGlD7Dq3B0DZlgN1hCVZzEwIJWoGyQVFVbJEgEG4UkbEoJnHwqM8hsXFRq6bLLZs2eJPnz7d33fffeX52LWDrx37u9SoQq4ZQ2r8X9WrV0/Swg5jAKoqsuzG470YiGI0yvH+++/L9aTBzjeiKOC/SjVs/+677xajWHyG2agRuH/AAQeI7yPyihA1Xbt2TTGID+a5zS233OK3atVKn6UyefLkSuVhDtUhiG+mQlMsz5+pbVPP69atK9fYsKAEv9xrLjt+qwIbJq655hoxxladiBjXE9bKDkOF/yzCmYXtujR88skn8iz2JotsnjFT/UZm4OOQ72LX8siRI2VzRrqwXaWOUrj8Tp06yS5LNWjxjz/++Eo7HG+88UbJE+RqkHR1GTJ9f9w8jyuzk8pXX31VHo4z7GBTkYHdzMiKdLuLkRXBTRYddFSMo446Svo5yolITkrx1u/IrhyIZILfWDaJEb7O/p5CsxV/1A078gRa/xdffCHLOTUBox8MrbNdVlUdj9g8sNSD0XBwaS6JMPIjogL2F8afURBG3iwXfP7555IvYT7govKcmVHSGImWKqXy/Cw/MrvI72ETZWZlCgEzjdQrRvINGjTQqRUwu4McyNa2NdtnTFe/EftsGqBcmRHBxqg2gO85ZkP3228/sUsMopSF0E0Rcetyuu+vrXleUzCzxpJotn45gdk2ygqb1XR2qZlgFp3ZuoMPPrjcDreYcApenqlpBc/hcDgcDofDbbJwOBwOh8PhSBhOwXM4HA6Hw+FIGE7BczgcDofD4UgYTsFzOBwOh8PhSBhOwcszP//5z2U3lsPhcDgcDkdNkTgFzziRLFY+++wz2S5fVXL5jmzypjZursbRMyGHwqhKvUpCXuIuJR9k8tIfJy/zda/pqKocwiUK8Szjws78MOLeR7HLzeqkpp81l++vavkllep4/riRP7777jtxnxJGXJlSbOWVGAUPz/fHHXec+BbCKzheqfE3lTTw+t+xY0fxvROXefPmeb/+9a8lLl6TJk28m2++ObLzIO4l4ZPwwF4boEFfdNFF3nnnnec98sgjOrUMhC55QfBoQtUQkmjTpk36ambwh0Zen3rqqTolFbziE+837CDyQKGh/RA9YfDgwd4111wjXtrvv/9+fTUaAoOHPRNHuqDhDz30UKQvKQQnkVXwHxYVB5dIBETVoJ7j+23EiBF5V67xkk95E6GgT58+3h//+Ed9JT6Erjr88MNDo4MAddXOU6Iv4L/NQGdECDhiYVJ2eP9//PHH9dUK8MfGPVLHKV9ibeLvLYmgMN90000SVYToBD179qwUVi6MuHU5m+8fP358yvdQ1sGIMdnI7CRSXf15OpkCyJU///nPXufOnb3rrrsuJfoLxJEpcdtbQVA3W/LgSRrv16NHj5YDj9I82pFHHine5YuJXCNZfPTRR/4999xT7uX7iSee0FfSc++99/rt2rXzJ0yY4KtOx//lL38pn8cLvo0avfgzZswQb+xcJ3pBklEN27/22mslP5QQ0KkVqFGf37RpU8k/w9SpU/369ev7b775pk6JRingvlKOyuthECX8/Z122slXSpNEOzAH+b/VVlvlPQpDECW0/NatW/uTJk3SKWXRVH7xi1/4qvPRKZUhUoMSyH6bNm1SnotDCUnx9B4Gz/uzn/2sktd5oH3jbX7nnXeW/KSuBpk9e7avOgHxQL927VqJJsF77WgQNQ3e8IlS8be//U3OlYLv77XXXv4f/vAHOY/L1VdfHXnv1Bvq5THHHFN+UM9szj33XL979+76zPdVZ+mrjlLatwEZpBSIlMgAlPV+++1XFFFUqhulxPqHHXaYrxQxOX/11VelvqWL3pFNXY77/d98843frFmzlPI75ZRTUqKdxJXZSaW6+vN0MgWI7EKknmB0HkNcmRKnvRWKRCh4ZLAaeeqzspBBJhwJYbiKiVwVPANCmOeKo+ChpHTp0iWlUfzjH//wf/7zn/vbbrttaEeJ8sL3J13B6927t+TBypUrdUoqJmwRAtmA0oOCg0CIC+8PU/DIX7vOGggtdcQRR+izwkEHxfMjrGzUSFfyLoo//elP/rPPPqvPKti4caOEFfryyy91SgUo2z169JC6GiWM4ayzzpJ7CtZbyoWQQzZ0zoQ269Wrl06pWb7//nvpiAmNZEMnTZv/4osvdEp6kFeXXnqpPGeYgkfdIy+jMKHjFi1apFPKILzZ7rvvXi577rjjDnmfXQfJRzrEpLV9FAaeddasWTqlDOpbWNs0xK3L2Xz/+PHj/fvvv1+fVSYXmZ00qqM/zyRTUNoYrHM9jLgyJW57KxQlv0TL+roaBaWEkCHMFktqkM2SWimQTQimNWvWSEBmO+wYYV1URylLCizHBilkiKd8wTIjQb+ZblfKlE5N5amnnpIp+Xr16ukUz9t66609NbKW5ROWt+IQlZ+qEw0Ne6RGjbIUXGgIAQSLFy+WVwNLJ+RLFCxP0B6D8FzHH3+8hMILQkBxlh3ZgJSOdHWTpREbIsbUrVtXlr/yAUvqn3zySaVnb9++vYQMi7O0vWXLFgliPmTIEJ2SyltvveWtWrXKe+yxx0ID4gP1FggrZ8N9sfxklv5ZOiacll0Hqd9t27b17rvvvshl8FKE5wHKwoZzNcDzVGevU1KJW5fjfr9SVLzbb79dzEIIZM95kFxkdpKorv48nUyhPSrlz1MKc9p2GUemxG1vhaLkFTwy/cILL9RnFZg4f8GMr02gjGA/EIS8waZgjz320Cm1B4Tq0KFDvW222UbqDfF3X3nllUodGkI4TAAjbOGdd96R11wJU3Sw+UPwF4OCh20QbQd7IiOk7r33XhGKV155pZyHEfZcgI1R2HO99tprIgg7deqkU7IHxYT6bEM+HnjggV7fvn11Ss2ydOlSeQ3a+5hzNdKX13Sg2GFrRd0MY8KECZJXgwYN8g499FDvsMMOk/yzMUbiwbpr6u3bb78t9Wz9+vWhtkmksREMZTIpUDbUy+CAKlPZxK3Lcb+fz6GgMbDEvoz4wCiLNrVdZldHf55JpqCQU7+7d+8u5yjhvN8mrkyJ094KSWLdpKxdu9Zr3LhxpVGVoyxvzjzzTGlMtQ1GXASZpgFiuIsx/CmnnCKGvNOmTdPv8kT4YtTLzlqbnXfeWV5rwhh9/vz5IkD22msvnVI4UOQWLlwoHRcGyF26dJHZI4ShEV5xeffdd71169bJd9h89913YpyMcXp1Qj4ivJmBCQrpmoJnhKBSQBsjLzPNvFD3Wrdunbbsb731VjHcv+OOO0TBox0zm7B69Wr9jrJ6Cxs2bJBXg11vCXjv+36oAmPel6SZIsqmup41rC7H/f5u3brJzCtlTZtCDiGHUdwzUZtlNsTtz+PIlOnTp8srSh4zeQysaDdsXqRMwoiSKXHaWyFJpIKHNs3U65133pky1e3wvL/+9a/eSy+95I0ZM0an1C7MjEevXr28BQsWSMNllHXQQQfJjkKz9NW1a1d5pTO1MUsEYcurVSVqlqtQsGMVJQ+/jeQVsz7/+te/9NX48FwI5l122UWnlMHsILOp1dVp/fe//5WdjbR7ZqmuuOIKOfLB119/La9mpsFmxx139D766CN9VhmzZEf9Swff3aZNG9nZzLIfy7koauzYNNABUV4TJ05Mce1g19tM9wrp7reUYJckdba6njVYl7P5fhR9dsZSXrQnlHXMHWgDKN1R1HaZnU1/HkemoKD/7Gc/k+9kt+vzzz8vO/QZ/F966aX6XWVkkilx2lshSaSCx4iI7eqMkhypsLw2Y8aMWrk8C9hJwYknniivgHBm2QRhjW0S0Imi5I0aNUo63nHjxknjR0FkCQ37peoE+6unn366qBS8jRs3iguNZ599Vka6dDIoGLZLjjiEKa5PPPGEdJIsM1YXCH9c2pCPHA0aNBDBm+395sKee+4pr2G2a9j8YLsTBp0C7hWYncsWymbgwIFiLmCWmMjP0aNHi/JwwgkneLfccoss6VIGwEAm071C1P2WGiy1UQ+q61mDdbkq38+MLWYPfBb3V1HUdpkdtz+PI1O+/PJLmeVD0baVL2ZHMUuZO3eumCgYMsmUOO2tkCROwcPegRGP7aPIUQZKCkpLVeydSp3dd99dXpn5sDnyyCPl1djWYdBPY2dZkhF7y5YtRQmkYdOQg7NRVYWZxKZNm8qsWTGADz8MyS+55BKxC6KDQQlhualfv376XZlhZgIbRzMjCuQ9CjTCE2NoczCy/uabb+R/Y7ieK9zzpEmTRGln5rGmMbZBdCA2zD5gOG6UqiCTJ08Wv3f4vDP5wMwcsMGF8+Dyjw3G92AvBbGBh+UnbJmwA6OD4j5YNsKXIX7VyPvgvYLZXBN1v6UIZVMdzxpWl6Eq34/Ssv3220cu5dV2mR23P48rU1hKZ3YvKP/B9AEMbMOIkimZ2lshSZSCh8E8jg0pBBcOLBWmoJmpwplpbWafffaR16BAZTmFJRSm7m1atWoleYZRNLYzdNbY7VU3jPiw0SkWWJpFmevQoYNO8byrrrrKO/nkk2WkHDZjEQbPxayfPVpGQGLziFKLkbk5WKpk1oP/+Y2qwogc8rFMYgzqg8t9ZmaN2ZowmAHCztPOB3bJAnZHnKezETP1lcGBDefMup522mmSr3SUzBRiP0Q9/9WvfhW6NMn9MkOdr93H+YCyYYbczKgZMpVNkLC6DFX5fsofpaNZs2Y6pYLaLrOz6c/jyhS+h7wOU6jNoD3YB9hEyZR07a2gKE02ESgt3+/fv3+5o0kDPoTweVMsVNUPHr6xKDZVWXVKZhYsWCD+uII8//zz4tvHZtOmTfL9SfOFZVCCWBzmBv2Vkc5zjxkzRqek8tJLL4lzU6Xk6JR4qNF7Wl9bwG+rTld8zxULOH8mP959912dUgZ+vH7yk5+I37c4HHbYYf7tt9+uz9JDmZBfUZx33nlyT3F9gb3yyiviqPY///mPTqk5KMPtt9/eV6N3nVLG9OnT5Z5fe+01nZKZTz75RD4T5gcvCM6Vjz76aH1WmS+//NLfe++9pQ7asvGaa66RcsTvmg3vPeOMM/RZMnj88cclP59++mmdUgZObFVHXeW6XJXvV4qG+B4MOtrNRmYnkerqz8Nkyg033OArxVqCB9gMGjRIHBSnkxeZZEpUeysUiVDwPvzwQ//AAw/0R4wYIR20OYYNG+YrjbvgzgZtqqrgIWAQJmHRBDZv3ize6XHQaUDoHHzwwSn5wkFlViMO/a4KjINbricVvKMjVO0Gjld6hLHtUd7wzDPPiNPKMOUuLM9tUCa5ng4+i1AoJohmgCPQsWPH6pQyLrroIv/000/XZ+mfn2tqxOy///77OiU9mRQ8fpe6iTJl8+OPP/p33nmnv27dOp1S5ugUh6kLFy7UKTUPUQeIMmErTccdd5x/9tln67Oy++rYsaM4M44iTMF77733/IEDB6Y43v3qq68k2siGDRt0SirkPx3NscceW6le01HSBnCsbUB5YBBDJ5YkyHOUYOqD4fPPPxfnwXfffbdO8aWuICvDnj9dXY7z/dTRK6+8Upwc//e//5U0PtenTx8ZBNhkK7OTRtz+/Prrr5f6Hxyk2ITJFNoCShqDHANlsc8++/i33HKLnOciU9K1t0JR8goeQs6E7wo77FA8xUCuCh6dGoJg3333ledq3769zLLY3/WC9qo9YMAAOWekU69evZT8sI/58+fL+wxz586VsDlc22OPPfxp06YVPGRWTYCARTgccsgh0sEhhGmUhK4xMPpasmSJ37dvX7kWFdIomOeGZcuWlYecomMgXFVUx0meDxkyRJ8VD3T4hPJhNpe6QqikroGwPlHPDwjLVq1a6bPMRCl477zzjn/XXXeJF3l+i/ctXrxYX/UlSgQCm1E50S5QSkeOHOmvWLFCvyM/0CnQaRDSaM6cOVJ3CGtlC3tmX3bccUfpwKIIU/Boy3Xr1pV0vOQzC0F5hLVPZguZSSTEEwMXOqYw6LyYlaJu3nfffVJW+VSI88k///lPCQOIkvXwww/7xx9/vIS/szHRa5CrQTLV5Uzfj5xmEMf3H3744VI/UdiCciVbmZ00sunPGTwxC41CGEWUTCFCz0EHHSRh/igvQo1RJkb5zkamxG1vhWAr/qiMc+QJDDzZbo1hbU2AXQ0bCTLZLDjKdrkppU5cFRh/RgZcp7DVnc0VQXuLIFXNc4yI8bhu3CoUE+zyxM8XkTtUBxXqAy/q+bFzIS1T/lUHGDVj6MwrNlFqIKWv5B82qFCvGjVqJLvuguBfETmQ7T2qQYdsuCBPecawyB5KmfSefPJJ7+CDDy63C8wE9Zx7Vsp84iPZ4Ofsb3/7m+yCD2tvbKJSCoE+qyBuXU73/XS1mzdvlrbEZqow1yqO+GAHzEaWbP1y2mDfig0su12DfXIcmZJLe8snTsHLMzWt4DkcDofD4XAkNpKFw+FwOBwOR23FKXgOh8PhcDgcCcMpeA6Hw+FwOBwJwyl4eQbj2lyN8R0Oh8PhcDji4DZZ5Bm3ycLhcDgcDkdNk1gFjy3UzJQV27b/6lLw/ve//0mYm2yJ8zliYybVXQLVna3t6SB0kA1uDz744APZCh+8lg6CWuPWAncsuE2oX7++vpIKLhhwRULdIIxOvXr19JXCQ30xz48rF0LyEOoqDrgwwAUHbZHPxXFnQEBvQgW1aNFCp5RBueG6BpcGhNkKurUxEHfy9ddfl3irYS5K8gHtGzcpe+21V84B4gl3xPMSGimT+xzaK++ljtllE6de4XqF/CIgPu+pDasLuL0gHFtNkknOUp9xQZTNfRDvllCJJp520iEPqdf/+te/vAMPPDC2WyHaAzI3COVhu6aJK1NsXn75ZWnfxOkO8sknn4gbHFyuFI0LHPWQiYNQRngCjxPqJ9/k6ujYgPNZHO9mE6oMcCCJo8aTTjpJp6SihJ54C8c569ChQ8WhLY5644aFKhVwNky1jzrwjG7A6SXhho455hhx+qwUFH/27Nn6anrwgr7LLruUf69S6CuFHuJe8ICP93McZPbq1Uuc2eLBvRjA4asSfOK9/cEHH5T7xGloJmerePHv2bOn37hxY3/ixIn+qFGjxCHpmWeemTbM0m233SZ5deqpp+qUMogksq928G0OHJMap6SAN3ucmhJJYtGiRf7JJ5/sN2/e3H/rrbf0O/LDPffcIw5tCSGGI9VcHFjjNFcpqPKchMgLQ3V+/qxZs6RunnjiieKs24RGiluvJk2aJJFWeA/3SeSFpDo6JrQUzqEJw8azUn+ee+45fTUaZCb5GHZwLUgm+YxTXH4b5+E4Oj7hhBPEWXgUhL7CKTtRXMaNG1cpdGBSIaISTtZNe1cDa5HBcSDikPmcfSCTDHFkSpCVK1eKHMMRtY0aAEvgAeQWIeaQQTgjp88tNIlU8PAmToElScEjrBadJR7webZsFDzee/nll8vnEExh4BUfr/s2dBx8Lkngsd806LADxcxALETSTIxJOkpixtpRFMJAEBPZAaUIz+vmu/GKbryuEyqK0GikGyUEJZsIIqQRVaSQIADr1Kkj98N9ASGxuDfCWf3973+XtDDo4Hgfyo6BcF2kRdUnIn9ss8028h5bwVu6dKn/m9/8RoT7rbfeKlEgeA8HSpTh/PPPlzQTfmj9+vVyTsdAvM98gMK11VZblcejJSwV90AHHRcUNxNNhiNMwaOjIQoLoeSC9SRuvZo6daqcH3HEEXLO7zKA4f4fffRRSUsS/fr1k6gdRglG0SJU24svvijnYXz77bei9NJ5EwfZPmgDKMaGOPKZMGdER3jzzTd1ii+REVAYwkKgIT/4fRRz0wZrA0RnoS4ia8lLcyCP1q5dq98VjSmD4GEGL3Flig2D1oYNG8p7bAWPOMPNmjWTdGISA30I51F9bT5JnIL31FNPSZxHMjiJM3iMunm2bGfwgEYTVukQ7gg7wkHZEFiemYQkgeLVqFEjv3fv3jLjYw5GcwgQwkQBHSv5zGEUBMIVcU5HEQUxXFEibewOm84ZHnjggfI0QnEZCL9DGgp3ISFGJvfBjJ0Z1VJPjBIWpQQwmjXPNXnyZJ1aEQaKME1BCH1mnpvDVvCCsXBNGXAw4wyEmEMxIc3EkuSeKU/SCEdU0yDoUbj4PdNJrFmzRs6ZvQ0Gk4+CZyImJp/jCCp4zJ4iQxgsoIQHiVOvKEejBFI3DUYxJ7Yw70kKJr42CrhNly5dyhXcMFDQw2b5yFdmcphdC5JOPhNHHAUvCApGMJYzfRdlTBi52gYDaZ6fWXmUPeLPkqcczHymg/czMcHngwdtFOLIFBvaAgPUBg0ayHtsBc+UNwftHagzJo2QhYUkUbtoWRufMmWKN2TIEJ2SPKpiGxf1WVUPxHZJCSWdUsb69evzEmYqn2B/pwS0p4S3d/fdd8uhGqnYy6lOUMKWgRrdySsYGyhjf6c6XU8pavJ/EOzU+vbtq8/KwB4MsMto3ry5/E9dNVx++eViNwJ///vf5VUp4vJaKMz9Ebpp1KhR8r9SUsR+CVuYQw45RNKC2M910003SRgziHou6t7FF1/sKQVQp6QSbMsmL6Ft27byqgSrfI8N9jbY8sG8efPktSZRCm/5swfrC3VLdTDyfzpefPFFsVk8+eSTdUoq1NsePXqIfRF5phQyfaWCOPWK8EzYCwXZZZdd5PW1114T272koAZc8tq+fXt5NXC+atUqsasK4ze/+Y3Xrl07fVbB7NmzxQYrzB43nXzGJpUwZWvXrtUpZaGykEm2nMVud+DAgV7Hjh2lDGsT1Nc2bdp4F1xwgcgZwsbddddd+mpFPY6CPozPhh2mbOLIFBulEEqbNH2DzerVq/V/FZh2BPmQPelIlIJ39dVXe0oDr3ED2qRBZ3juued6ixYt8q699lrpLOk0ibF366236nclA5SO7bbbTp+VsXTpUtlI0L17d53ieS+88IL+r0JoI3AMUQpeEIQ3nT+dweOPP17+22qUWW6EjVA65phjvAkTJkjHe8cdd3hnnHGGXCsUtpJx3XXXeX369JFXDPF5nrB4nYAxdOPGjeV/Oq8jjjhClOmHHnrIu+SSS6R92tx2222iWBMHNRPUy1mzZsn/d955p9e6dWv5n07TQExVg9nIhJKJcXpNUtX6gmJG2xs/frxOqcwVV1xR/hwXXnihfCao2MapV5nyCzZu3Kj/K32ee+45aX/BwaqJHWqXnU2UofzDDz8syl+2nHXWWdL++Sz5+7///c/7/e9/L+coc4bhw4fLoID2wuYm6g7KYW2AtnPRRRfpszLY3GbqNBsY0kGdP/vss2VDGxuUkPd2fQ8SJVMMK1askAHP+eefr1NSCWtLRdWO1AMmAqbTzTQ3dk48GtOyxQbLK1VZouWZeDZVkXVKfFhui7ILwN6EDQZ8NzYnbMZ4++239dVkw5IANjX2kou9QcLYv2BzY9KwrUsHS4RM3xtjeY5OnTr533zzjX6H76sOt/yaOdhoUAzwzKpDSrk3DPUxIs/E8uXLZRnD/izfFaz3L7/8sn/aaafJ/+S9eW9wkwVg38LGAfMe7F6MjRmbKkw6tngGzA5MOjZSNQk2Pea3lixZImlGDnGw4SMd2L9ihwi23aZZouW7VCcnaaoTlLpEnVVKiBiV25uhMtUrjL/Nd2GuYGBjlXn/jBkzdGrpQ721n9NAfvOs2GzHZdOmTWKmoDp2nZJKJvnMxiU+T7kppU6WbW3D/i1btkj5YnJAnaAtYFPGOfXC2BDWJtatWyd5qpT0chOaMMgb3mPqsDmwY1y9erV+VwXpZAogq7nOpiegDfM+e4mWjYjm89i1Avad9ncWkkQoeH/961/FpsrgFLxw0il48PXXX/u77767fD+2IhijJh0UWxosnZsBgWtsujjCFLzghpQg2G2okb4oy+YzHHTGNhi9G7s2cwwcOFBfLSzkAzZb9r1h1xa0ZQoDQWnqkjmwdzIKLvYw2HwZ+8ZMCh62iyhvxq6OA1tI8hnBbnbc7bbbbv4XX3whCo9RYvhMTRup2+UcpuBh8xbFX/7yF//aa6/VZ+EK3rx588rT2I0MGI2bNLO5xJCpXl100UXl6WajQZs2bcrTktL2TVtGSQpiNuJgXxWXm2++WewZo4gjnzHsN/nMzk67P2DTBent2rWTnb8Gyo702miTh009ZRi1AcLARhV2SSNnUOpNHnMw0LYHQZBOpsDFF18sNv2GMAUP3YOBFunsiAY+Y76PXe6FpOQVPAQ3o2d7ROUUvHAyzeAxa8cohF2gdA6MJJ988kn9jmRijNIZWdugKJhGmssMng2bDYyyYXf07LrDTQVuRI4//vjy7+bIJMxqGoQhm0+or9OnT/f32muv8nujXrCZIgpm+XAVghJMPtnKMkITMJZGaTFkUvAMzLqwWci814y4uR/qL/dGHiNYzXsYhdc0ZpcwRzYzeOxGZibHnpkJU/DYAGXS6PAA5cXsANxhhx3KZ4Li1Cvc1bDhiM+zCaRz587ldZQyZ7CXFBho4LoiCLM6PC+uoeLSsmVLmZmPIpN8fuSRR2SlhN2gLVq0kPdS/mYDgFHkceliw8weZcxApjbB7B31M12eh4HMZhOSLQeiNoaFyRRm94IyPkzBAzZV4BIJOYd7NnsXrz1wKwQlr+AhzOgQ2P1iDvy4kblo85y//vrr+t2Fp1gVPPws4e/M8Oyzz0pFZibPXlZMGh06dJDnZMeWDbs9TSM1nS+KjkkL+rTLBDs5+RwjS0aIjz32mJwzskQY0TkbVx8cZjRYKPAVxn0Y31EsU+Caw9wfykMYzMiZZRJGt2DqLAfCmmfF5QB1yxxmByoH7hHYSRoFO9PMe1etWqVTy2DWg8PIAA6zdFKT2DOdZtTPjj6Txo7NMMgb6oSdF+SR+Rx5yXtQzEwa/tMMdmfy3nvvZV2vqIsoe7j+Me+xl7mTQNu2bSVfg5iZluuuu06npAcfdCjB6dzupJPP1FUGIBs3bpRz+gH8pfF++ingPZyHudY59NBD5fNmhinpMOlA/Q56JQjK6nRQ/5nxJk9tt01BgjIFVzgMkux2ac/0cY7bKBvaEWVjdv3y/kKbOZX8JguViWLoOH/+/PJDCSu59uqrr8q5GknLuSMcJbAkn+xdeRhnY1RP3i5fvlynJgsMmNlgoZTbSl7S2W1oMDsR8ahusK/Hgd+AVq1aSbQADLVBCW2pw6rj8NRgRSIKADtWC4m5v8MOO0xeMVq+/fbb5X+Iuj825mAQroSjRHIAdrCZ3YgYj7NjW8keqVvmsHd/KoU65TzIKaecIhupMFhXo2qdWgaRHJRi4ymlTs6PPvpor1evXvJ/TVKV+sL77LwgjwzkJed77723TimL1mFQgxN5pU6pTifresXniHRhdipSzuwaTBJE+NiyZUul6AZmR2bQsD4K8pYdnsHNGnFhN+8vfvELieoCGOPPmDFDdns/8sgjkqYGNvKKTA7C7kzeS5klHeTDpZdeKhuPbK8E9O1z587VZ5mh/o8YMUL+V8qivIYRJlO+/PLLlHaplEVJh+A50I5eeeUV2ZgB11xzTXl5FoqSV/BwF0CG2ocaxco1dihxzs4yRzRUbAgKDhOOJaj8JAVcoagRV8ruWQPCxWB2sNHggTBapsP+85//LOGozte7rAhVg2L87LPPyrnB5CG7HwHhDvy+gc7adB5RbkjyRdj9sYPWYO4v+PzmcwhoG/PZRo0ayY7GBQsWyO5Ac7Az10An+sQTT4jic/PNN3t/+tOfUr7vJz/5idRZfpP/g+Bi4h//+IfsvqNTRsjXNKeddlr5zuJgfaHTQMkFBp3sGMYdA504n7PzgaNr167yXmAHcrdu3URhM0oeyorBlA/PihKXS72aPn26t3DhwvJyyVWBKVbYpUpnTF9g8/zzz8uzhrmbCYO6xHflCoOPoIyl/lIXjHxgYMT9cG9BUM6DIfySCn03u1dxYzN48GBxF9OzZ0/ZiczOfHasnnDCCaIsM0iHZ555xuvdu7fUYRtkBXKnZcuWsWXKDTfcUKldGu8AlBXnZgBrYABhBpP0KUaxLCjqIRMHO214NKbLiw1VOaq0RMuuK57Ntl8yKOVCnJQGnWYamHLmehgsY7Azz4addCzrqkahU5IFy4DslrWNmW1Upyx5bewQOQ9GssBBMu/hwK4GGzP+V4JclllURyvvw6gdmycDdhtM4bPDy9QH7LH4HHUE25NCctNNN8lzYJtlMMuE++23nyyfQPD51ci23Imu7XXevC+43GIwbZbD2ODZy5LcB7s/AVtIjKGD7Yh6in0a+Uo5sNkin6gBg5Sf6pzk3Czp20uApn5wRO2YxvbRvMd2dExkA9KwbzSYXdpmSTDbekWIM9Kx1cNhdBKhDWKHaZugUE/JI57fwKYVbKgI9RYE2UoehkWcsEknn1kS5juUcqBTymzFaE/25gl2ofMdJjICYGOqFJBKJglJBAf7PH/YgSkHBGUDsGnLpGESgWkWu57ZqW/yPFuZYkM58TlMeoJQPmyMoY/FcTJLw8WAU/DyTK4KHka2dBimo2TXHhsD7O8ipiHXbEUCMCI127kRMAiToBDDIBz7HOwViLeKoMJA1e5gkoQazUt+GKP/MBC+GGAfeeSR/r333iuKSzAWrRpdyvewCYGNCexItA126TAwwJ8fEr+VDhv3DeQzRsTYA2JnE8cVSU1Dp4higjC78MILJfwOz8iGJmy9DMHnB+oWdijEsaWuESaKvJsyZYpcDyNMwSPsljFE58BYnt9HMTJG6UDnS/2mnFDC7VBQ+QaFAftCZA9lH9zdiq0PHTV2d2GKBEQpePDwww+LYoIRPu5Q+D9YJzPVK5RzvPlznY7QViSSCjakDGBxiUIeotAyiLEx0VaCG66ATrtVq1b6rDJx5DNgB8bAkrKjLuA+yEQXsWEXNMo75cQua3buhsmQpMFAhT7K1P/gYSYhULSxT8Um0ijp1GMTko+DwTtKvS2v4sqUMMIUPOQ9UX+QPcOGDSt3qVIsbMUfddOOPME6PfZFZimlusGpq6q0OdtpYJeiGoTXoEED8fCd6/ckCWw4yReW1ljuCvLXv/5V8gqbJ8CG7I033vCUwPD233//8sgGYbCUhkPgTz/91FMKkUTCKCZ4BqIaYAfGMmuc5zewTIoDaTzAs0SSa10iggPLUyxRhi0fkneIsTBP84WApVnumWcOu1+WZsnHKEe6cSDiBcuO2PiE5Wu6eqWUDrkH0mtb+zZ1Eru8sHZJWzdL7TbkF3kVVp7ZQluifiAnKL+oekD5vvXWW/K73G8+TA1KCZZbMVewy4t6rwaLssyKTWoUmWRKXOgrsY2sSluuSZyCl2dqWsFzOBwOh8PhcEMCh8PhcDgcjoThFDyHw+FwOByOhOEUPIfD4XA4HI6E4RQ8h8PhcDgcjoThFLw8w+aK2rZzzeFwOBwOR35JnILHpmBCFRUrbJGvjo3LbAfPhVw/VxvAhYIdJcAmGJYmV9KF4CpmTPitmsYOw5WJYs7Lqsog3NPEzXPcspiwW0FwxZENuFAhGktSwUXKiy++WB5tJBPUR94bdUTJBaIwREGZENIKVx3Z9AXUh/Xr12ddpqVMdfXltKd///vf+iyVOH1iLveRrj/JF4lR8NatW+f16NFDQpxcffXVXseOHaUhJ40XXnjB69Chg/fUU0/plHh8/fXX3o033igx98I444wzvKOOOir0sMNIJQ18uBHrkBA1hLizZ1f/+c9/SmgxQo8NGDDA69KliwjluJx33nkp+UiYKLsjLvY8J94iIduuuOIKb/jw4RLy749//KO+Gg31LOyZOLgWxcyZM8XXYBjjx49P+Z7DDz/cmzNnjr6a+29WN4Sz6tSpk8ghQivde++9+kp86Ix4PkKIRYFyQTglwppNmTJFPmOgMxozZoyEkMMfGOGcZs+era9WBiXlgQce8E499VRv5MiR4jsvadCJ05YJZYUCi/85u/5EgS9DwoeFHfhPwxebgTKgzIjfTAzkMO6++26JR/vmm29KbFp8Ny5atEhfrQwK4IMPPijhywhrt2zZslqxAkR/Tjx0/MsRf5cQYMijOKBUkf+2DOC7CBVnQ70n1OK+++6b0n5syPt+/fp5w4YNk5CBtKt0Snm6/qQgqJstefBqveuuu6Z4sCdSAR6nM4WWyTe5RrL46KOP/IkTJ/oHHnggtas8NFEceO/ll18un8PjdhAiYKhGJBEElFJSfnCuKqj/wQcf6HcmByXw/d/97ncSYQGv8UEIe0V0hsmTJ+sU31edoOQTIXAygYdzPNbjMd8cRH0wFHueK+En0SjwvG/48ssvJUpHWH4ZiJJAdAU8+dvPxbHddttJSKAwCPWjOk0JjRfkm2++qZSXRGBQgxa5nutvVjdEHNhxxx3lWYD7og5NmDBBzuNCtAXaalQkHiJV8LwjRoyQaCtB+DyRFzZs2OAvWbLE33///SV6BudBqMtEX1CdV9F54a9O+vfvL3n69NNPy7lSGCqFHQyiOmv5TNRBBASgXRCWkDpqrtnRDgxTp06Va0cccYScI4NoT7R3NaCTNBvCa6lBoYTnStfmkgYRXujnxo0bJ4ca7JTn2w8//KDfFQ0RSnivLS+C4TtfffVVeR8ymO82UXhsiJDRuHHj8t+kPROdhrCTQTL1J4UiEQoeYbVQ8IIgbKPishaKXBU8A6GHqJDZKHgGhEmYgkfFJIRLEJQbI4yShhph+T/5yU/81atX65RU6DwRvDRqA0qPGnH7p59+uk6J5owzzpA4iFEUe54jAKlnQWWWuI69e/fWZ5W5//77JR5qkHfeeUfym84wCPlKODeUtjAFj9iUKNdR5PKb1c33338vdYMwYzYod7T5uMoT8UqJp0vehyl4pBGeyY5daoNSMmvWLH1WxtKlS+X7yCcbYgXTwXXt2lWnJBPCvfH8HB9//LGkoQBzTvzRKAhpRjgswjdSruYwMU9NiDhiHn/66acy4CAOMNeCCh4KAJ0/10455RSdWhE/lRjhvMdAWDLqDWX9zDPP6NTaAeHFCF1oQD6gpJFPRkGPgr61TZs2oQOfMAgVx/cGFTxkBm2DMHI2TLLQL7z88ss6pYxM/UmhSMQSLcsVTN8qgaVTPAnTw7JkVcKQFCMsueRK1GdZTmLZIAjLOmqUqs+Sg+rovGnTpnlKiZOlsDCUIJHlk7p16+oUT0IFtW3b1lPCN+1yAeGFVqxY4T3yyCMpddKm2POcNgVqICGvBmyA0rUp7r1du3b6rAKeSwlpT3WYOqUC1dnKEkxYmDaWG9UATpbGMUsIsz/K5TerG5bZsLlhKcimffv2YtemBpo6JRpsClluHTJkiE5JZcOGDd7AgQPF/OTyyy/XqalQNkpZ1mdlmHy16zr3hEkLMmHq1Kk6NZnQ1g0mPJmpE0r581auXCn/B1GDHG/NmjXeQw89JEur5iA0Ft9jzF2UIiB5zHJiVHgs+iNCaAUhzBVgs0dIQKCuUzaU0cUXXyzLs7UF7ORoQ3bYQeSuUqzlf5ZA04GpAbaK1GnsLTMR1ScqBU6WegllZkN7VnqTLK8b4vQnBaNMzyttWHpgKYbpVEbtaPyMAphCt0dFxUBVZ/AYwVNsuczgMTsSNoMXhlJgZFmHGYEkwXQ7My08G6PuN954Q0ZjwREcwdpZGgliZleWLVumUypDcH3eY47mzZtXChofRjHluRKSftOmTaVdLViwQNJYrmU5j3zLFoLdK6GozypgFsksXV944YWVZvBY9rTzklno4AxVFFG/WRMYEwiWl2xY6ic9zqwvQctVJ+9/+OGH8pngDB7yjHRmdzA9wQwlzuzk8OHD/aFDh+qzMu688075riuuuEJmoPguzECSCPWAZ+Uwy23Tp08vT4taQjdL7TaYC6hBnyzxhmFm6YIzePYsIqYEBswITDrB8oGA+iaN9sHsb7H1Y/mG/o78yDSDZy+TczD7as8GBjH5H5T/Zjn9jjvu0CllIPtIP+GEE+Q8bn9SKBIxg0cgZoxbCbTfsmVLMXJGk2bktZVzSZITzFIddNBB3l577aVTkgGzQMy0MHt2wQUXyEwaI3FG3oz+DA0bNpQZFdVodUoZGFcDwcejuPXWW73ly5d7kyZNEoNrZgKUYu2tWrVKvyOcYspzDJIXLlwoz8vmks6dO8tsBrMdYTNt6WDUzcwf32PDDMVNN93kjRo1SqdUBsNmZjdmzJjhKSVJZk7POecc77bbbtPvCCfqN2sKM7MQnC0k9jR5yQxOOpjhY3bgV7/6lU5JRSlyUh7IM6XgyuYXNg0we6QU5NBdfqqT8UaPHi2zDcGZRbOBg9lmZouYNaTOq45L2keSsPPe9Ad2vxA108MGiyDMCrOxonv37jolHs2aNZOZKLB3KdubNJA39GGLFy+Wc2aXrr32Wm/33XeXesXmwajNAEmHmdbGjRtLG0nH888/LzKejVXMtLLpCV2A9pMNtAVg1twmKP/j9icFQyt6iUB1rOWae8+ePas0U1ZTlMoM3oknnuirRqLPksPNN98s+WfPaGA7Q75g72JsK5QCIe9TDVbODYwISWcTRVymTJkiIzwl5HVKOMWY59iUkC88c4sWLXLatESeH3fccfqsAmaPmKEwhM3gBcHwnFkS1fnJbFcUUb9ZU7Rr107y6LPPPtMpFeyyyy4yyo+CGVvbrjFsBo8ZNtL4HWZXDQMHDpT0oE0etmYDBgwon73CbgibMsP2228vNkbGJg24znuTZJPHag7PznNxGNssNt6YNDVgkLQ4KEVZNriYmcAgUTN4gHG++U0jP7AXM2nYSs6bN6/8HFkDSrEvT7vmmmskrTZBXrOaQD5kA+3E5HnYxgiImsHD9rpBgwbSRmxbaWboeD82gRC3PykUiVHwHnnkEb9169bSYdARkekdO3YU4+diohQUPJZs2GFm70pOCoMGDZL8Q5jasJuOdJZggXpDR0cayzFjx44VA2uWKFHWWE7NBpYh+a6oZbBizPO3335b2hKdUY8ePeT+1cg2ayWvZcuWsjnIhl2DCEebOAoe0Na5lxkzZuiUyoT9Zk1i8gflLMgOO+wgu2nDQOFg6dWuT2EKnun4b7jhBp1SxpYtW+T7DzjgAJ1SGQzDUYjNAIPP8F0oK0HYOc21XJbhixWUa56JI0zBY6ARh/fee0+URSMjwkin4LFcj9LN5j8U7M6dO5cPnugXUAzuuuuu8vsyv4OSymdIo6w5r02wk3bYsGH6LDtY2kYWRA2uoxQ8oE9AweOzDLyHDBlS3s5NnYnbnxSKRCzRrl692lOjHZkSVR2S+ApiaefJJ5/0JkyYoN/liAtLhfjO2n///XVKcmC5A1Tdl1cDS6iwceNGeWV5ZO7cubKsyvIWS61M+6vOV5axjHF0XKifELW0W2x5joNXNij079/fa9OmjSyRsvT8wQcfiF+ouLAchVNX/LUZyPvLLrtMfJMpxbn8YCmWjVH8n85/HP7aiAgTlZdhv1nTGGPs4FIQS6cYjrNcFAbPybKbUubK80EpZHINP1qcv/HGG5H1liUj/Hht2rSp0jUDy7mUI3Wbe2G5j6XjsPcH20ESsJdazTPbz87SXxwwpOdz2S7PGshzpcBJHcHHJhtmaAOAfGCThi1XWNoHlnbNkiHlRxusLeD3FfMHZG8usBTPJqwoWZEONjOx4UUpmCKb2fBi2rmpA3H7k0KRCAUPGxPWwCkEQPjTIWGfwk5GR3Zgt4CCnERwcArBBs+uOARq/fr1dUoZrVq1EueoOJdmAIGAxc4iW6iLYOpokGLLc3aF0pHYO/iuuuoq7+STTxYbIey74sBzoSCyu9NAp0Z7xaYMxdYc2ELxvfy/ZMkS/e7K0OGhpGDXFEbYb9Y02AEDNlQ2xrF169at5TVInTp1xK7Qzgdjg4XtJucMKqLqLaAUUL9su7IgOHslz37605/K+8i7qO+CYDsoZUxnC+ywBNv2zb6eDhQ8FC3qVlUg/42yB+Q1ijzYuzbtqC716tWTVz4btVM3aeAMGjt6bJnT1e1M0DaiZEUmyGtsf7H75X90DQb49AuQbX+SbxKh4JGRwQrADAwuLRBojvgwuqRzZdSTRJiNo8FjjGvDc//www8yAxwG7k7wZn7llVdGeqlPB501nwsa4UMx5rmZPQi2K2b1aFsoJnFA2Qo+F5/FjUzwILIHih//87kocDdBRx2lNIX9Zk2D4svAMhg9x9SzqFkfZgWC+cDMHTCQ4JwIIszUoWwH6y189tlnkfXWgKJJ3TflSV4z6xcMccZ30TkF3UOUMsxgGoz7HzPTSr4ZBY+23aBBA++OO+6QcxtWhcgvOvp0yoaZkQubHbVhkwsDHOTBggULygcjhx56aHne46bDYL734IMPTnHdlFRwGYMCzAocAzoDm95wYZINyN6oCE7ZwCYK5M7kyZN1Su79Sd5QFbHkwTmoanRigG3A1kKNqiMdghaKqtrg4dSZYsMmJ8jmzZvFYWaUc2fVScj1dOAMVQkYfZZMsP1SjTLFHg6bHOxnsIMJgqPR3Xff3b/qqqt0SgXBPMdOB8P3Z599Vs5BdSpiHxoWSQCKMc+xwcJNzNixY3VKGRgr20b46eoc12iXcW32sHG0bfBow0RlIH+M3ZHq6MSdiOog5TxItr9ZnbAhp2nTpv6///1vneLLRg+cOBu4f2yD09nm4NaBNm7b4MHy5csl3bjTAFx5YBO6atUqOVcKm8i8j63NE7j2UEpMSnQU6vmuu+6aYrTPveFmgs1qSUN1zpJ3Tz75ZPm5GsSUR7Ig37jOoZSuSnZuxlg/ndE8eUpZmO+h3YdBhAT6AQz1MdoPQqQSPm/LhCZNmkhaLrbXpQY2qESywNn8mDFjyg/s8LARNf0n0UOQq6a94UIFW2c2LRnI31atWkX2ubgvIl+xS42CDRfUF+yPw2yks+1P8kkiFDzARxfCCb81c+bMEQ/VeKFGaBUTuSp4VEA6NYz8qZD4UnrooYdSvovwV1zDkNcGn21XX321XKPzowMI+usy4GUdY9Ikg/BGOBAGiB2uCFwMzm1hy84twjz17dtXvM3TuYYRzHM6APxkkUb4J4ziqYfpQo8Va57zbAhaom7Mnz9fngPlzt4pGlXngGgBCNe4BBU86jadHN9/+OGH+yNHjhSj5qiygGx/szpBIUVhItoHMoi6ww5NW8hjaI/BPPkaRZSCB4RBorNH8cZHIAokZWNgMIKSgTH+ZZdd5o8ePVo6x7DNH0QpOeigg+R9Dz/8sN+9e3fJ4yQa8VM2lAeK7r333iud72wdicLQQm/Ow5DehnqI0ofsDQNlGuUDY34+bw4i0uCDkN9GSaDMkDNEbLGV9DAoD3brIj/o0/g/eL9JBKWY0Hp2PtqHvSGGus/mIVO30QHo39jAgpxgwDVq1KiUAZcBf7lsaKGd8L3IHqPsG5DZ+Is0sseOamQTpz8pFFvxRz1gIsB+B6NIpkZZG8dotdjA9gJ/Ryzn1ATYAGH4qSq6TskODFrxc8YyTdJRglsM2PGaboyYDW+//bYsyeBXMZMtVzDPqX/4T+IcA3iWNNNRzHnO0hDLJSzdsXTEEmqQqDqHXQppmfIvHYinzZs3i50aG1Aytenq+M2qojoCqVcY97PkFwQDe+RAruYjqkMR/3U8J7Z/9hIWYF+G/RLLf5RZpuV0/MSx9IUPxpqSS8UC9owsSx9wwAHldm0G6jptMVd7rXQga6ib+DkMtpN0IIMob/qzbD5XG2BzEkvutkyi7VH3sZfLNq+DzJs3TzZHsWyuBk06NZp0/UmhSJSCVwrUtILncDgcDofDkYhNFg6Hw+FwOByOCpyC53A4HA6Hw5EwnILncDgcDofDkTCcgudwOBwOh8ORMJyCl2fYkeN2QzkcDofD4ahJEqHgsb09LniYDnpvzyfEyKyOjcvE7cwFtpUTEiouX3/9tff666/rs2Tzj3/8I8V7vA2uCqpKprqXTT3ONybEU01jh2cKQrv58ccf9Vk0uKkpNHHuMx24gIib5+nqVZy8qOq9lhr5eN5ibsulRHWUVTqZEvf7aUfZ9tu0YUJbFpKSVvAIREyM0KeeekqnhINSc8MNN0jw8SlTpkjGlyLcNyFuCHyfbbgs/GYR3Bq/PrNnz9ap4eBHi9iIhPAhlFI2CmGpgd+rvn37eueff76EiLJnV/FXduGFF3rXXXedN2DAAK9Lly7iZzEb4tQ9/LwRBuf666/XKcUBvucI83TFFVd4w4cPl5BZBMXPBIHBiX0adqQLGj5z5kzxTxZk3bp1Xo8ePSR019VXXy1BwIMhwYC4rcaXGzFVKbd8e4EiTFqnTp3kXnv27Onde++9+kp8qCOHH364tPUo0tUrOq0RI0ZIEH3y4sADD/Tmzp2rr1bAIJF6z3u5V+o6fsSSCB00z0kIO0IOUp/Cwr4FybYup+uTHn300dDv4aAcDbm2nyRBmycMGH4vCQXWq1cvkUfZEiVT4tZ9ZAp1hffxnjPPPFNidAdhYoA+2S4r7t+EfCwYSgCWHIQEmThxoniD5xHShW8h7AtewFUBiUfxQpNLJAs1QhdP2UTq4Hk56tWrp6+mh/AtRPXYeuutyz+bLhQRIad22203/+CDD/bXr1+vU5OHGmFLhAY82hMdIAgRB/baay9/8uTJOsX3H3jgAQlJQwSAOGSqe999951EJzn55JOlXLifYgHv7EpIiXd4A/XwF7/4RWh+GfD2zjMTaeW8885LObbbbjsJ4RMGIbcIpWdHsgBCjhFSyw4RtGLFCqn/djgyorooASyRRDhMCKKwaBA1BZEliFLBswB5QR2aMGGCnMeF8Gzp7j1TvSIiBeHckJFEqVBKnnzfggUL9Dt8iWSDF3818NMpvnwGb/zZyqdSoF+/fr4aGEuEGlAdvLRlNVCQ8zCyqctx+iRCkzVv3lwiZdjf1ahRI6m7kGv7SRLUTfJx3LhxchBJgjwlMogpvzhEyZS4dX/RokUSSceOhEFYsrBwnzfddJPcH2VsjqiQofmkJBU8w6RJkyIbEyAgUWyKKR5tLgreF198IbFBCXlUp04deea4Ct6mTZuksybMFJ/jiFLwhg4dKtdRev7xj3/o1GSiRm8S5mb16tU6JRU6z6222iolPA35iPKL8pCJbOoeygv5XkwK3quvvir3FFRmCcPVu3dvfVYZ4sY+99xz+qwCQgOR3yiJQchX4rUSwikojIm9jIIXBEXKCFA+TzguG4QyQlyN/HVKzfL9999L3SDkkQ3KHW3+n//8p05JD3G1iVNL3ocpeJnqFaHjqLs2S5culbrctm1bneJL+D06ThtCK/G75HmSMHV51qxZOqUM6hudchS51OWoPonPoBwEYaBJnTehy3L5zaRx7rnnSrg+A+0bhYl8ZcIiDulkSty6j5wn3KQNg0feR8xxA/15mzZtimICKUhJL9GmCwFFqCiWJFnOufzyy3VqacIUtRrVyXQ1IViygVBFhDLaa6+9dEo4amToKQEk/6vOIzQkVVJQQtSbNm2aTLuzFBaGEiQScqZu3bo6xZN8VJ2kTNunWy7Itu6lq8eFgiVAUB2VvBrWr1+fNgwYS2Dt2rXTZxVgFqCEtITPCnLLLbfIEgx1PAj3QV6vXbtWp5SF1sI21L4PlpFtCANG2UWVb3WjRvtiw8myjE379u0lhJFSRnVKNES4Ybl1yJAhOiWVOPWKME3Bz3MPLNNijgDY9rGUiGywYSkL+cI9JIn77rtPXskHG85XrVrlqU5bp6SSS12OasuE8gsr15UrV8rS4HHHHSfnufxmksBmjTaE7DUgd9XASf43dTgTUTIlm7qP7MEUBJMlA/Jvu+22kz7Z8MADD8j3Tp06tejMmRK7ixabIWLTUjFYM6chmU6rlMl1B266z5FPgwYNkv+xXTrttNOks0ki2CcNHTpUYgti90aHyMaXoG2cGqGFGrkbxTedLV4S6h42JE2bNhV7pYULF0oa9mR0YFdeeaWchxEVKxbbNDqvIHSuKEbYrYVx1llniUDlsxs3bhTjdezbOEfRAToA3mPzzDPPeIcccojYV+aD5557Tl6JPWxjzulUMoF94ZgxYyLjXsapV/369QsNg0jcVdOpETuYdhBVv4l/mqRNApQNilFwYJKpbLKty+lgsEE9DcJ3de7cudxWqzp/sxQhlCe2bkFM3OCgYhZGOpmSTd3HRu+TTz6RfEcJZ6B56623euPGjUuJGz5+/HhvzZo10vaaNGkiMovfLwYSqeB9+eWX0imh1MyaNUsMxak0aN2DBw+OvXOmtsCMlFHo6CgZTTKa2WOPPWLNPJQSGD/T+GjMKHgoC6eccoo8LyMxA8GiyROCsNvsvPPO8krg8DCSUvfocHgOnpfNJXRCCDGUirCZtnQw6mbky/fYMLN10003eaNGjdIplSGYPpsNEMwtW7YUoc2s3EMPPRQ6aPF9X4KEd+/e3Tv11FMrKX41hZlZCM6w0GGRl8w6poN2xowSAdLDqEq9QikkCHrv3r3lnNkklA1mBINQ3gx2onaTlyKUTdjMl2nLmcrGJqou5wJ1lZm5TIpbdf5mqfLSSy/JpqHgLGyQTDIlm7pPe2HiY/HixeLeDJnCzGBw9pzNOvQrbIDZc889RRlHRtFmC44s1JYo2KPwCEF7B4ywSW/Xrp2vNHWd6vsDBw6U9ELa5OVig2eDfRzPENcGz4CxPJ/jCNrgqUpcfg1DYbjqqqvK0x577DFJSwLYwfBM2BsasG088sgjxbYJGwu47bbb5H1KAZRzw5lnninpUcbZudQ97CS5Vkw2eAZsFMkX7q9FixYpGxviQp6rQYM+q+CKK67w165dq898MTQP2ssYqLPcA0fPnj1D25BScsT+rEOHDv4222wj72WTQT6gvPm9zz77TKdUsMsuu4h9XhSqA0+xa/zwww/lu2wbvKrItKlTp/qtWrUSuySDUtjlc08++aRO8eV7VQcotl7YhiUBnlkpxWK0H0QpTZIH2GrFJaouG6L6pDDMZqFM/UGm30w6bKxo2rSprwY4OiWaODIl27qvBoryfmRKJt2B77nooovk/bwWmkTO4DGtCmxXt7cpo2Ezos7FdUGSYXbEYGZnzjnnHHkFbPKSgqkbuPwwsCyCPR5T80pASxq2TrguGD16tIzkmJbv37+/bN9nCY2ZpTCSVPdYhmY5kBEqrgJY+mjTpk2om4B0hM1S4JIGOxulNOqUaBYsWCBuPrDD4/3M6DGboYSpfkcZderUEdco2E+yRNugQQNPDViyvt9cYOQOwaV+YFbBtuW0UQqI2Gax9JOOXOsVS7h33XWXzCrYS4R33HGH2OV169bNu+aaa7yRI0eKHSOzDtgjhc2OliI8M/UgqlwgqmzCiDPjFhe+6+STTw5dUrepzt8sRSZMmOApJVxm5NMRV6ZkU/cxi6BPfPzxx2W2nBk9+oooaJu0RVYbli5dqlMLRyIVPKZhQSmw8mpgCha7C9bZg9dqM9jdGUzngS2B4e2339b/lT5RdQOff4CdF2BrhlKBETZGv/gepDP98MMPvRNOOCElz2ySUvdwDopRN0otSt2MGTNECUFZwtYkLvj4w8bR9vPF81922WWiUONv0Rz4pmLzBP8bhWX16tXie4rlcwT3smXLRDCr0bcI/ijYDDNp0iT5jXw46ja2QcFlGZZOMRw3CmAQnhPlg4GFyQeUUqDD4pzl1VzqFc/OQIVNBo0aNdKpZdC+WfaijtOpoWigRHCvLEUlCcombLnM2C9GlU2QsLpcFeIobtX9m6UG9pEsUSN705GNTIlb95nYYPPh5MmTvZNOOkkGmLwf/5P0C1GgIPJ9UWY8+SSRCt4+++wjr2EZTMeMJp6UEWp1YBuuGq/fxqgV7B1NpU5U3cBoFuW2fv36OqWMVq1ayQweMycoGQgB7PaiSErdY1coytyxxx6rUzzvqquuEmGITQp2XXFg5ggF0TZwRwhjA4lNGfaf5mAHGt/L/0uWLJH3opzwXjZ8ALMdKJvk4yOPPCJpUbBRBNLt+q0uzIyuPRsOJsJE69at5TUIs44Yb9v5QP7Cq6++KucMKnKpV2wmQsFr3ry5TkmFvMTelt2GDGBQmGnr2PYlCcoGuyozY2fIVDZBwupyrjBwwRaY9pSO6vzNUoMNcNjaMlDLJDOzkSkQp+7zuzgvNpuesMs2NumZZA/tsVmzZvqscCRSwWNUS8cU5qn8s88+i7UsVKxQkSFsFojRBhsj2P0TxHwOgp89/fTTyyuxMTC133/EEUfo/0ofZuNofMG6wQgfb/dRdYPRGztK2UGaLopIUuqemckNClZm9ZjdRDGJAx1UcJaCz65YsaLSccYZZ4iQ5n8+B9xH8B74fWbocIWSDjpwNs8Q3aKmMUttwQgbph5EzYoRKSaYD8zcAQMJzjEnyLZesezE5qFg22WpKQyWcbnGLEdwkFPqUP9YCicvbchLFCd7EJOOsLqcK3wXs0L2QDqM6vzNUuLdd9+VOoniZZsWsOktzK1NNjIlSFTdD5M9KINs2Mkkexic0f4KjursSxacEvII8+bN0ykVLF++XK4ZB5KAZ2sMJVetWqVT8k9VNlmwGYD757k4vvrqK32ljH333bf8mm1oCkOGDCm/hqf8IP3795drF1xwgZzjyJFzVZlTnE4mAYyWlZIn3ucNeIhXwl7yOMgzzzwjBrhsPAmyefNm8WxunO5CtnXPOGJls0uxgGNtJez8sWPH6pQyMBzu2rWrPgt/fgPXlICMvTHjkksuqWQQjeNfvmPlypU6pWwzxX777Vdu8Mz5nXfeKfloUAMUcZj66KOP6pSahw05GIP/2/J8j3G8bcTPfXXs2FGcGUdBe6M+2JssIG69GjVqlK+UQnH+bA7qPJtTbrnlFv2uCsg7HEerDlCnJAvyXA3KpD4YPv/8c4kYcffdd+sUX4z4ieBDpIMgcetyuj7JpkmTJhLFJh3Ztp+kwCYjNsWwYcquw2qALdF1TP9JdKfWrVuntLcgYTLFJl3dHz58uETusfuEDz74QDZimP4Vx8uDBw+WjVIGnCazqSnXfr46KUkFb8uWLdI4jELTvn17CVUUzFBCKtGQ6KQII4SwnT9/vr5aGHJR8D7++GOp3C1btpTnNQde2KmEdHBARSOd8EjfffedpM2cOVM6ZX7XfG6HHXYQhc72Cs5uMzooKjQhufgMoVvWrVun35EceFaEA883ZcoUEfLHHHOMNEwDO7eWLFni9+3bVzyf07mG8cILL0ieDhgwQKeUEbfu8T410pPv2GOPPfxp06aJECkGeDYELbt7uXeioaDc2TtFo54fUCYQdHGJEsbsACdM3x133OHPmTNHQu9xL3TcQKSXXXfdVTpDdjmT5yNHjsz7QI52eM0110i0D+6TunPOOeekdBCEwKNDCdvVaYhS8CBTvSK0Hp8NO+iYUNyBe0I2oGyygzfpSgSRRDp16iSDWzrz448/XsJL2dx4442ST/QlQTLV5bh9EqxZs8bfdttt5TPpyLb9JAEmLfbff/+Uemsf7JI1UPep0yiEUYTJlLh1nz6AgRhRLyhbjg4dOqSEi0M2IXe23357GaDThzLASqd05pOt+KMyLrEwNf/WW2/JVCu2GPZ0byFgxxv+1VjOqQkwSMWINO4SWhCMwrF9YGnLGHYnFSV8xYAd2wvsK2zYWILhOruhMtm/YHdFXlHHbIqt7uUCS/Usl7AMiK0myx1Bop4fezHSqsN+CDsadvWyjI49WtAhLPWWvOZVdbIZl1BqEpyiUq/Y2MAOziBK2RA5kOs9Vke9YnmS78FfV6ZlwiSB3Rt2WeSb7azWgL1j2KaL6qzLbO6gDmSKLlSdv5lE2JxEXobJpHRkW/cx30H28F5sgTERsaG9mz4TP5ZBOVhIEq/gFRs1reA5HA6Hw+FwJHKThcPhcDgcDkdtxil4DofD4XA4HAnDKXgOh8PhcDgcCcMpeA6Hw+FwOBwJwyl4eQav5MW0y8bhcDgcDkfyKHkFD7cJmYjznnxBLM3q2LhMjL1cYFs5bgLi8vXXX+cllmcxgAsFE8kjCNvqcyFu3SumOhpGMLB/IaAMsm07uDgwIanyCe5aqgIuIOLmeZxnNCEIw6jqvZYa+Xhe3AtlIheZggeG2kR1lRXtiTCTQXL9/jjlEPWb+aQkFTxiN/bt21fC9+BLqnXr1t66dev01QoI5kyYIlyS4NvopptuKmlhRoWZPn26hEtJFy4rDPxmEZeSfCBf0vGvf/1LgjMTgJ9QStkohKUGfgOpS4R3I0SUPbuKrypiE1533XXegAEDvC5duog/pDgQ+9DUPWKF8h1B5YS6OGbMGAkvh28lfCxlKpt8Qju79NJLvSuuuMIbPny4hMwiKH4mCAxOHNiwww4aThihsPdwPProo/pdnrd+/XqJG1m3bl05zjnnnLQClkEMAcEJ0D5lyhRpN/mCcEidOnWSMGM9e/YsD3CeDdwvPrpo61Fk84wzZ86UIOlBkJmE7sOnIOH7iMtJmScRBlAjRoyQsF+EHOzRo0do2LcgceuygeD4xK1+6qmndEoq+JNE1lxwwQXekCFDpI5EKefnnXdeyu8dcsghBRmsFIKq1E0G6fSPdt7xXSb8ImTz/XHKIc5vFgTV6ZQUSpCJp/gHH3zQf/vtt8XzP57hGzVqJBEKDJMmTRKv04QiUZ2rhJriccPCTeWTXCJZqBG6RF7Amz/PwFGvXj19NT1Eq8Dz/9Zbb13+2VtvvVVfrQwhp3bbbTcJ2aM6Vp2aPIiCQIQGwpMRHSAIEQeICEJkAAMRPghx9vrrr+uUcPBgrxRD/+WXX5bj9NNPl3wPRibAqz7e6jds2CBRM/DgTtgpzgsNbUkJKfHUbqAeEukkLL8M3377rYSAwpO/Eowpx3bbbVfuBZ4IGOTlqaeemvIezpWSXR7NY+PGjRLpg3Bxb775prRl8pL3hoFc4PcJc6QUaJ2aH4gsgSwifBiQF9ShCRMmyHlcqBdh9cWQzTNyL2ogXMmbP+G4iKYxbtw4OfDWz28SHUcpQ/pdyaFfv36+GhiXP9trr70m9e/FF1+U8zDi1mUg7OHEiRMlT8nHJ554Ql+pALlPWD87GgNRdJDr//jHP3RKGdwX6UTcMAeRimoDVa2bRCjhvXbe2aEUs/n+uOWQ6TcLRckpeISZeeedd/RZGWokKwVE7D4gTAidqq3wEV6JzokQMSaMVyHIRcH74osvJMQQIVbq1KkjzxpXwdu0aZPkA6Gd+BxHlII3dOhQuY7SExQ4SUONoiXMzerVq3VKKnSeKBoIeQP5iPJL3YqC9xA30Yb6SHg4NUrUKb7ELpw1a5Y+K2Pp0qWS//fff79OKRwmPm5QmWVwRXifKLj35557Tp9VQJslv1ESAeU6rI6hUCMoDePHj6/UXtTI2G/cuLE+qwCFiIGMiVGbTxh4UjcIjWSDckebJ1RWHIi9S3gk8j5MwcvmGamLxMHt0qVLJQWPuKx2jGneS6fE79ohDJOAqcvB9ka+2HUtSNy6bMPEAr8VpuBRZlwj9KSBgSaKJiHubM444wyR3bWRqtRNZEWbNm3SDnyy+f445RDnNwtFyS3RnnzyyV6zZs30WRlqlCXhSpTQl/M1a9Z4119/fUoIH8KInHXWWTJV//777+vU0oApZJ6R6WSeIxsIL0U+ZAqLo0aj3s033yz/K0GUdfiXUkIJbm/atGmyZMNSWBiqoUsIM5YEDeRj27ZtZfk13XIBS5o2mBHwPfZvEX5Idb76rAzKGKLuKZ+wBAiqo5JXA8ul6UInsQTWrl07fVYBS89KiHo77bSTnLOEGVbHeB/fYcBEIBj1hXwK5tGGDRvEBKFjx47e5ZdfrlPzx6JFi8SGk2UZm/bt20tIPDWa1ynRsOzMcitLd2Fk+4y33HKLLD2ZemXALoj7pH4bqNtKOZX/MVtIEvfdd5+8UhY2nK9atcp7+eWXdUoqceuyTTCMlY1SziVEmt1+MAlBpnCPZpkdc5oVK1Z4jzzyiLd27VpJqy1UtW4+8MADYrs6derUUNOibL4/bjlk+s2CohW9koUR0IknnhgayD0IswZMrbP8VihymcGzYXaNYos7g2dgqY3PcQRn8Lif+vXry7VddtlFzuPOOJQaTMEz08JSKLOib7zxhiyjBmd1WfInT4KY2ZVly5bplMwwKiQwNjN56Rg+fLjMohYDSmD5TZs2lfayYMECSaMOEUzdBKzPhkMPPdRXnZg+C0cpzVIuzG5GwW83b95clm5tVGcs5YIcIHi4EsyhMyw1hVK45PdZ/rFB1pCebtbX0KdPH//dd9+V4Ol8JjiDl80zqg6pfCkJc4HgDF4YzDrx/UmbwTvkkEN8pYzpswoeffRRed7bb79dp8QjXV2mzPjO4Awe8pQVAWYNg5jVFWYageVkzs1BfX/ppZfkWm0lbt20zZg4zjzzzJTZuijCvj9uOeT6m/mgpHfRKmHvde/eXXaRMTLKhCocmcUjHqyjAmakjNG66tDFoJ2ZQoz/48w8lBIYPzPTwuwRhs7MJJ1yyinyvIzEDA0bNpQ8oY7ZsLEHCASeCdW+vHnz5kkdPfXUUyVvwyCQ/ujRo2UUH5wBKhQYBy9cuFCel80lnTt3lpnxlStXVpoRygSjYmb++J50UA/ZmBI124xh9AknnOApQZsyk037516ZDZk1a5ZsDGFzDDPfSsnJy8YqM/IPzuoga8jLTKsGtDNmlAhWHkY2z8iMIRvKRo0apVPigXxkFSQ401XqUDZhs22mLWezohO3LgdRirvIgzj3oQbg3vLly71JkybJhjql+MmGN2Ybaytx6yYbZ5DxbIBhQyGbnpjtp/2kI+z745ZDrr+ZF0TNK0FUZ+P36NFDbHF4DIybGf1GwTo6tg6MjgtJMc7gDRo0qPwahsLAZhST9thjj0laErj55pvlmeyZMmwbVcMV2yZm8+C2226T9ykFUM4NjM5IT2ecDdhjYMfHRh9mpfjMZZddpq9WgD3OgAEDZFaA9zDKx860WMBGkXzh3lq0aCEzR9lCnjODmQlm4pWQ1GepYD+llEyZieFeyC9jEM1MFmnt2rWTmUfDwIEDJT0fNnn8Nr+FrW8QZsWZNY6CGUvbrjFsBi+bZ8SInxk8Q5wZPPKSGVulROqUZIB9FW0Ko/ogbCIj77BTjEumuhw1g8cmIdJp60HYCMg1NlyEMWXKFJEhzZo10ym1i1zrJu3koosukrzlNYq43x+nHOL+Zr4o+SValCUEWKYMxTi8GBSVYlTwunXrVn6NHaCAAm3S6HiTglFm2dBgs3jxYklnCRYwmu/atauksTli7NixYkDPEiWNnOXEuKgRnt+gQQNRlNIpSCjXGG8XiyBnlzpKHcosgynyomHDhlkreS1bthTj83SwkYgNUOyUTQe/jTLOvcyYMUPS5s2bJ+dstrLZsmWLbG454IADdErNYfInbADJPbCbNgwGAiy92vUpTMGL+4wsO6KE2MRR8NhNOGzYMH2WLPCgQAcehMELedq3b1+dkplMdTlKwWNjBumURRDynmt4hIiC5Xbew27d2kZV6iYmXJRZOpmazffHKYc4v5kvSt7RMQbYGCazbBPl/FcVoPiLwj+VozL4aTMYvz1NmjSRV1Advf6v9FHCXl5V3ZdXA1PvsHHjRnnFWHru3LkyHc+yKVP0TMGrzleWCe08ywRG1Ezzq4af1mk0y279+/eXe8AYuJDgGBdDcu6H6CtKmZIliw8++MDr16+ffldmNm/e7L3yyivS/tLB8qzqhL39999fp4TD0jlGz5SPae9RZcrSl1LIvU2bNlW6Vt2wmQmCyzIsnVKWLN2EgZ88jOuVYiC+JzmUoi/X8MvI+RtvvBHrGalfl112mbya7+Ign3BYzv9hfvnw3cbSY5hftyRA2YQtl5mNRFFlEyRuXQ4DeVqnTp2c7+PMM8+U1zimIUmiqnUTkwY2y0TlW7bfH6ccMv1mPil5Bc9ABx22uw97FXaf9u7dW6c4gpjOCYzH+3r16skr2DuOSp199tlHXoONb8cddxTltn79+jqljFatWknd6dChg9jo0Vljt5ctOL6EsDpqw/uw02HnbSFhVyjK3LHHHqtTPO+qq66SXeyLFy8Wu8E4YI+CgpjpuXlft27d9Fl6sJ/ETs98Z1SZAoo4dmoI3ZrE2ACrkb28GoxDVJyxh0Gnz45sFFxzkL+AzQ/nDCriPCPKH3mDrZ79fezso7z4f8mSJfpTZbz55pveQw89JAOQms6jQkHZbNmyRWwTbTKVTZC4dTkMZAt1Nlg/gPvYZptt0u6ep3yBQVBtobrqJnnXLOB5A3L5/rjlEPWb+SYxCh6NxO6MAEH3ySefyCyEDUaRRGsoRRidQ9iMBK5O2BiBp/Qg5nMQ/Ozpp58uAgYQhGC//4gjjtD/lT7MxtH4gl7sGVn/8MMPXosWLXRKKmyTxwP+lVdemXUUEaB+sjGATQTp4H3cY6E7WzOTG7wPZvWYPUMxiQOdIqPZdJD3KB6Z3meg/rL5xRhEM4tF2w+WKRA5IKpMqxMUX1YTXnzxRZ1ShrknNtqEgRsYXDHYBzN3wECCcyKIxHlGyiT4XRxEDEHx43/Kw4Dh/1133eVNmDBBXEUYyNso1yGlCPXqv//9rzy/DXmJshbsN6KIU5fTwWeRI0FFk/s47bTTUgbVQVD2kTthmzSSSHXWTfKOjXQ2uX5/3HII+82CoIRlSYFtGFvUbTu2devWifNTY3QNbHcmGgNOZ+0DGyzsZQpFVWzw2AyA/RfFxvHVV1/pK2VgH2au2UbWMGTIkPJreMoPopRguXbBBRfI+XvvvSfnGLUXy5bv6gIbJaXkpdhR4JVeCXvJ4yAYSGPHExYFBefaeKc3XsuxqcJoWjVwOQelLItzTeyjDEqRE8P4jy2np998843Yl5koDoVECTpxEzN27FidUgZ2rtgmGoLPb8M1pSBmtNnDoezee++tz1KZPXt2Sr4B9qRBx7DLly+X+vr444/rlLIoDrSXVatW6ZSahQ052HrZ7nAwyLeN+KkLHTt2LLf1DIP2xrPYNniQ6zNiOxq0wcPOj40HbASy5SO2SEQwqYqdcLFBnqtOWdqgAZvHn//85ykbGzCyp88IurqBuHUZlyuUETaTQXDsjdzBWN+glDtxRWR+E7nLxplnn31WzgE537p166KIcJMP4tZNojuRL6a90edjI8emJQNusFq1apVSn+N8f9xyiPubhaLkFLyRI0dKA8LYmwIeNWqUdKi2bzt2QrIJgfeFHfNj+MyrKXJR8FACqHwYbtrPgRd2fKehVIAxAMWg2/h1mzlzpnTK/K75HEbZKHS2zx92m9FBqZG+hOTiM/iPQnlOGjwrdYfnQ9gi5Bkg0DANDBYIH4YBthrhS+caBiG3yFOzO47NArvuuqt0Buy4RUGizgY7YJRGOmbKgt21o0ePFiGD8CkWeDYEIf4jaTP460K5s3eKBp/fhjBsCLpMEIqMAUgY7ELm+6nrKOaEBCJUF512EEKoNWnSRPKcsGEoV/ls67RDFE82dM2ZM0fqzjnnnJMyaEBOseM/bFenIUrBg1yeMajg0VERFo/fCDvsUFpJAT90nTp1ksHtww8/LJELqEs27ODm+c1GM5tMdZnNLtOnTy8fZLdv316+JyjrkaeETGNwx0QF32nv3qTvqlu3rnwHm9/YVEO7K4ZBXz7Ipm5S99mUZmQmAz/k7vbbby8TOfRn6Af2gCvu98cthzi/WUi24o96iJICmxUM0TG4jmsgWyyoDl38qwW981cXGIwag95cwCgc2wSWE41hd1JRwlcM2LExpC7ZsLEEw3WlVGe0ucGuhrxSDV3OyUO8oPOqBH6kPR1mAuQ10/3YQeZaZjUJS/UsZ7AMyD2y1Bck+PwG7MVIy5R/1Fl862EHGYYaTYvvQuzQjA1MFCzFkff8LrZX9vJLvvj222+lXjVq1Mhr0KCBTq1AKRsiB3K1syyGZyxVqEfYJJJvYfVNKQuhfUrcuhwXZAv15IADDqgU/QJTEaKW8HvIj+B1RxlsTlIKW4pMIk9N/4VPSfIwV+KWQ3X+ZnVTkgpeKVPTCp7D4XA4HA6HG/o5HA6Hw+FwJAyn4DkcDofD4XAkDKfgORwOh8PhcCQMp+A5HA6Hw+FwJAyn4OUZduMU0y4bh8PhcDgcycPtos0zbhetw+FwOByOmiYxM3j4HMO/0X/+8x+dUhn8juHXKwmYQOvZgt8g8ikuBClPFyA/SeAjy4RqC4LvsVzAl1I2mFjAxUa6dlVdVHfbLGR7Rx5VBXx8xc1zQr0R4i4TfCexlMNIilyMQ1XLJg6Z8pN5lTj3kY97LWaq6/nT1f1cZXsYxVZeJT+D99xzz0k8OZxTErOxU6dO5XFVbXCMfOihh4piZAfXzzdVmcGjkhIc+Q9/+IM44s1GGcAxKrH3CJh/ww03SOD4KOgYee+8efPEceN5551XHHH1agCc7I4aNUoaJjEpu3btKnE/AYe011xzjTjxJUYhzk5vueWW8sDv6Zg9e7bkM44ycXZ7ySWXeL/73e9C66Zh5syZ3pAhQyTIfzGAQ/HrrrtOHHxut912El/xzDPP9C688EL9jnBuvPHG8niqQYjZOnz4cH1WxubNm72bbrpJ8pnP2jz66KNyLQyczlJHwyhUeyde6dSpU72DDz5Y6gtxK4k3mw20cwLPDxo0yLvgggt0aioM1JB7PB/B8rt16yZt1cBApXPnzpU6L+KemjjDwHXq3YgRI2QgRzknEQZao0eP9tatWyeB4mljtMl27drpd4STbV1+4YUXvOuvv17kBv1REH5/zJgxXuPGjcXROg5yaWPB+Na0tWuvvVYC1vM+nGKPGzcupeySDPl0+eWXe6tWrZK+kli9t912mzgTzkScuo/jdvpAzpH3yPexY8emOPfPpuyro93XCCh4pYgatUqII8JNrV+/XqeGQ9gpQh3xuJs2bdKphSGXUGU8K6G1lGIhz8BBKLY4EI7srLPO8rfeeuvyz9566636amWIKbrbbrtJTMZM+VrKqBG2hOAi/izhn4IQUoqQb5MnT9YpvoRwI5ak6gh1SjiTJk2SEFuE0FPCW+LYku9hsWwNxBRVgqZSzNBCoYSjxGUkFI+Bekgou7D8Mnz77bcS45NQTWpgkHIQc5OYvwbC6RHeSQlLyR/KIwghpZo3by7xo+3vatSoka8UTf2uVArV3gkdRhgyyhLIC+qQUsTkPC6E0+Lew0KVAaHayGNiaaqBiU5NhTBc5AH5Z45gvGDiJfM+6jS/Z8IbJpF+/fpJiDDqBijFWJ77xRdflPMwsqnLxLWeOHGihKAjL5944gl9pQLi2BLGUCl1OsX3V6xYIbLcjnGrBu/+//3f/6XEsyWe8RlnnBEaoi9pEJeXfFQKrRxqsCN5Sn025ZeOTHWf/pf42XbYM8JV0r8SLxiyKfvqavc1QUkqeMT9Q7EjJiP/Z4JOltiq+Rb4YeSi4BHflODvxLSsU6eOPEdcBY/npbMmjh6f44hS8IYOHSrXUXpMRU8q559/vsQxXL16tU5Jhc5zq622ksZqIB9Rfk8//XSdUhliEHKd9xqI3YpipEaLoZ0o70WAd+nSpWgUPDp/6kJQmSXOau/evfVZZe6//37/ueee02cVvPPOO5LfKIlB6PD4raCCx2eIPxuETo58soPu2xSivX///fdSN4j7aoOQp80TCzUOTz31lH/ppZfKvYcpeKQxWCOWaRTIlzZt2kQqf0EYAPJ7SVXwTF2eNWuWTimD9oYiEEUudZnBHb8VpuDdfvvtouAFQTmwFRDiPe+33376rAyUHr43qs4niXPPPVfiMRuQjyhpPL8dPz2MOHWftsN3ffzxxzqlTKag8BNLGuKWfXW1+5qiJG3wWLpgCpelBbOcFsXy5ctlqlZp4jql9CD+JrE61agu1hS1DctTxKpUIwqdEo4akXiqM5X/WQIOizmaFFTj9aZNmybLUiyFhaEEicSorVu3rk7xJB/btm3rzZ8/X5Yvw1izZo0s0djxQSkz1YnKMpEaqevUClj27dWrl5RxscASIKiOSl4N69evTxuP8ze/+U3oshdL1kpIS9zdICwBh8FyCUvWQVauXCnxH4877jidUkGh2vuiRYvEhvOYY47RKWVwH6rT8VQHrlOiwXRjypQpoc8MLPcPHDjQ69ixoyxfRYEZBvZ7LBnFsbeNyv+kcN9998lrsE5wzhLgyy+/rFNSqc66DLQp5MbatWt1iifyADtn06a4/sgjj1SqR4cccoj0A0qB1CnJBDs5nh3Za0CWspwOmNSkI07dV4MkiUVsyzE8WyDbqSuYSMQt++po9zVJySl42InQOTdv3lwOGovSqkONWrFRGz9+vNg4JIVcXayk+5wauYvSDLvssovYO9DZJBFs7YYOHSq2cNg3YQOjRsfSqG0IcB9m5G4UX+pcGAgF6mWQevXqiX3THnvsoVPKoHNBQGA7WkwcddRRYqs0bNgwb+HChZJ27733Sgd25ZVXynkYDELCwEYFoZkNKNe2omzgu7CxCdojFbK9YwsMuEGyMefYZmXi6quvFvusKDtNbH5oq3R22JCh6BpF3IY8YKDRr18/r0mTJjK4oI7VVigbOuTgwCRT2VRnXQbKARnAZ7ERpc/6/e9/L+co7cC9kB6sR7QD2mOcelTKYKMeZuOL/IRM9rSZ6j79GjpEMH+BNBRs7NXjln11tPuapOQUvOnTp8trnTp1vNNPP12EecuWLcUYdfXq1XLNwEgYQ8mkj1CrCjNSRqFDADEzwqwTykihRyDVzVNPPSUNHkUNBQ8BywYSnpfRn6Fhw4aSJxjf2pgZYwxps+Gll14SYYMAMzDCYwMBmzyKDZQnFDuet0uXLqJQIThRKrKdaWTUzcwf31NVfN+XUXRYB1vI9m5mFoKzOpQ3eRk2c2tDO2PUb2+UsPnyyy+lPBiozZo1y7v00kulI2RWZ/DgwSm79zAmp56TF2w+o1NipprvqI1QNmGzbaYtZyobm6rUZWaN6L8++ugj6bMY1FEubJwzA/CoegTcL2XIjF9tA/nJxpTgLGyQTHX/3XffFRmSS30IK/uqtvuapuQUPOMehE6R5SN22dHxMJI944wzyrdCU7AHHnigt//++8u5Ixo6bQMzNsuWLZNZGlwv9OnTx3v88cf11dLH1B+WRBcsWCDKLTuSDzroIK9v374ymwfUJWC52oaRN6RbpgyCEGCm2SyBG1Au2SnHDrlihA7JKBUsRZA3ubhxoS0imJkdriosqbFLLrhDsdDt3eRL2Mh/xx13lE49CjodZgKok1Ewq8CMMstIrGBQLsxEDBgwwLv99ttTlu5Y3mIZibrFd1900UUy4xe19JtkmA2jT4gqF0hXNkGqWpfZhc4sLfXlySefFLlgrxRkqkcQxyVOkmDwwgAIzw5M7KQjU92Pk79R9SGs7KvS7vNBySl4n3zyiRQyhWigI2JKlsxE4eMV9wkIP0dm7EpoZmfOOecceYWgklPKUH/AVhBonNjj0RlgnwHYOuEyBdcKvXv3FhcF/fv3F9tPltCoc3FBWZ4xY0bK8izb7xFGLVq00CnFB8vQLAcyKu7Ro4csJ7dp0yZrNy5RM265wHfhosB2M1QM7Z3ZAggu9QMztbYtpw32gnQ+t956q04Jx9TbDh06pCxNM1PBbAHL52HwXq4xY7R06VKdWntgaRM3RVHlAlFlE0ZV6zKDyrlz54piR9tnRo8ZIaPkZapHkM39JgHcAZ199tneqaeeqlPiEVb3q5K/YWWfa7vPFyWn4GF4zRRrkCOPPFJemWFhyQJFhU4Z3zYcxo7onnvukXOjeTvK7O4MpvPAfsHADFdSMH6OgnXIrj/AMh+CmBkjDGgPO+ww6Uw//PBD74QTTog9gqcOoijaNnb89mWXXSYKpamfHMwusvzC/1Eddr6gfTCIQqlFqUNBRQlBuWMwFRd83DHzRx5UB2FCthjau7ENCi6DMvvADJLpCIJQznQODCzMvU+cOFGuMQjg/I033oistywrYe+zadOmULkIzMCSZ9maFSQFyiZsedrYL0aVTZCq1mVMiJjBwxQE5Y6VEvwXMpOHEgNR9Qi4X+RzkjfABcGGjRUQZG8uBOs+/RoTRNnWh6iyz7Xd54uSU/BwMkvHGLSNMh1u/fr1xS6FxsTymznMzqUlS5bIOcbKjjJsw1XTERqjVrB3NJU6xklxsLNjOh3hSf2xadWqlczgMXOCYKbRsrQaB2ylmB3k8zbUX4Q0SohdR9n1Rb3kf+ppIWFJFmUO588GHIMye7Z48eLY7YdlDRTEbJa0o6BNYz/JPdgUQ3s3M7rBJRmznIYz4jDobDDstu+d/AWc3XLOoCKq3gKyjzwwdlxhcB075doIZcOyvpmhMWQqmyBVrcvs0KTds1kCmIVm4ETZsHMWjHF+sB4B98tsFHbStQE2wGGfiPlBurqdCbvuI+PxKBGVv6zOhHlWiCr7XNt93lCjvpIC3zTcdtCnEU4hSV+5cqVOSYX3c70U/eDZKAEhz1G3bl2dUsH06dPFqW7Pnj11SgXGPxPHLbfcolPLwLePqthyzfjXwtGvef/ll18uaUkAv4mqwVfyW0Q6zzp27FidkspLL70kDi7TOSu2WbBgQaijS+qv7VvPhntSIz59VliUQJP8UKNnnVLG+PHjJR/+85//6JT04FwW/1/poE3yW2GOjm2uvvrqtD4IbfLd3qk/qsP2hw8frlPKoE1yHzjWjQs+wPhM0A+eUrYr+UcDnLZ26tRJn4Vz8cUX+9dee60+SwXnrfyeUoJ1SrLAJx3PF/ShdsEFF4jPz++//16npCdOXabM+K0wP3gDBgzwGzZsqM8qwLekGkDqM98/8sgj/bZt2+qzMtRgS773jjvu0CnJBrnTv3//So6N1QDPV4M3fRaPYN1HzvzkJz8Rn6U2e++9tziTDiOq7Kuz3dcEJafgwYknnijODO3Cx6v9qaeeqs8qkwQFD0fHRhHj+Oqrr/SVMtTor/xasBEMGTKk/Bqe8oPQmLiG0IP33ntPznfaaacUp5NJAOe5KHlq1KVTfPFMjrAnj4M888wzojiHKXebN2+WDvZPlqNSOhIigYwZMyblGDRokERkiKKYFDwca9evX7+SwosD4a5du+qz8Oc3cE2NvFO89IdhHNGSP+nAsTmCMw6FaO+///3v/aZNm6Z0HMcdd5w4sTb873//8zt27CjOjKOIUvCWL18u6bazW7znIxNWrVol59S9wYMHpyjmb7zxht+qVatIuYPSzPfSWSUR8vzoo48WB7qGzz//XCIVEMHAsHDhQmm3r7zyik6pIG5dRgkgL+0oFAacWPMd9iTEjz/+KEq7GVjDk08+KQqIHfFi5MiRooB88803OiW5fPjhhxLJAmfztvwcNmyYRNcx9ZjoTq1bty5vb3HrPkoi8n/KlCk6xfeff/55GbjmUvZx2n2hKEkF74svvpBOhhBHM2fOlAw+66yzJD2KUlbwPv74Y6ncLVu2lGcwB17YGTkgJIDKTTphUsxonPyhU+Z3zed22GEHUejsES3ewslHZggfeOAB+QzRQtatW6ffkRx4VoQDz0cjR8gfc8wxIgwMDB6WLFni9+3bV2ZO6FzDeOGFFyRPGZ3Dyy+/LFFGTF4Hj/nz58v7wigmBQ94NgQtI17um2gotDsicxiCz2/DTDHCNR2EPSPkIN+xxx57+NOmTZPZiiBr1qyRSCBxlZBCtHfaIZ7wmZGZM2eO1J1zzjknZdDAzPiOO+4o+RpFlIIH5BeKLoo3IZLoSOw6RWg5OiNmFVCYadOjRo2qNFsBzNzfddddIg/4Perf4sWL9dVkQUQBZjkZ3DI7ffzxx0tIK5sbb7xR8uGhhx7SKRVkqsvUSwYfZpDdvn17+Z6grKd8CInFTBx1hH6LdoUSakM4OmbyGHiOHj1a/t+wYYO+mlyYtNh///0lD8MOO7wYdR9FGIUQsqn79GvMyqFY33fffVK2KPhhZCr7OO2+UGzFH5VxJQl+yjCKxz6FdfZSgB1v3Df2FzUBBqnGkDQXMA7F9gG/cMawO6ko4SsG7NgY4vfOho0lSjkQm5dMNjfYX5BXSrjolOSAvSDuBgjOja1mmIF31PNjL0ZarjZLNhhAq046Y0SWYoAoG9SrRo0ayQ7OIDwHciBX9zjsvH3rrbckb7EBCjqD5vdNG8avXhLrZa5gw4mtK/lm3GLYYO8YZhhfnXUZe1B2qBPZhr4rzMUGcB1XONhDY7fnyjEVNichF2yZlG3dR8bzmQMOOCDSf2bcss/U7gtBSSt4pUhNK3gOh8PhcDgcJbeL1uFwOBwOh8ORHqfgORwOh8PhcCQMp+A5HA6Hw+FwJAyn4DkcDofD4XAkDKfg5Rli07ndUA6Hw+FwOGqSklPwcNuQDtx8xIEt6IXYQPyvf/2rWn6XuKW5wLZy3ATEhdiobNWvDeBCYcuWLfosFRMMvKagPhYz1fH8xGs0IXxyJVP7h0K1bZu4cigKXEDEzfN0+RqnXpFXVb3fUiIfz1pd/VRtp7ryifb073//W5+lgtuhTMSVz8VWriWj4G3evNm74IILvOuvv16npLJu3ToJCo9PIXzi9erVS2I8BiG2Y48ePbwRI0Z4F154oQR/JuZmKUAlnT59ugS+P/roo3VqPPCbNXDgQPHxRMD2dKCEEuScAPwXX3xxVgphqYHfwL59+3rnn3++BHe3Z1epP5deeql3xRVXeMOHD/dOPPFECQqfCQJjH3XUUaGHHTQbYTBmzBhvjz32EB9M+LrKVDb5JNfnt2FAccMNN0iQ7ilTpkgdNpxxxhmhecTx6KOP6neVgRD+85//LLE67e+wKYa2TczKTp06Sbzinj17evfee6++Eh+ej3iYtPUo0uUr9Yo8aNy4sbhjOvDAA725c+fqqxUgM8kv7vXqq6/2Onbs6L344ov6arKggyZPCDw/bNgwee7nn39eX40mbls2EByfuNVPPfWUTkklTj+V7W8mkbj9eRgM0ukf7Xzju4hDa8CvJzIfnWLIkCHSVsMGSciUgw46SNoRMZ+vu+660MFjdbT7GkHdbFFDRAY8hBO1gtsNi1dJeBE8w48bN04OJRzlvUR6UA1bv8v3Fy1aJOFebM/WhK0i1FK+yCWShRqhS+QFPKDzXBxES4gD0Srwlr711luXf/bWW2/VVytDyKnddttNQvasX79epyYPPMdTlwhPRnSAIES7UIJBvKMbKAcifYS93/Dtt99KCCQ82RPj0z4IhYNnegNe9fGSjod6ombgwZ2wU8XgsT7X57fBGz95QcghpXTo1DKIgEG4IMIL2nnEuVKyU6JZEMqMqAO8n/obFjO1GNo2kSWIUkH4MKAuEFUmLCZxOqgXPGdYJAtIl6/QvXt3v0+fPv7EiRP9yy67TDz7833ERzYQdmnXXXdNCYe1YsUKkSuZwnGVIv369ZPIBaY/IEYo9UkptHIeRjZtmbCH5Df9EHkdFos2Tj+VzW8mlbj9eRTICt5LtBJz2KEU6X+RC3ZUDKIZ0b8SxsxAJBJCoBKdiMOE9Au2y+pq9zVB0St4BgQRmRum4BFj0I6XSudEofJ+OxwXBdStWzd9VgYFx/uIvZoPclHwCMFGbFBCn9SpU0fuN66CR6gm8oNwOHyOI0rBGzp0qFxH6bErehJRozcJc7N69WqdkoqJj/r666/rlDIIR9O7d299Vpn777/ff+655/RZBYSF4vdQkoB4iYTTslm6dKn8Jt9RaHJ9fgNCkEGFHWPThnYcVscmT54swjkMBircU5iCV+i2/f3338vAiHBfNgh52jyhsuJAvFLi1HLfYQpepnxFcUbxs6FeoTTbAeyJmYqCF4SOKiyucClj6nKwvXXp0iWyrkHctmwzadIk+a0wBS9OP5XLbyaNuP15GPStxKkPG/gYaDt8FyFADQz4UfgJOQb8JvFvbRg8EtavV69eOqX62n1NUTJLtCxhhcG6OtOvhJsyELpHZbj8zxKcgWUNliBYgjSsX7/eUyOjog51xr2pUZ1MVxOCJRsIL0V+ZArxxPLXzTffLP+rBhAakiopKCHqTZs2TZZsWAoLg7oCSlDLq4H6ki5kDUtA7dq102cVsPSqhJS30047yTnfcfbZZ8v/BsoYou4pn+T6/LBhwwYxB2DJ7/LLL9epqbCUEVbHyCfyMIwoGQCFbtuLFi0SG05kkU379u0lJJ5SmnRKNES4YbmVJaMw4uQrYZqCn+ceWKYNykKWvNauXatTPO/9998Xm9tM5Vtq3HffffJKPthwvmrVKk8NBHRKKnHbsk1V+6lcfjNJZNOfh/HAAw+I7erUqVMjTYvUIElC1dn1HNMcNQCSumLMHTBNsSG0IJskbflcHe2+RtGKXtHDTBS3GzaDFwYjKN5va/yMjkg78cQT/W+++UaCprMUGTUarglymcGzUZVSniHuDJ6BpTY+xxGcweN+6tevL9d22WUXOS/0yKOmYIqfERdLocyKvvHGGzLTE5wVUkLCb9q0qSyLmKUt8pBg4nwuWw499FAJap2O4cOHyyxqMVCV51edlNQlguCz3MfSX5yZB6VwSLkwuxkGy1R8b9gMXqHbtlK45PdZXrJRCqekM8OYCZZV3333XQmezmeCM3i55isQrN6ewcMMgLJt3LixzA4xY8HMCb/BbEaSOOSQQ3ylGOmzCh599FHJT2YzsyFdW6bM+M6wGbwwwvqpMOLIjyQTN59sMyaOM888M2U2kH6N2Wxmb4OYVS5mfMPgt4877rgUM5DqaPc1SWIVPNbhEV7BqdpBgwbJ99B5Me0btyFWF8Wo4M2cObP82u677+63bt1aGgH/03Emiccee6z8OTt37iwNvUGDBpKfwaUpOkGUQfIC27ALLrjA37Jli74aH+ouigsKTBjUh1GjRsk9LV68WKcWnlyen+ssJfGZc845Rz6HPQ3n2Lyks6Ghc2zevLk+q0w6BQ8K2bZPOeUU+W0UtCDbbrut36JFC30WDu3M1L8wBa8q+Ur9+r//+79KCgI2RtRLrnXs2FEUHRS9pFG3bl2/UaNG+qyCZcuWST5j8xiXTG05WwUvqp+yyfSbtYE4+QQoc5g53Hjjjf6ee+4pZdGwYcNyubVmzRpJw0QnCDKYa7atKjDgwe4Y+2OWXu02UtV2X9MkUsFD2CHkFy5cqFNSQTjyXTSafM7eQTEqeKZj5MBQGK666qryNJSipIDhPc9kz5Rh28gMB7ZNzObZYKNHOp+hseZigM5vMvILAzuQAQMGyAid36DDfvjhh/XVwpPt8zOrxHvbtWsns4CGgQMHSnq69sbsG4I5ikwKHhSqbfO8/C4zh0GYFUdRjoIZS9uuMUzBq0q+Tp061W/VqlWo8oYs4PMcPXv2rJJsKkZ4ZtoUynAQNpHx3GeffbZOyUy6tgzZKHiZ+ilDpt9MOnHzKQjt5KKLLpLy4BWeeeYZOUfmBrnzzjvlGhsuDCiU2LR26NBBZArX2bhkqEq7zweJdHSstGyxb1LCXqdUgLsHbJ0ef/xxsc1Ryo3YYtVmPvroI/2fV24Hds4558grqM5D/1f6qBGevOLyw4BtI3UA31VKQOtUz3vnnXfE9gN3CrhVwFanTZs2WbveSGdXhh3IXXfdJd+tlGvZyo99WjGQy/Ob/MVVhO2WAPcOO+ywQ6T7ADXC9pTwjcynOBSybeN+CGx3JQalNIntThhKARGbOaVo6ZRwcs1XbO2oX7hxwJbJZsGCBeI+BTs8pbyLW5YuXbrUuM/HfMIzN2jQILJcIKpswkjXlrMlXT9lU52/WYrEzacgtBPaRcuWLb2lS5dKWqZ2CnZ9qFOnjrhGefrpp0U+UZeQ00YG5tru80XiFDz8EGGIGeYvCEWFzQSTJ0/2TjrpJBFsBxxwgPiTwti2toJ/H4PpPJo0aSKv8Pbbb+v/Sp/dd99dXtXgRl4N+PyDjRs3yus333wjRs39+/cXpWbGjBnSCdOw+/XrJ++JA/4bX3nlFfFXlgl8zvF73APGxoUk1+ePyt+dd95ZfNht2rSp0jXA35QapXv777+/TsmOQrdtNjPBl19+Ka+GH3/8UcrSdARB6IDoHBhY4HuSgw4E8MvI+RtvvJFTvjJgYVMGhuONGjXSqWWsXr1a/ARilI5yt2zZMq9bt27ek08+KR1qkqBsguUCZiNRVNkEyaYtZyJdP2VTnb9ZisTNpyi22morUY4//vhjOadfQ2nLpT6wCWPSpEnSrozz/1zbfb5IlILHDrKHHnpICoGCDUI6DhC32WYbOW/YsGH5LpdHHnlEXmsjppICHTvUq1dPXmE3a0dTqbPPPvvIq2nwhh133FGU2/r168s5u6NQZo499lg5h6uuuso7+eSTvcWLF3vfffedTk0PMycoSPaOrXTglJOdcuzYKiS5Pn9U/gIDCWbWwtom+YSCkSuFbtvsygN7NhyM89TWrVvLaxA6G3azouCag/yFV199Vc4//PDDnPJ16NChouA1b95cp1SA0scuZpRqwJErSjzfkzRZSNkwQ2xmaAyZyiZItm05ikz9lE11/WYpkk0+pYM63axZM/kfGY9HiWA7BeoD8iOdFwPkM5jyyLXd54vEKHjvvvuuLEUw+rSXIj799NPybfAUbrCiEBWiGDrUuDB6gLBZEGYwiIqAh+4g5nMQ/Ozpp59e3jEiCMF+/xFHHKH/K33Yzk6DD3qxZwT2ww8/yGwGmJnMYH1hVgtXCHTMcUBAZ7O8gmDgHqsi0KqDXJ+fGSWUwrAoAXiPN/lrQ94vWbKkSstQhW7bKL4oScFIECYfunfvLq9BiBSzYsWKlIOZO2CpnnPMCbLN15EjR3qnnHJKpbbL8jWE5RflyixFqcjCuFCvWAonL23ISzpqexCTjmzbchhx+imb6vjNUiTbfEoHAyXagoH8ZIY/qPBTH0477bSUyY0gyGdclRHdAnJt93lDdfYlgXFWyYaAIBglY0SLMSTOCc0xbNgw8cavClLehxsKdsJgVG/44IMPZHeaKnCdUrNUZZMF920MPTm++uorfaUMXFiYa8HnGTJkSPm1sF1j/fv3l2vslAScw3KOe4FPrG3mSQCjZaXkifd5Ax7ilbAvrxu4AsF1zNixY+XcgLFu165d9Znvb968WbyiB3fgAtdUJxq6MUEJCjGMZ5OFAfcebPagThaaqjz/8uXLpe4oZUKn+OLlnbq7atUqnVIBO0j33ntvfRYNLgf4XrMjzqYY2rZSyMQY3HajgHG8bcSvBk6yYxVnxlHQ3nhOe5MFxM1XdgOyYcWWhdR5NlEQOQXYaUjdXLlypZwDBuX77bdf3jee1TTk+dFHHy1uYAzsSP35z3+eYlCPET+udYIuLyBdW7ZhJzJlNG/ePJ1SQdx+yhD3N5NG3HwiuhMeH0x7w43J4MGDU9ws4QaLDUZ23uJgHfk/ZcoUneL7SiETt0Gm7GkLbLqwXaZQj6hDuNexidPuC0VJKHhsUTbbkffYYw9/2rRp5Z0gSg4hnrgWdtjhSNiNg2Al9Mn06dPlYHcMnXu+yEXBQwmgcrds2TLl2fDCTsdGZQQqN+mESTE7DXGBQqfM75rP4Y0bhc72KcRuMyoqneQDDzwgn8F/1Lp16/Q7kgPPinDg+WjkCPljjjlGhIENUQEQNOzcnj9/vvhJQrmxd0zxHvI0bFcWnSnCJQx2c9ExUxbsyho9erQIMYRbsVCV56fNNmnSRBREQvkg8PiOMGjbDECiwE+bGs1LXvFbl1xySSV3MsXQtmmHeMIn2secOXP8vn37iksTW+nEPxbRIsjXKKIUPMiUr0QC4bNhB8ouiruBnfX4DbvjjjvkfokUQhnTkSUN/J916tRJBrcPP/ywuNHB9YbNjTfeKPmE+5gg6doyMOigzplBdvv27eV7jKzPpp8yZPrNJJJNPlH3qdNGZlKfUYgJzcdEEP0Zgx1b8TLQrxG6jsEM7oPIZ3uXLtGjiPTC9+FLj/Y2cuTI0AFqnHZfKLbij8q4WgVLQuwQZCoWGxSWJvIFO97wWM+0bk2AQaoxJM0FVVnF9oFpaGPYnVSU8BUDdmwMsdkKg6VqlgtYBsNWEbulINhfkFdKGOiUMrCXIi3KfoaoC+Q1y4h8d65lVpNU5flZFnvrrbckHVuV4C5OA3WW3a/YQVaVQrZtw7fffiv1io0N7LoLopQNkQO5LoXGzdc4YEtJfmGegJ0fO8qTDFEHiHBAvoXVN6UshBrGZ2rLNUEhfrOUYHMSGyNsmUTbM/3Xr371K8m/dLA5ic+wISsoK+gLaWe8spEpU3vN1O4LQa1U8ApJTSt4DofD4XA4HLkP/RwOh8PhcDgcRYlT8BwOh8PhcDgShlPwHA6Hw+FwOBKGU/AcDofD4XA4EoZT8PIMDkkz7exxOBwOh8PhqAolpeCxlT9b2LGaCVwrmNAiNQ1euKtj4/Jrr72m/8sOtpXjJiAuX3/9dXncvaSDCwUTySNIrgHY2WIfh1zqdj6pjgD06dpZnHyi3cR5XzHkZdxyjwIXEHHzPF2+xsmLqt5rqZGP58W9UDri3gPlV5sdXVRXWdGeiA0bBm6H4pCpTKHY5HjRK3gU8IgRI7zGjRuLa5EDDzzQmzt3rr6ayvjx4yVWnDmIKTdnzhx9NRUUHQKRE8R5ypQpUgGKHe5x+vTpEoKJuJvZgD8f4lLi42n27Nk6NRz8s40dO1YC8BNKKRuFsNTAB1vfvn0lvBshouzZVWKEXnrppd4VV1zhDR8+XEJGERQ+Dg8++KAE5R82bJjEWB0zZkwlQZ1N3S4EVXl+Q7p2xvNfd9113tVXXy0HYYKIgRtk3bp1Xo8ePSR0F+/r2LFjpdBAQL0mhBB5ST2/6aabqq2DiAuhpTp16iT32rNnT+/ee+/VV+JDHiG7aOtRZMrXOPWKQSL1nvdyrxdeeKH48koidLw8J2GqaJPUp7Cwb0EIcm/3KfYRFgCf4PgdOnTwnnrqKZ2SCnWZUIT4GyRkYq9evaSdBSEGMffIPVMuZ555psSGri3EzacwGKTTP9plxXeZ8IuAX0/q/gUXXOANGTJE6n/UIIlJDsraDndmU9RyXHU6RU337t39Pn36+BMnThSP/yoD6SX9BQsW6HeUQZgnvLLjodwcXbp0CfUmrTpfCVOjCqU8CkS+yCWShRqhS+QFno9n56hXr56+mh6iVeChfuutty7/7K233qqvVoaQU7vttpuE7Fm/fr1OTR546ydCA+HJiA4QhGgXSjCId3QD5UCkj7D32xAZQzV2ia4AqtOU/CQ6iE3cul0IqvL8hkztjFA+qhPTZ77/5ptv+kqgS0QAA2Ga8CjPNcOKFSuk/tshnCZNmiSRKwgvpJRGf/fdd5e8vOqqq/Q7ah4iSxClgvBhQLkTVWbChAlyHheiLXDvYZEsIFO+xqlXhGQiMoga+OkUXz5DdJds5VMpoAZbErnAtEml3Eq4KjVQkPMwKD/ymagU5513XspBWCs7SgphD8lvIpSQ10888YS+UgF5zvVx48bJQdQV3ktEInNfoAY5ErrPjsBAqDlCAtYG4uZTFEQo4b22LmCHUqR+k5d2VAxkNv0rYcxsKMfLL79cfp8wkmEUsxwvagWPMEgIMZulS5dK+JC2bdvqlDLGjx8vIbYygdBE2SlUvMVcFDzCphBiCGW1Tp06UnniKnibNm2SzpoQRHyOI0rBGzp0qFxH6QlW9KShRm8S5mb16tU6JRUT+/j111/XKWUQjqZ37976rDIoQXQc5LcNjZ96+/LLL8t5NnW7EOT6/IZM7YzYj3x/MK4jYYEaNGhQ3rkR2xMFLwiKlBHavJc4tdRzA+HUUEbVqL08bF9N8v3338vAiDBqNih3tHlCZcWBGLGEXCNvwhS8TPkat14de+yx0nHaEKqP3yXPk4Spy7NmzdIpZTABgCIQBTGSn3vuOX1WAaHzkB209SAMNPitMAWPOKZ2XG/qK8oH77fDRlKXu3Xrps/KQG7wPmKEJ524+RQGfWubNm3STtzQdvguOw44A37kNiHHwkCWhCl4xS7Hi3qJlpAjTJ/aqNGUTIGytGZgilQJJQm5w9Q40/FhbNiwQZYpWeJRWrlOLX6YoiaUE9PVhGDJBsJLEcpor7320inhqNGop0aJ8r9qAKEhqZKCEtzetGnTZFqdpbAwWAIDJajl1bB+/fq0oYOwsWSJgHy3od6q9ubdd999ch63bheKXJ8f4rSzJUuWyGtYPhGiSSl+cs59sDSzdu1aOYf3339flk3MfaxZs8a7/vrrU0J20U7OOusskQW8v6ZhaRkbTpaCbHge1el4ShnVKdFgL8xya7BeGOLka5x6hW0fS4nBvCdcE/nGPSQJ0+bIBxvOV61aJW02DJZz27Vrp88qwBRAKRwSYjBIVGg87L+oG4RFNFBf1YBA/rfbPHUeEwRMZQy0u+222076giSTTT6F8cADD0j9njp1aqRpkRokSag6W44phcxTCpnUFdvcwRBVrsUux4t+iTYMNGlbO2ZphEcxB9p2cLQGqsHKdYJzs7zDUk/YKKwmyWUGz4bZNZ4h7gyegaU2kz/BGTzup379+nJtl112kfO4Mw6lBlP8zLQQ6J9ZUWYtGB0HZ3mUkPCbNm0qSzFmqp08JJi4HbA9iBIsko8EcLfhM6SfcMIJOiWcYN0uFLk+P8RpZ8yg8h6CftsQoJ10goSDUmrkHljyZuaE0TwjfH6DUXc6WILnswT4r2nMMg7LSzb8NunMymSCZZ53331XgqfzmeAMXlXkl12v+A2+54wzzpBzG6XkSZ7Zs6GlDsvOShnTZxUwe0w+ZDtjeeihh0qA+jAoM74zbAYvDN7H++2ZKWYOSTvxxBPF9IjZaEw8CrXqVAyE5VMYthkTBysC9mwg/Rqza8zeBjGrXMz4Btlzzz0jl2jDKBY5XnJuUgiOTUDf3r176xRPjNgxGJ4xY4anBKmM+M855xzvtttu0+8o22m2cOFC0dSV8ifG4xivMiIaPHhw3o2xiwkMes1uYyXcveOOO05G8nvssUesmYdSghleZlqYocTAFmN4jGd5XkZ/BgxyqS8777yzp4SB17lzZ5kpWrlypcymRtGwYUN5ZbbFhu8BZqeiCKvbhSLX54/bzuLmEyNtNht89NFHXsuWLWUDA7OuShHM6G7opZdeklk84j/XNGa0HpzV4bfJy0yziLQzRv4ESA+jKvIrWK923313mRUJ5j2Q/8xgRO0mL0Uom7DZNlPXspnh5buYTaNNVAfUUYzz7dlFymnQoEHe4sWLPaVMet27d/duueWWklp1qm7C8ikMNs4g49kUwUYrNj0hL2g/oAY3spJSXfUhjGKS4yU3g8cMSatWrdKOMFUnJDNd2EkwWgVGuzxuu3btZHbCMHDgQEnP1+ioGGfwlDApv4atGGCcbtIee+wxSUsCGCvzTNgbGrBtZMSlOr1yGzkDNnqk85kWLVqkGPaHgWE2NmSq402xY2SmkO/AliSKOHU732T7/HHbmVIWZSTN+2x7Geof78NQ2oY6SzpHz549M7YhbE8pA2bD8gHPwb0x2xKEWXFmjaNQSkOKXWPYDF5V5FdYvVIKu3zuySef1Clls7ZsTkFuZpodLRV4ZuoZRvtB2ERGHrDZJy7IDzUA1meVyWYGj9UEZsmV4q5TUjn11FPlu1htqM2zd5nyKQrqMxvbyEOzwe2ZZ56R8wEDBsi5DRu0uMaGiyDZzOAVkxwvqRk8bBPuuusu0coZgUZxxBFHiHsCVcCeEoyS9sknn8grW9jt7dJo+oyyc3FnkBSYHTGY2RlmQA1KuOj/Sh9TD3D5YcC2EXs8/Bxhn2HAphPbD0aFuCzAVqdNmzZp3RXUrVu3fNaTrfq46rjmmmu8UaNGSRpuPMKIW7fzSS7PH7ed4epn9OjR3rJly8SeiRkKZi2MCx87nxYsWCBuB7DDw1E4M3rMoNC+o7jyyitlRp9Z6HzAbAGE2e8oZVTqRRiqExAbHqXA6pRwcpVfUfXqjjvuEDshVj+onyNHjhR3OMx0YIuXaXa0VOCZ1YArslwgqmzCoH5im1cdTJgwwVPKpacUOZ1SAW6JkMWPP/64zNLSNpBRtZF0+ZQO2gntgpn/pUuXSlqmdgrZ1IcgxSbHS0bBo/PFwBgjyEaNGunUaKgM+KQxSz0sS4BSauXVwLTsvvvu66kRf6VrtYVddtlF/1fWKKBJkybyCm+//bb+r/SJqgdqdCavGzdulNdvvvlGFI/+/fuLUoOyQCeMcoN/u3RgBI9yNG7cOE+NPMWXoDFoZ7klSLZ1Ox/k+vzZtLPf/e534p9Rja5lKRafeCw18t6TTjpJ3rN69WrxAcbyOcodCiFKyZNPPimCPwzyHf9wLOfmC1O+ZinIwPNgOG46liB0QHQ2DCzwPckxceJEuYZfRs5Z7slFfqWrV7Rvlr1QnFHoTj75ZFFcuNewOlrKUDbBcgE6Y4gqmyCbN2/2XnnlFalbVYVNLiz3oqAHYUDNprfJkydLO2BgQxnh95BNIbWJdPkUBwYq1GujB1Dv69SpUy31IUgxyvGSUfCGDh0qmde8eXOdkh60Z9bZmzVrJuf77LOPvIbZQKHgMEpKyqg1W+zddHTsUK9ePXkFe0dTqRNVD3bccUdRbuvXry/n7IpEmTn22GPlHK666irpCLGNwc4iHdj0YQ/KTCj/0+hPOOEEr1WrVvodFWRbt/NBrs+fbTtDAWZ2EBs/OlAE+m9/+1uxBQXyDXtJ3gcM2lA2+Z5HHnlE0mywT2NGNt/2LyioYM+Gg3Ge2rp1a3kNQmeDzTB2sOYgf+HVV1+V8w8//DAn+ZWpXpGX2NviRJYZVRRm2jq2fUmCssGm0MzQGDKVTRBmZRjs2Lsvc4Gdl9iQTpo0KbTPIZ3Z/2222UbOsVc1qwJhdT6pZMqnuNA2jB6AjMejRLCdAvWBPI/yrJCJYpTjJaHgsXyAITxLrzZMX0fBkgZLOKbxMtKlswrzXo5Xa2YHSgFGCRAcrQOjPpak8NAdxHwOgp9FETHCxBhX2+8P5nspwxZ8GnywHjCiw6WGqQdmJjMoWJjVYss8HXNc2MxBXWREHiSXup0Pcn3+XNsZo2eUYWZSbbcD3EfwHvh9XBr89Kc/1SllsAmBds+sow33YrucqAlQfFGYghE2TD5EzYoxu4sZiX0wcwdsAOIcc4Js8zXbesWyEteYUTSDnKTADA5L4eSlDXmJsmYPYtKBglfV5VmM/MlrlGl7Ce/TTz8td9cSVudRwJmwCNb5pBInn+LCQMmOQkEZMisaVPipD0TTsSc34lKscpzOvqjBXQLbxceMGVN+YOiKofUtt9wiBtp4fmdruTFqVMqJuByYbnnEh+XLl6PZ+CrTdYovXucxYl21apVOqVmqssmCzQDcK8/AoTpFfaWMfffdt/yaqsA6tQzVaZZfI7+CqE5RrillRM5xqMm5Eiop28yTAPVHKXnifd6AV3o2sJDHgCsQXMeMHTtWzg0Y63bt2lWf+f7mzZvFK7oaYeuUCthwQX6qEXhKJAZDprpdSKry/Nm2M74DA2bV0VaKPIPjX9XZycYpA21+v/32SzE8x30CriTsvORgA5EdLaMmUQqZGIPjeNmAQb5txI9s6tixozgzjoL2Rv7Zmywgbr5mW68wLsdxtFJgdEqyIM+PPvpoca9j+PzzzyVKhW1QjxE/dSjo6gaoo9TDTJuMcLlCGc2bN0+nVMDmGTZ74BjXLpthw4ZJ1BjTLwwfPlxcfdlt4YMPPpDNL0G5nkTi5hPRnVq3bl3e3pABgwcPlk1LBja3seHB7nPZ/Ib8nzJlik4pc7yOe6Cwsgc1wIqMJFLMcryoFbzJkydLYwk7qOx0QhTc3nvvLWl4ZleatAh1hGEYhFlq0qSJdFz4z0MAz58/X1+teXJR8D7++GOp3C1btkzJAzVaEGFgdiFSuUknPNJ32q/bzJkzpVPmd83ndthhB1HobJ9CKMd0UAgWIoLwGfxHBf2UJQGeFeHA89HIEfLHHHOMCAMbvJQjaPCnRh3BTxLKjb1TkveQp/auLIQxnaapjyh6QeLU7UKT6/NDnHZGuCjqb4sWLUTBpiMOgx3g+LfCt+CcOXMk9B73Yt7Pzmd2lQfz0Rz5at+0QzzhE+2D++zbt69/zjnnpHTU+MVDmSJfo4hS8CBTvsatV9wTsgFlkx28mRSXUgf/Z506dZLBLYrs8ccfX2mn9o033ij5hC/GIHTUKApRbNmyRSYUzCC7ffv28j1G1jMY33///VPKwz7ssFnsGmUAgPzgOzk6dOiQEhotqWSTT9R96rTZKY+cQAknVBg6AP0Zypc94DLQrxG6jkHifffdJ2Ubtkt32bJl/tVXXy2/zXfzflsJLHY5vhV/1M2UNDwC9jvYsqjKITY46WC6HuNupsGxz8jnbhd2vOFzjuWcmgCDVGNImgsYhWP7gN2YMexOKkr4igE7dkfGL1sQpUTIcgHLYNgqYg8WBHsO8or6BGr0Loa6+LAyS9+lSi7Pb0jXzpSCIRslDj74YNkkkAls/ti4wjI69miZ2nghUQq91CsMrdnBGUQpGyIHcl1uqw75xXIU34O9US5LUqUKPjCJcEC+YXcbBHvHMCN7bB/J76ra32UDZiPUecoHG1SlMOgrDmBzEqYdtkyi7Zn+C5+SQZkUhM1JfIZNLEnM30QoeKVETSt4DofD4XA4HPmbunI4HA6Hw+Fw5AWn4DkcDofD4XAkDKfgORwOh8PhcCQMp+A5HA6Hw+FwJAyn4OUZPKFn2tnjcDgcDofDURVKVsFjizRxE8PAtUMmcLdQCIilWR0bl1977TX9X3awrRw3AXHBncXrr7+uz5INLhRMJI8g6QLbVwc1/f1VpTruD7cPJjxUkFy+n93oxQruhqoC8i1unqTL10LJuWKmqmUTh0x9UNx7oPxqs6OL6iqrdPoC7oIykUs7Sveb+aIk3KTQ6RKrMlgQ+HIyIZWA6zNnzvRGjBghSomJZ2kze/ZsCdq8YcMG8VF1ySWXSNDzfPkrq4qbFCoMsfkIRv3222+Xx42NA36zCP1C0Haen7iiURDWiffizw1fQuedd15KqJckgd/AUaNGiSAhZBGBxAkLBfhVJAA+/pGoS4S8IfB9plidBMY24aaCENJq+PDh8j/1lQD++LrCFx9lhK+5m266KbTu5ptcn9+GAQXhhhiQtG7d2uvWrZvUKcjm+cePHy+hogyUV79+/byLLrpIzuPmeU3DPU6dOlX8++E7jZiihCPLBto5/ukGDRokYe7CSJev5A35euedd4riR56OGTNG3mN49NFHJZ/DwNcbbT9J0EGPHj3aW7dunfiUI84ysr9du3b6HeFkW6+IpXz99dd711xzjYSYC8LvX3755d6qVaukDyA01m233SZ+22zmz58vsp64qdQjBtq0gSh/nUkjbj6FEUdfwK8nfSDnyPtPP/3UGzt2bCXfr3H1hbg6St5BwSt28DhO1Aa8j5sjGBpKdT7yPkKQ8FgmkoPNpEmTxCM4UQZUx+WrwpT3qoLW76h5colkoUboEnkBb/7cLwee++NAtAo8/2+99dbln1XCX1+tDPmqOlsJ2bN+/XqdmjyIgkCEBsKTER0giGqoEhYH7+gGyoFIH2HvNxC1ghBIeLJXinHKoZSWFG/0RGMg0oENIW+UYNNnhSPX57d58MEHJS8IOaSUDp1aQdznVwMZqft2++/SpUt5hIhs8rwmIbIEUSoIHwbcF1FllCIm53Eh2gLtNCySBWTKVz5P5AXVKflLliyRyACEM+PcQB42b95cwrjZ+dWoUSNfKfD6XclBDQYkcoFS9OScKCr0FS+++KKch5FNvSLs4cSJEyVCCWX3xBNP6CsVEAGB6+PGjZODSBW8l77N3BcsWrRIojPZERgIfRUVKitpxM2nKDLpC/S/5KUdFYNoRsgYwpgZstEX4ugohaDoFTwKo02bNqGCLAyUGQohqODRWE4//fTyeLVAyCU6LKVhhyqENUEuCt4XX3whIU/o0OrUqSPPF1fB27RpkzwznSmf44hS8IYOHSrXUXrsip5Ezj//fAkls3r1ap2SCgMG8uL111/XKWUQhorQTlEQE/m5557TZxW888478nsoSYCCSQdz1113yblBjdIlFFWhyfX5DSgnDCrseLE22Tw/aYTPiyJuntck33//vQyM1Ahfp5SBckebJ1RWHIi9S5gq8j5MwcuUr8ThnDVrlj4rY+nSpfJ95BOQLygMQSiTPffcMyXWbRIwdTmYLwwS6JSjyKVeoRTwW2EKHrFw7bjeyGUUAd5vh42kn+rWrZs+K4NwfLyPGOFJJ24+hRFHX6Dt8F2EADUYeUSoQchGX8hWR8knRW+Dx5Iitigse8SxHWM5KYw1a9bI1Lkd1ofpXqUQyvT9+++/r1OLD1XxPDWSlPBMcaaobVie4ZmZ6k+HGo16SujL/ywB2+FfkoYS3N60adNkKZ+lsDBYAgMlqOXVsH79+rThin7zm9+ELvsw1a+ElLfTTjvJuWp7ssSe7ffni1yfH1jOGDhwoNexY0dZZgkj7vMroendfvvtsoyrlJ9QW5i4eV6TLFq0SGw4jznmGJ1SRvv27SUknhrN65RoMN2YMmWKN2TIEJ2SSpx8Je/OPvtsfVYGsgNMXWcZKuw3Vq5cKWGbjjvuOJ2SDO677z55pSxsOGcJUClPOiWVXOpVVP+DLRZ1A1MEA3KZJT/AVMRA23vxxRfFVMZAu8Bsgb4gyWSTT2HE0RfUIElC1dlyho2Pbdu2lbqCiUQ2+kK2OkpeETWviLGXJTnOPPPMFO0+CNPnvC/ujBzLdEy3EwQ8H+Qyg2ejKqU8X9wZPANLbSYPgzN43E/9+vXl2i677CLncWccSg2m+JlpYcmKWdE33nhDRsfB+qIarN+0aVOpGwsWLJA08pBg4rkEkD700EMlqLVNr169JM+HDRsmI0hmE/fYY4+0y0b5oirPrzpGeS6C4BPEfsWKFaGzHXGen2VP3mMORtDBmZgowvK8pmBZmfuzA5EDcoV0ZgMy0adPH//dd9+V4Ol8JjiDFzdfgwwfPlxm5zMxePBgv2fPnvosORxyyCG+Usb0WQWPPvqo5KcaQOiUeKSrV5QZ3xk2gxcG7+P99swUM4ekYa6AeQIzR5jMRM3a1gbC8imMTPoC/ZpS5mT2NohZ5WLGN4owfSFbHSWfFL2CR0axbHHjjTfK8gEZ2LBhQ3/Lli36Halkq+Ax9ZtPoVaMCt7MmTPLr2Fn0Lp1a2kE/G+WdZLCY489Vv6cnTt3lobeoEEDyc+gzQQ2SyiD5MWpp57qX3DBBZH1Lh0sk6NQfv755zqlDGx8yGvuBzufk046yX/77bf11cKTy/NzneUrPoN9HZ/DnoZzbF5sG5o4z4+iib3UjBkzRElSI2p5fzo7UojK85rilFNOkftCQQvCkk6LFi30WTi0M1P/whS8bPLVgJwZNWqU1PXFixfr1HBQsJGrKI9Jo27dumJbGGTZsmWSz9gsxiVTvcpWwcN2q3HjxpWW9wYNGiTfwyCLPiru9yWVqHwKkklfWLNmjaRhohOEtsI1M6ANI0xfyFZHySdFr+DZIOwvuugiyUBew8hGwaOxsu6OQM0XxajgGWHCgaEwYEhq0lCKkgK2RzyTPaOBbeORRx4pygOzeTbMKhmlgk6amZNs4TePO+44fZYKv00HzPfvuuuuYi9VTGT7/Mwq8d527dpJezUMHDhQ0oOzENk+/8qVK6UNoOyEKVOGdHleE/C8PAOzLUGYFUdRjgK7OduuMUzByzZfsS8aMGCAzDZxHUXw4Ycf1lcrw/cjU6oim4oRbKh4dpThIOvXr5e8Ofvss3VKZjLVq2wUPJRyFLiFCxfqlFRQ4vkuFMraPHuXKZ+iCNMXnnnmGTmnbQRhMwXX2HARRhx9IY6Okk9Kyg8e243vvfder2XLlp7qCHRq7qiRmzdjxgxvjz320Cm1k48++kj/V2Gvc84558grYJOXFNRoS15tFwbYNmKP97///U/sMwzYfWH7wVb3Hj16iK0OjqpxsZAN2OxgzxMEGxtsOtTo1Bs3bpz4M8O+CluzYiCX5zf526FDhxT3ALibwEUQ7deQy/MfccQR8h1KkHpKKdGplYnK85pCjdzlFfudIEpp8urWravPUlEKiNjDqUGXTgknm3wF7ItwdUSZqUGbfOb3v/+9vloZ8gu3H7m4bypmsKHCvUVUuUBU2YRRnfUKNzfYSypFTqdUgPsVZPHjjz8udne4zEFG1UbS5VM6wvSFTO0UoupDHH2hunWUqlJyjo7VaEwaGL6BqgIdCj7POnXqpFNqL7vssov+r6yCQpMmTeQV8LmXFHbXfo7U4EZeDUceeaS8bty4UV7ZAIAhdf/+/UWpoWHTCaPc4H8tLps3b/ZeeeUVqWtBzjvvPMn7Pn36eL/97W9FscFIG2UKY/dCkuvzR+Uvvqb23XdfT42Cy6/l+vwIehSRKBmQLs9rCjYzAUqqDZtEMBw3HUsQOgM6GwYW+OHiQCED/K9x/sYbb2SVr0EuvfRSKUfqNvcSRr4V4nxC2QTLBcxGoqiyCVKd9Qp/eWwYQEEPwoCaTW+TJ0/2TjrpJG/t2rXeAQccIP7Y2BRSm0iXT3EI6gv0a3Xq1Mm6PmSjL1SXjlIdlJyCB4xomjVrps+yZ9asWTJr07t3b51SuzGdE9CxQ7169eQV7B1Npc4+++wjr8HGt+OOO4pyW79+fTlnVyTKDM6PDTjGZJZj8eLF3nfffadT04PjWxQkZlRs+H2cmdrfz+4xHAvjYHj58uU6tTDk+vxR+Qsoc7RdBGBVnp9ZGXYwRsmAqDyvSdiVB/ZsOJgIEzgjDoPOhuclL8xB/sKrr74q5x9++GHsfI3iqKOOkjz76U9/qlMqWL16tewApmyTCGWzZcuW8hkaQ6ayCVJd9erNN98UJ8aTJk0KLTPScZC9jXami3Njswv7kUcekdfaQKZ8ioutLyDj8SgRbKdAfSDPg54VctEXqqqjVBclqeAh+HKNrLBw4UJZ7mBEa8MyFEtGxQ7LiBA2WmfUx/Tx+eefr1MqMJ+D4GdPP/30cmGCIAT7/SyLJQWUCBof5W3DiO6HH37wWrRoIedmJjMoWJjVYpaJjjkOdAphMyMmv8O+H8I64nyS6/Mzo4TSFsxfwHu8yd+qPD/tlyXaqI45Ks9rErO8iXsLG5MP3bt3l9cgRLlgqdk+TOQEllQ5x5wgbr5GQedF3Q/rKMkvZorsQV2SoC6wFE5e2pCXKGv2ICMd1VGv3n33XVk6Z9mRgYqBSAospwNtL1hOhx12WKSCnkTi5FNcgvoCZcisaFDhpz4QMcNuB7nqC1XRUaoV1dkXLWyJZus+RsgG3Fq0atUq0hiYnXY8VtgOFr6P7eZjxoxJOdhkgEf3fFCVTRYYpKuOUZ6P46uvvtJXysCFhbmmKrBOLWPIkCHl18J2jakKLNfYKQk41OQc9wKqgktaUsBQWil54n3egFd6JewljwFXILiOGTt2rJwbMJzt2rWrPvP9zZs3i1f0MK/lXFOCOnJjQtu2bf1OnTrpszLYLbrnnnumbMMvBFV5/uXLl0vdsR3mEt2Burtq1Sqdkvn52TFHXWWHqXE4ym7PPn36+NOnT5fzIJnyvCZRCpkYg+Mk1YBBvm3Ez/137NhRnBlHQXsj/+xNFhAnX5UiJwb5H1tOXHG1wSaiDz74QKekgmPpqPxMAuT50UcfLQ50DeyCJUqFbVCPET/9Q9DVDcStV7hcoYzmzZunUyrAOJ/NHkQgsfsf3AQRNcb0C7i1wR2QkUVA2bGxKCjXk0jcfCK6kxrklbe3uPoCTvyR/1OmTNEpvq8UNnF/Ypd9HH0hFx0lnxS1gsfOTxqVGhlLpiJA2cpsC1AD3sXxir/DDjtIA8OjvO0aQGn9skuMa2HH/Dy5B8hFwUNYU7lbtmyZcs94YUcYmK3jVDTSCY9kdhHjAoVOmd81nyOPUOionAY6UPIXwULUAD6D/6h169bpdyQHnhXhwPPRyBHyxxxzjDRMmxdeeEEEDb6PqB/4SUK5sXdK8h7yNGxXFuGiaOhRIMhOOOEE8Zs0e/Zs6Ry4j5deekm/o7BU5fkJZ4bigIKILzsUnWAby/T8tBNCNvH9hCsaOXKkyAEUnSgy5XlNQjvEEz7RPubMmeP37dtXXJrYHTWKK+HMwnZ1GqIUPMiUr+wSROGjjV922WX+6NGjpVMir8PAbcS2225bFC4dahL8nzGYYMDw8MMPi7sLXG/Y4OaCfH/ooYd0SgWZ6hX5h5JsBtm4/eF7jKxnME7IOK6FHXbYLHaNMgCgzvOdHITMskOjJZVs8om6j9Jr6nY2+gL9GqHrGAzh05CytXfpxtUXsvnNQrAVf9QNFy0YW7MWjxdpgmmrzNRXShN2vOGxnuWcmgCDVGNImgsYhZv8NobdSUUJXzFgx8YQO5cwWKpmuYBlMGwVwyJ8YM9BXgXrJvZSpGWy2WH57L333pPdfpRdMdXxqjw/y2JvvfWWpGMHZS+12KR7fsTT5s2bxU5NCX6xhUlH3DyvSZBZ1KtGjRrJMwVRyobIgVyX2zLlK0tHtGGW9CizdLIAw3LuJ1Okm6SArSHRBsg37G6DKGUh1Mi+EPUKsxF2srNk2LRp08goGbUVNidRf22ZlK2+wOYkPsMmllzzt5h1lKJX8JJGTSt4DofD4XA4HCW5ycLhcDgcDofDEY1T8BwOh8PhcDgShlPwHA6Hw+FwOBKGU/AcDofD4XA4EoZT8PIMu6GKaZeNw+FwOByO5OEUvDyTLmakw+FwOBwOR3VQ1AoePrgygd+2TBCCKhtMPNZiJk7ehJHr52oD+MgyodqC4HssF7Kte8UKocHyQbq2F6eth4FbonyT670a8PEVN8/xl4YvwUzwnf/+97/1WQVVvddSIx/PG1fOZirn2lY2Qarr+aPqPsSR7XHvo9jKqyj94L3//vveqFGjxAHtyJEjdWoFdJpjx4711q9fLw46cU5JTEcCNNvMmzfPu+GGG8QJITFaec9vf/vb8jiYYRDcmKDqBFqvCarqB494itdff73cIzEq44IzxjvvvFNiZT766KM6tYIzzjgjNJA5XHvttcURV68GwMEudQ2nx+3bt/e6desmsWqBcho6dKg40iQGIs52qXcss2eCYP3k2+uvvy7B4C+99FIJpG8vzxd7nuMAl/ZDe8FZLs9y9tlne3369NHvCOfGG28sj6cahJitw4cP12epRLU92vltt90mDmhxUlu3bl055zXIeeedJ86+DTj9JUbzIYccolNqljlz5nj333+/d9BBB8mAgeD0F154ob4aDzr8Vq1aeZdddpl3wQUX6NRUUIRvv/12icvJe8866yxxamxgoNK5c+eUzgtRTwxN49A1m3wtdeL2GUGyrcvZyOd05Tx79mzvqaeeEmfMyCjigV999dX6avJB1gwaNMhbuXKlOATv0qWLN27cOJGlmYhT95Hl6AKck8c4cr/55psrOSaPWw7V0e5rBBS8YoHwWsSiJKQMt0aIpDBUw5QwI4R0gVdffVViy9khjO69916/Xbt2/oQJEyR8CHFG+U7CLUVBvD++h1iYNUWusWiJm0pYFBPG5YknntBXMvPkk09K2CI+R0zKIErpk5izJ510koRWMgfloBSSyBiWpYwaYftKiZJ6oRQLnVoBoWaIK0o9MkydOlXis6oBg04Jh7BbxPQl3A2xIwldRd7boaeKPc+VcJQ4j5MmTdIpZeGYCGUXFmfTQCiuXXfd1VcCLuW5OIj1GBVuKartvfbaa75SOPwNGzboFN/v1auX37x58/JwfAbylDIj3Jk5qPf5grCAhCEjPiyoQZWEDSQcUjaoDqRSfbGhfqnBr68GDOUyMAhhuJCRdl4QksmQTb4mgTh9RpBs6nIu8jmqnCdPnuw3atTIVwqgnBNLmNB2hN+sDVA3yUfC7HG0aNGivO/6UYflTEemuk//S/xsO+wZcm6//faTGNyGuOVQXe2+JigqBc9AB0qBhil4FD7XZs2apVPKUBp+ufJC58y5XRkIMExwaeIuhgkwOnwCCPO5YlTwDFTEuAIkCJ1zmIJHPn9sBSc3EKeVeLdJpHfv3lIX1AhRp6Ri4lLSqA0oPeShHWw/CO9RI0F9VgYdBbFB6UANxZ7ndIA8vxpJ65Qy1MhY8i6KP/3pT/6zzz6rzyrYuHGjxI388ssvdUoF6doe8SYR1jbcE/cWFKCUC79TCL7//nsZLASFPwNM2vwXX3yhU9JDLFnikPJ8YQoeg4ytt95avjcK5AvKeZTyB9nka6kTp88II5e6HFc+R5UzsVgZRKL82RBnnYEf7TLpnHvuuSmykX6cWLzkFfmWjjh1/4477pDvsn8DuY3Cb3SOuOVQXe2+pihKGzwzjRqG0sTlleU0G86ZzmXJYs2aNbK0ZMdgZJmNZQxV8LIEHISlCZZ3lBKoU4qTdHmTiajPqkodGmOR6enf/OY3+iw5MJWuhLc3YsQImXIPg2l5TASIA2kg5me7du1k6Z8p/igGDx6s/yuDZXmWvQ4//HCdUvx5ToxHWLx4sbwaWDohX6I4/fTTPTVi1mcV8FzHH3+8xEcNEtX2aKvPPfdcytIjqFG0xH1UyrBO8SQ266pVq2Q5TQlfnZo/MHv45JNPKj07ckl1OlLnMsHS0j333OMNGTJEp6SyYcMGWeonH6+44gqdWpkHHnhAlqemT58uS5FBssnXJBCnzwgjl7ocRz6nK+e1a9eKaUiwbLgP1V97ShnUKckEOzme1ZaN9OP9+/eX/9mkmI5MdR/Iw/322y/lN5Dtbdu2lbqCvV7ccqiOdl+TlNwu2qVLl0rDCnaO++67r7y+8MIL0gk3b95czm0IVL7ddtuJPZ6NGuGJkXKnTp10Su0iTFBRudVoKXEKHkaw2NVhV4aNBPaZr7zyijRqG+wtwgxmGSgAQcDDQFBQx2zIRzrPvn376pTiz/OjjjpKhNuwYcPKbTbvvfdeb9ttt/WuvPJKOQ8j7Lng4YcfDn2udG0PAU0ZRJXDxo0by43Z1YhZvge7nUMPPdQ77LDD5LvzBXIJjBwy2HIpE3T42AFF2Qhj7/Xdd9+JkoedIsqJUcRtxo8fL8ou9a1hw4Ze9+7dxcbIkE2+JoE4fUYY2dbluKQrZ+QOBMvGyJ23335bXpMKg+Ew2zX6bggqXEEy1X1kLHaYwXYKpPFeBotxy6E62n1NUnIK3rvvvhva8HbeeWd5DZudM6CVn3nmmVKJDAhMNnLcdNNNOsUB8+fPF6UEg+QkwcwcRrA0VAybf//738tmBmYupk2bpt/liXBgkwGbK2xMPYvaHBGEfETIMBsQVPyCFFOeo8gtXLhQ2hoGy126dBHBiVJhhFxcaLPr1q2T77DJ1PZ23313UZiZuQpCOaCUMxsCt956q2wguuOOO0TBo60zY7p69Wq5XtPwjBCUTcga8jKdXALqXuvWrSPLnp2ylAebdGbNmiVKHh3hz372M5kxtjsijMmZecXYnzzk/eQF3wHZ5GsSqEqfESSqLsclUzkjdyBYNtnKnaRBe27cuHGlWdggmer+5s2bZQYuU32IWw5Vbfc1TUkpeIwq2RVntHkbdrnARx99JK9B2Fn30ksveWPGjNEpZTBDwYyOrfQ5qj5KLVbMrE6vXr28BQsWiFLFaIzdT+wONct7Xbt2lVcUBhuzRBC2vGrDMgE78Ni5zKiRJbV0y2pQbHm+//77lysV5BUjX9pftvBcCObgDrhMbQ+FmJ2KzLIuWbJEp5aNqtn1yXJY/fr1JQ2ZwM41diSy5MYSGIK8Z8+ecr2m+frrr+U1SjZFySVgtoCZ23S7k5lVYNcluz5REigXygNFj920d999t36nJ0voHTt2FDMVOjQGMuSXWRLMJl9Lnar0GWFE1eU4xCnnI488UmTLzJkzU2ae4sqdJEK9ZKkTWWqbXYWRqe5naqdAfYhbDlVp9/mgpBQ8Rp1sYw4upwHr3RC1xZ9lpRkzZqQszz7xxBPSUFnOcVTA6P3pp59OpIKHvQTYLgxonNjj0RkY2woUBZQ8XKggkNmiT2eKgsjSCjYc6UAQsaRGPnJQbydOnBhpF1KMec5SHa4knn32Wa9Hjx4yQEKJinqGKMIU17htD6HOrCafx24RpZllWPLrgAMOiIwKw30PHDhQltLj+IirKrgagSjZFCWXGAjgroEZyHSYenvcccfJzADw7Mx+4kaC5fMwUNawqWvRokX5chLkmq+lRlX6jDByHYTFLWdsfrEjA9oa8ueaa66RV2AgWtvA/AL3TKwkZENY3c/UToH6ELcccm33+aLklmhZgzfTrTbGFsVkuA2dM521befD6J5OnI4YI29zMP2Ojyn+N8a5tQ1mtfD1xgxO0mDaHih/G0ZsYGzrEA5z586VZUlG7C1bthQlEOXmhBNOyGoEj03opEmTRIFk1iWMYstz/CZiSH7JJZfI/TM4onNiyaFfv376XZlhFI2No5kRhWzaXpMmTUSxpCzIGxRzOliMsVn6TgebqiAfy1rGNigom5h94F7D5BJMnjxZZuboTEw+MPsILDVxzjJRVL1lyYjBBsp48JoBZQ3/jnY+VCVfS41c+owwwupyXOKWMzADhRyi32Ip96KLLipf0k1a2WQCGzZW3xiA5EKw7lPvkTtx6kOccsi13eeLklPwMF5klGm0bYMZpWPfYMMaPDM0vXv31ill0Nlid0XHyq4oczCNznfzP7MMtRFGqTSKJLLPPvvIa7DTZzqdmRFsmmxwRErdYeaEpTEaLXZ72cKmBYhaYim2PGcJEGWuQ4cOOsUT560s7dEuwkasYfBcjIDt58627eEUnPxnWZ3yYETPUkwmR6KmLOM4pq4qxqg6uCQTJZcMzDBh52nng3Gsi90R55RDVL0FBhsoeulm3ciLZs2a6bMycs3XUiPbPiOKsLocl7jlbKB9YLeLIoHNKwMeBpaUU20BEwKcnzM4rsqMsl33kfG/+tWvQpdOqQ+sztjeDjKVQ67tPm+oUV/RsWnTJvFTY3zS2Dz++ONy7emnn9YpZeBYVjU88UtjWLBgQai/qOeff158k4WBPxuldeuz6qeqfvDwmcTzqw5Qp8SH50rn9wmUIBT/cEn1t8Tzqc6wkt8i0snXMWPG6JRUXnrpJXFuqpQcnZIdauQvTlON00ybYsxznD+TH++++65OKWP8+PHiA8xuZ+nA19rtt9+uz9ITp+3deeedvhqB+0o51CnR4ID06KOP1mc1C2WoFCZ/+PDhOqWM6dOnSz6+9tprOiUzn3zyiXyGtm5zzDHHiDPWIDhtxWF2OnD0i2PvKLLJ11Ijmz4jHXHqcjbyOaqcg6iBn8iOzZs365Tk89e//tXv379/JX92+LPFgXw2BOv+NddcIzJMDdZ1Shl77723f8YZZ+izyoSVQ3W2+5qgKBU8OjoyZ9CgQTqlAjX6F6GNM0TD559/Lk6M7777bp3iS2M++OCDpcO2D74Tp6pRFLuCh4Ahb8KiCVDxEPY46AwDxYbr6eCzVPQkg3d0NaoT7/MGvNIj7L/++mudUsEzzzzj77777qHKXTDPf/zxR+ks161bJ+dAnaW+Lly4UKekUox5jkd3HH2OHTtWp5Rx0UUX+WpEq8/S1zmuqZG3//777+uU9GRqe+Trjjvu6D/88MM6pYz33nvPHzhwYIpT2q+++kocnm6wIjXUNETMIZKG3XHgUPjss8/WZ2V1oWPHjuLkNoqojp+oC6SjsBjwnr/NNtv4q1atknPk3uDBg6WDNLzxxht+q1atIuVOVL4mhbh9Bu2TPoPBWJC4dTmdfA6SScEjIgJKaMOGDTNGz0kSH374oUSMGDFiRErfPWzYMP+oo44qr8fXX3+9tHHT3uLWfZRE5D9O5Q1M+jCADyv7TOUQp90XiqJT8ObOneufcsopUvH32GMPf9q0aZXCNv3zn/+UkE5XXnmlCKXjjz9ewpMY0PDr1asn3xF2pBulFquCx0iBUcG+++4rz9C+fXuZZbG/64UXXpBrAwYM0CllLFu2rDwsDkIKT/VhFRnI+yFDhuizZPLf//5XhMMhhxwijRwhf+yxx4owMDByXLJkid+3b1+5FhXSKJjnX3zxhYzytt56a/+ss84SBWnkyJH+ihUr5HoYxZrnCL0DDjhAZtJpM4T569q1q//ZZ5/pd0TXObjllltEuMYlrO2hcDMTh1JEBI2wDpb2XrduXbkPRtk33HCD3Gu+w72h3DM7QGi6OXPmSN0hrJU9aGDlAGWKDiyKdB0/8rFJkyZSr/7yl7+I7LPl2T333CNtnFkFBrN0PqNGjao0WxEnX5NEpj4DTPSasNCFmepyHPkcJKqcqbco3YcffrjIDhSM2gIDs/11uLewww4vhhLFTBwKIcSt+8AAnBlZ+sL77rtPyjY4AI9bDnHafaHYij8q40oS/JmxBRojY2yoSgFcQuA2A/uXmgBbAAyyVUXXKdmBQSsRBUolP6uCEr6eUurE7sj4PTLgOoUt8WyuyGRzE8xzDGxxa8ErNhrsckxHMec5u//w9UTkDgyKw3zgRdU57MVIy8VmyYBfK+4Buxg7qkgQojNgpM7vkedskikUbFChXjVq1KhS8HLAvyJyIFO9iIL8oH7xrMg+7Lts+H3sl7Afwt4oWC4QN1+TRqY+g01UapChzyqojrocFyLlcA/4c4xyeu0o27nKxghbJsWp+zbIeD7DzvGgzMi2HDK1+0JQ0gpeKVLTCp7D4XA4HA5Hye2idTgcDofD4XCkxyl4DofD4XA4HAnDKXgOh8PhcDgcCcMpeA6Hw+FwOBwJwyl4eeb6668vjyXpcDgcDofDURO4XbQOh8PhcDgcCcPN4DkcDofD4XAkjJxn8JYvX+795z//0WcOh8PhcDgcjlzB2XLr1q31WdXJWcHDozdewR0Oh8PhcDgcVQO9iqgp1YWbwXM4HA6Hw+EoMEUzg+dwOBwOh8PhKE7cJguHw+FwOByOhOEUPIfD4XA4HI6E4RQ8h8PhcDgcjoThFDyHw+FwOByOhOEUPIfD4XA4HI6E4RQ8h8PhcDgcjoThFDyHw+FwOByOROF5/x8fdsJwbJukRQAAAABJRU5ErkJggg==)"
      ],
      "metadata": {
        "id": "jxxLU7Vpk8AS"
      }
    },
    {
      "cell_type": "code",
      "execution_count": null,
      "metadata": {
        "tags": [],
        "id": "HKYFduG4PAuG"
      },
      "outputs": [],
      "source": [
        "from peft import LoraConfig, get_peft_model, TaskType\n",
        "\n",
        "lora_config = LoraConfig(\n",
        "    r=32, # Rank\n",
        "    lora_alpha=32,\n",
        "    target_modules=[\"q\", \"v\"],\n",
        "    lora_dropout=0.05,\n",
        "    bias=\"none\",\n",
        "    task_type=TaskType.SEQ_2_SEQ_LM # FLAN-T5\n",
        ")"
      ]
    },
    {
      "cell_type": "markdown",
      "metadata": {
        "tags": [],
        "id": "OmeJXQEOPAuH"
      },
      "source": [
        "Add LoRA adapter layers/parameters to the original LLM to be trained."
      ]
    },
    {
      "cell_type": "code",
      "execution_count": null,
      "metadata": {
        "tags": [],
        "id": "HEYK1s8EPAuH",
        "outputId": "b06fea88-272b-497e-8c58-330ded3a98cd",
        "colab": {
          "base_uri": "https://localhost:8080/"
        }
      },
      "outputs": [
        {
          "output_type": "stream",
          "name": "stdout",
          "text": [
            "trainable model parameters: 3538944\n",
            "all model parameters: 251116800\n",
            "percentage of trainable model parameters: 1.41%\n"
          ]
        }
      ],
      "source": [
        "peft_model = get_peft_model(original_model,\n",
        "                            lora_config)\n",
        "print(print_number_of_trainable_model_parameters(peft_model))"
      ]
    },
    {
      "cell_type": "markdown",
      "metadata": {
        "tags": [],
        "id": "cIAK4Yc3PAuI"
      },
      "source": [
        "### 3.2 - Train PEFT Adapter\n",
        "\n",
        "Define training arguments and create `Trainer` instance."
      ]
    },
    {
      "cell_type": "code",
      "execution_count": null,
      "metadata": {
        "tags": [],
        "id": "RfnCowi4PAuI"
      },
      "outputs": [],
      "source": [
        "output_dir = f'./peft-dialogue-summary-training-{str(int(time.time()))}'\n",
        "\n",
        "peft_training_args = TrainingArguments(\n",
        "    output_dir=output_dir,\n",
        "    auto_find_batch_size=True,\n",
        "    learning_rate=1e-3, # Higher learning rate than full fine-tuning.\n",
        "    num_train_epochs=1,\n",
        "    logging_steps=1,\n",
        "    max_steps=1\n",
        ")\n",
        "\n",
        "peft_trainer = Trainer(\n",
        "    model=peft_model,\n",
        "    args=peft_training_args,\n",
        "    train_dataset=tokenized_datasets[\"train\"],\n",
        ")"
      ]
    },
    {
      "cell_type": "code",
      "execution_count": null,
      "metadata": {
        "tags": [],
        "id": "gbpx-kxmPAuI",
        "outputId": "e93eb14e-4c3e-4021-cf09-c47193eabe4c"
      },
      "outputs": [
        {
          "name": "stderr",
          "output_type": "stream",
          "text": [
            "/opt/conda/lib/python3.10/site-packages/transformers/optimization.py:391: FutureWarning: This implementation of AdamW is deprecated and will be removed in a future version. Use the PyTorch implementation torch.optim.AdamW instead, or set `no_deprecation_warning=True` to disable this warning\n",
            "  warnings.warn(\n"
          ]
        },
        {
          "data": {
            "text/html": [
              "\n",
              "    <div>\n",
              "      \n",
              "      <progress value='1' max='1' style='width:300px; height:20px; vertical-align: middle;'></progress>\n",
              "      [1/1 00:00, Epoch 0/1]\n",
              "    </div>\n",
              "    <table border=\"1\" class=\"dataframe\">\n",
              "  <thead>\n",
              " <tr style=\"text-align: left;\">\n",
              "      <th>Step</th>\n",
              "      <th>Training Loss</th>\n",
              "    </tr>\n",
              "  </thead>\n",
              "  <tbody>\n",
              "    <tr>\n",
              "      <td>1</td>\n",
              "      <td>51.000000</td>\n",
              "    </tr>\n",
              "  </tbody>\n",
              "</table><p>"
            ],
            "text/plain": [
              "<IPython.core.display.HTML object>"
            ]
          },
          "metadata": {},
          "output_type": "display_data"
        },
        {
          "data": {
            "text/plain": [
              "('./peft-dialogue-summary-checkpoint-local/tokenizer_config.json',\n",
              " './peft-dialogue-summary-checkpoint-local/special_tokens_map.json',\n",
              " './peft-dialogue-summary-checkpoint-local/tokenizer.json')"
            ]
          },
          "execution_count": 31,
          "metadata": {},
          "output_type": "execute_result"
        }
      ],
      "source": [
        "peft_trainer.train()\n",
        "\n",
        "peft_model_path=\"./peft-dialogue-summary-checkpoint-local\"\n",
        "\n",
        "peft_trainer.model.save_pretrained(peft_model_path)\n",
        "tokenizer.save_pretrained(peft_model_path)"
      ]
    },
    {
      "cell_type": "markdown",
      "metadata": {
        "tags": [],
        "id": "Y0hZpXSDPAuJ"
      },
      "source": [
        "That training was performed on a subset of data. To load a fully trained PEFT model, read a checkpoint of a PEFT model from the gdirve."
      ]
    },
    {
      "cell_type": "code",
      "execution_count": null,
      "metadata": {
        "tags": [],
        "colab": {
          "base_uri": "https://localhost:8080/"
        },
        "id": "vroioH90PAuJ",
        "outputId": "3a1307a1-6de8-4319-9586-ccdebd04f69b"
      },
      "outputs": [
        {
          "output_type": "stream",
          "name": "stdout",
          "text": [
            "Retrieving folder contents\n",
            "Processing file 1afWEZxC8smZa3tKO2gGN8WgR96vq4B2i adapter_config.json\n",
            "Processing file 1r2OzTXJKLYssJrzMKBefPsjFv9K7tGm7 adapter_model.bin\n",
            "Processing file 1kNsQX0FFFHXVY1mUvQENR_9TeaBgxsdN special_tokens_map.json\n",
            "Processing file 1d2gGWcOJ8VstttTTK1-m10vxhngls0qO tokenizer_config.json\n",
            "Processing file 1QVN9qDB2P4NzhJurL2gmzU9pJ87rG7rY tokenizer.json\n",
            "Retrieving folder contents completed\n",
            "Building directory structure\n",
            "Building directory structure completed\n",
            "Downloading...\n",
            "From: https://drive.google.com/uc?id=1afWEZxC8smZa3tKO2gGN8WgR96vq4B2i\n",
            "To: /content/peft-dialogue-summary-checkpoint-from-s3/adapter_config.json\n",
            "100% 334/334 [00:00<00:00, 1.08MB/s]\n",
            "Downloading...\n",
            "From: https://drive.google.com/uc?id=1r2OzTXJKLYssJrzMKBefPsjFv9K7tGm7\n",
            "To: /content/peft-dialogue-summary-checkpoint-from-s3/adapter_model.bin\n",
            "100% 14.2M/14.2M [00:00<00:00, 27.0MB/s]\n",
            "Downloading...\n",
            "From: https://drive.google.com/uc?id=1kNsQX0FFFHXVY1mUvQENR_9TeaBgxsdN\n",
            "To: /content/peft-dialogue-summary-checkpoint-from-s3/special_tokens_map.json\n",
            "100% 2.20k/2.20k [00:00<00:00, 11.7MB/s]\n",
            "Downloading...\n",
            "From: https://drive.google.com/uc?id=1d2gGWcOJ8VstttTTK1-m10vxhngls0qO\n",
            "To: /content/peft-dialogue-summary-checkpoint-from-s3/tokenizer_config.json\n",
            "100% 2.50k/2.50k [00:00<00:00, 11.5MB/s]\n",
            "Downloading...\n",
            "From: https://drive.google.com/uc?id=1QVN9qDB2P4NzhJurL2gmzU9pJ87rG7rY\n",
            "To: /content/peft-dialogue-summary-checkpoint-from-s3/tokenizer.json\n",
            "100% 2.42M/2.42M [00:00<00:00, 19.8MB/s]\n",
            "Download completed\n"
          ]
        }
      ],
      "source": [
        "# !gdown --folder 1yULjubFpApAEi5yegV8jqOUyehGWYdvb"
      ]
    },
    {
      "cell_type": "markdown",
      "metadata": {
        "tags": [],
        "id": "Svq303VQPAuK"
      },
      "source": [
        "Check that the size of this model is much less than the original LLM:"
      ]
    },
    {
      "cell_type": "code",
      "execution_count": null,
      "metadata": {
        "tags": [],
        "id": "_o9OKsMnPAuK",
        "outputId": "da2de153-647d-4e4a-af5c-18531ae9636b",
        "colab": {
          "base_uri": "https://localhost:8080/"
        }
      },
      "outputs": [
        {
          "output_type": "stream",
          "name": "stdout",
          "text": [
            "-rw-r--r-- 1 root root 14208525 May 17 16:05 ./peft-dialogue-summary-checkpoint-from-s3/adapter_model.bin\n"
          ]
        }
      ],
      "source": [
        "!ls -al ./peft-dialogue-summary-checkpoint-from-s3/adapter_model.bin"
      ]
    },
    {
      "cell_type": "markdown",
      "metadata": {
        "tags": [],
        "id": "S_WdGqMYPAuK"
      },
      "source": [
        "Prepare this model by adding an adapter to the original FLAN-T5 model. Here, we are setting `is_trainable=False` because the plan is only to perform inference with this PEFT model. If further training is required then we can set `is_trainable=True`."
      ]
    },
    {
      "cell_type": "code",
      "execution_count": null,
      "metadata": {
        "tags": [],
        "id": "uWB1o_8qPAuL"
      },
      "outputs": [],
      "source": [
        "from peft import PeftModel, PeftConfig\n",
        "\n",
        "peft_model_base = AutoModelForSeq2SeqLM.from_pretrained(\"google/flan-t5-base\", torch_dtype=torch.bfloat16)\n",
        "tokenizer = AutoTokenizer.from_pretrained(\"google/flan-t5-base\")\n",
        "\n",
        "peft_model = PeftModel.from_pretrained(peft_model_base,\n",
        "                                       './peft-dialogue-summary-checkpoint-from-s3/',\n",
        "                                       torch_dtype=torch.bfloat16,\n",
        "                                       is_trainable=False)"
      ]
    },
    {
      "cell_type": "markdown",
      "metadata": {
        "tags": [],
        "id": "FycKHExKPAuL"
      },
      "source": [
        "The number of trainable parameters will be `0` due to `is_trainable=False` setting:"
      ]
    },
    {
      "cell_type": "code",
      "execution_count": null,
      "metadata": {
        "tags": [],
        "id": "NlvB8zQLPAuL",
        "outputId": "689f1896-2d08-4177-f47b-a48c3c5fc2f6",
        "colab": {
          "base_uri": "https://localhost:8080/"
        }
      },
      "outputs": [
        {
          "output_type": "stream",
          "name": "stdout",
          "text": [
            "trainable model parameters: 0\n",
            "all model parameters: 251116800\n",
            "percentage of trainable model parameters: 0.00%\n"
          ]
        }
      ],
      "source": [
        "print(print_number_of_trainable_model_parameters(peft_model))"
      ]
    },
    {
      "cell_type": "markdown",
      "metadata": {
        "id": "JrO7hGkWPAuM"
      },
      "source": [
        "### 3.3 - Evaluate the Model Qualitatively (Human Evaluation)\n",
        "\n",
        "Make inferences for the same example as in above sections with the original model, fully fine-tuned and PEFT model."
      ]
    },
    {
      "cell_type": "code",
      "execution_count": null,
      "metadata": {
        "tags": [],
        "id": "ckRFiTPdPAuM",
        "outputId": "9e02981c-ff65-4146-f422-ef35ab720929",
        "colab": {
          "base_uri": "https://localhost:8080/"
        }
      },
      "outputs": [
        {
          "output_type": "stream",
          "name": "stdout",
          "text": [
            "---------------------------------------------------------------------------------------------------\n",
            "BASELINE HUMAN SUMMARY:\n",
            "#Person1# teaches #Person2# how to upgrade software and hardware in #Person2#'s system.\n",
            "---------------------------------------------------------------------------------------------------\n",
            "ORIGINAL MODEL:\n",
            "#Person1#: I'm thinking of upgrading my computer.\n",
            "---------------------------------------------------------------------------------------------------\n",
            "INSTRUCT MODEL:\n",
            "#Person1# suggests #Person2# upgrading #Person2#'s system, hardware, and CD-ROM drive. #Person2# thinks it's great.\n",
            "---------------------------------------------------------------------------------------------------\n",
            "PEFT MODEL: #Person1# recommends adding a painting program to #Person2#'s software and upgrading hardware. #Person2# also wants to upgrade the hardware because it's outdated now.\n"
          ]
        }
      ],
      "source": [
        "index = 200\n",
        "dialogue = dataset['test'][index]['dialogue']\n",
        "baseline_human_summary = dataset['test'][index]['summary']\n",
        "\n",
        "prompt = f\"\"\"\n",
        "Summarize the following conversation.\n",
        "\n",
        "{dialogue}\n",
        "\n",
        "Summary: \"\"\"\n",
        "\n",
        "input_ids = tokenizer(prompt, return_tensors=\"pt\").input_ids\n",
        "\n",
        "original_model_outputs = original_model.generate(input_ids=input_ids, generation_config=GenerationConfig(max_new_tokens=200, num_beams=1))\n",
        "original_model_text_output = tokenizer.decode(original_model_outputs[0], skip_special_tokens=True)\n",
        "\n",
        "instruct_model_outputs = instruct_model.generate(input_ids=input_ids, generation_config=GenerationConfig(max_new_tokens=200, num_beams=1))\n",
        "instruct_model_text_output = tokenizer.decode(instruct_model_outputs[0], skip_special_tokens=True)\n",
        "\n",
        "peft_model_outputs = peft_model.generate(input_ids=input_ids, generation_config=GenerationConfig(max_new_tokens=200, num_beams=1))\n",
        "peft_model_text_output = tokenizer.decode(peft_model_outputs[0], skip_special_tokens=True)\n",
        "\n",
        "print(dash_line)\n",
        "print(f'BASELINE HUMAN SUMMARY:\\n{human_baseline_summary}')\n",
        "print(dash_line)\n",
        "print(f'ORIGINAL MODEL:\\n{original_model_text_output}')\n",
        "print(dash_line)\n",
        "print(f'INSTRUCT MODEL:\\n{instruct_model_text_output}')\n",
        "print(dash_line)\n",
        "print(f'PEFT MODEL: {peft_model_text_output}')"
      ]
    },
    {
      "cell_type": "markdown",
      "metadata": {
        "id": "Cga_1UsdPAuN"
      },
      "source": [
        "### 3.4 - Evaluate the Model Quantitatively (with ROUGE Metric)\n",
        "Perform inferences for the sample of the test dataset (only 10 dialogues and summaries to save time)."
      ]
    },
    {
      "cell_type": "code",
      "execution_count": null,
      "metadata": {
        "tags": [],
        "id": "WJ0quRlhPAuN",
        "outputId": "72267369-79c0-4d8b-8d9d-872454032233",
        "colab": {
          "base_uri": "https://localhost:8080/",
          "height": 484
        }
      },
      "outputs": [
        {
          "output_type": "execute_result",
          "data": {
            "text/plain": [
              "                            human_baseline_summaries  \\\n",
              "0  Ms. Dawson helps #Person1# to write a memo to ...   \n",
              "1  In order to prevent employees from wasting tim...   \n",
              "2  Ms. Dawson takes a dictation for #Person1# abo...   \n",
              "3  #Person2# arrives late because of traffic jam....   \n",
              "4  #Person2# decides to follow #Person1#'s sugges...   \n",
              "5  #Person2# complains to #Person1# about the tra...   \n",
              "6  #Person1# tells Kate that Masha and Hero get d...   \n",
              "7  #Person1# tells Kate that Masha and Hero are g...   \n",
              "8  #Person1# and Kate talk about the divorce betw...   \n",
              "9  #Person1# and Brian are at the birthday party ...   \n",
              "\n",
              "                            original_model_summaries  \\\n",
              "0     #Person1#: I need to take a dictation for you.   \n",
              "1     #Person1#: I need to take a dictation for you.   \n",
              "2     #Person1#: I need to take a dictation for you.   \n",
              "3  The traffic jam at the Carrefour intersection ...   \n",
              "4  The traffic jam at the Carrefour intersection ...   \n",
              "5  The traffic jam at the Carrefour intersection ...   \n",
              "6               Masha and Hero are getting divorced.   \n",
              "7               Masha and Hero are getting divorced.   \n",
              "8               Masha and Hero are getting divorced.   \n",
              "9  #Person1#: Happy birthday, Brian. #Person2#: I...   \n",
              "\n",
              "                            instruct_model_summaries  \\\n",
              "0  #Person1# asks Ms. Dawson to take a dictation ...   \n",
              "1  #Person1# asks Ms. Dawson to take a dictation ...   \n",
              "2  #Person1# asks Ms. Dawson to take a dictation ...   \n",
              "3  #Person2# got stuck in traffic again. #Person1...   \n",
              "4  #Person2# got stuck in traffic again. #Person1...   \n",
              "5  #Person2# got stuck in traffic again. #Person1...   \n",
              "6  Masha and Hero are getting divorced. Kate can'...   \n",
              "7  Masha and Hero are getting divorced. Kate can'...   \n",
              "8  Masha and Hero are getting divorced. Kate can'...   \n",
              "9  Brian's birthday is coming. #Person1# invites ...   \n",
              "\n",
              "                                peft_model_summaries  \n",
              "0  #Person1# asks Ms. Dawson to take a dictation ...  \n",
              "1  #Person1# asks Ms. Dawson to take a dictation ...  \n",
              "2  #Person1# asks Ms. Dawson to take a dictation ...  \n",
              "3  #Person2# got stuck in traffic and #Person1# s...  \n",
              "4  #Person2# got stuck in traffic and #Person1# s...  \n",
              "5  #Person2# got stuck in traffic and #Person1# s...  \n",
              "6  Kate tells #Person2# Masha and Hero are gettin...  \n",
              "7  Kate tells #Person2# Masha and Hero are gettin...  \n",
              "8  Kate tells #Person2# Masha and Hero are gettin...  \n",
              "9  Brian remembers his birthday and invites #Pers...  "
            ],
            "text/html": [
              "\n",
              "  <div id=\"df-6b5ee0d4-6928-4a82-92e8-0d775aceba3d\" class=\"colab-df-container\">\n",
              "    <div>\n",
              "<style scoped>\n",
              "    .dataframe tbody tr th:only-of-type {\n",
              "        vertical-align: middle;\n",
              "    }\n",
              "\n",
              "    .dataframe tbody tr th {\n",
              "        vertical-align: top;\n",
              "    }\n",
              "\n",
              "    .dataframe thead th {\n",
              "        text-align: right;\n",
              "    }\n",
              "</style>\n",
              "<table border=\"1\" class=\"dataframe\">\n",
              "  <thead>\n",
              "    <tr style=\"text-align: right;\">\n",
              "      <th></th>\n",
              "      <th>human_baseline_summaries</th>\n",
              "      <th>original_model_summaries</th>\n",
              "      <th>instruct_model_summaries</th>\n",
              "      <th>peft_model_summaries</th>\n",
              "    </tr>\n",
              "  </thead>\n",
              "  <tbody>\n",
              "    <tr>\n",
              "      <th>0</th>\n",
              "      <td>Ms. Dawson helps #Person1# to write a memo to ...</td>\n",
              "      <td>#Person1#: I need to take a dictation for you.</td>\n",
              "      <td>#Person1# asks Ms. Dawson to take a dictation ...</td>\n",
              "      <td>#Person1# asks Ms. Dawson to take a dictation ...</td>\n",
              "    </tr>\n",
              "    <tr>\n",
              "      <th>1</th>\n",
              "      <td>In order to prevent employees from wasting tim...</td>\n",
              "      <td>#Person1#: I need to take a dictation for you.</td>\n",
              "      <td>#Person1# asks Ms. Dawson to take a dictation ...</td>\n",
              "      <td>#Person1# asks Ms. Dawson to take a dictation ...</td>\n",
              "    </tr>\n",
              "    <tr>\n",
              "      <th>2</th>\n",
              "      <td>Ms. Dawson takes a dictation for #Person1# abo...</td>\n",
              "      <td>#Person1#: I need to take a dictation for you.</td>\n",
              "      <td>#Person1# asks Ms. Dawson to take a dictation ...</td>\n",
              "      <td>#Person1# asks Ms. Dawson to take a dictation ...</td>\n",
              "    </tr>\n",
              "    <tr>\n",
              "      <th>3</th>\n",
              "      <td>#Person2# arrives late because of traffic jam....</td>\n",
              "      <td>The traffic jam at the Carrefour intersection ...</td>\n",
              "      <td>#Person2# got stuck in traffic again. #Person1...</td>\n",
              "      <td>#Person2# got stuck in traffic and #Person1# s...</td>\n",
              "    </tr>\n",
              "    <tr>\n",
              "      <th>4</th>\n",
              "      <td>#Person2# decides to follow #Person1#'s sugges...</td>\n",
              "      <td>The traffic jam at the Carrefour intersection ...</td>\n",
              "      <td>#Person2# got stuck in traffic again. #Person1...</td>\n",
              "      <td>#Person2# got stuck in traffic and #Person1# s...</td>\n",
              "    </tr>\n",
              "    <tr>\n",
              "      <th>5</th>\n",
              "      <td>#Person2# complains to #Person1# about the tra...</td>\n",
              "      <td>The traffic jam at the Carrefour intersection ...</td>\n",
              "      <td>#Person2# got stuck in traffic again. #Person1...</td>\n",
              "      <td>#Person2# got stuck in traffic and #Person1# s...</td>\n",
              "    </tr>\n",
              "    <tr>\n",
              "      <th>6</th>\n",
              "      <td>#Person1# tells Kate that Masha and Hero get d...</td>\n",
              "      <td>Masha and Hero are getting divorced.</td>\n",
              "      <td>Masha and Hero are getting divorced. Kate can'...</td>\n",
              "      <td>Kate tells #Person2# Masha and Hero are gettin...</td>\n",
              "    </tr>\n",
              "    <tr>\n",
              "      <th>7</th>\n",
              "      <td>#Person1# tells Kate that Masha and Hero are g...</td>\n",
              "      <td>Masha and Hero are getting divorced.</td>\n",
              "      <td>Masha and Hero are getting divorced. Kate can'...</td>\n",
              "      <td>Kate tells #Person2# Masha and Hero are gettin...</td>\n",
              "    </tr>\n",
              "    <tr>\n",
              "      <th>8</th>\n",
              "      <td>#Person1# and Kate talk about the divorce betw...</td>\n",
              "      <td>Masha and Hero are getting divorced.</td>\n",
              "      <td>Masha and Hero are getting divorced. Kate can'...</td>\n",
              "      <td>Kate tells #Person2# Masha and Hero are gettin...</td>\n",
              "    </tr>\n",
              "    <tr>\n",
              "      <th>9</th>\n",
              "      <td>#Person1# and Brian are at the birthday party ...</td>\n",
              "      <td>#Person1#: Happy birthday, Brian. #Person2#: I...</td>\n",
              "      <td>Brian's birthday is coming. #Person1# invites ...</td>\n",
              "      <td>Brian remembers his birthday and invites #Pers...</td>\n",
              "    </tr>\n",
              "  </tbody>\n",
              "</table>\n",
              "</div>\n",
              "    <div class=\"colab-df-buttons\">\n",
              "\n",
              "  <div class=\"colab-df-container\">\n",
              "    <button class=\"colab-df-convert\" onclick=\"convertToInteractive('df-6b5ee0d4-6928-4a82-92e8-0d775aceba3d')\"\n",
              "            title=\"Convert this dataframe to an interactive table.\"\n",
              "            style=\"display:none;\">\n",
              "\n",
              "  <svg xmlns=\"http://www.w3.org/2000/svg\" height=\"24px\" viewBox=\"0 -960 960 960\">\n",
              "    <path d=\"M120-120v-720h720v720H120Zm60-500h600v-160H180v160Zm220 220h160v-160H400v160Zm0 220h160v-160H400v160ZM180-400h160v-160H180v160Zm440 0h160v-160H620v160ZM180-180h160v-160H180v160Zm440 0h160v-160H620v160Z\"/>\n",
              "  </svg>\n",
              "    </button>\n",
              "\n",
              "  <style>\n",
              "    .colab-df-container {\n",
              "      display:flex;\n",
              "      gap: 12px;\n",
              "    }\n",
              "\n",
              "    .colab-df-convert {\n",
              "      background-color: #E8F0FE;\n",
              "      border: none;\n",
              "      border-radius: 50%;\n",
              "      cursor: pointer;\n",
              "      display: none;\n",
              "      fill: #1967D2;\n",
              "      height: 32px;\n",
              "      padding: 0 0 0 0;\n",
              "      width: 32px;\n",
              "    }\n",
              "\n",
              "    .colab-df-convert:hover {\n",
              "      background-color: #E2EBFA;\n",
              "      box-shadow: 0px 1px 2px rgba(60, 64, 67, 0.3), 0px 1px 3px 1px rgba(60, 64, 67, 0.15);\n",
              "      fill: #174EA6;\n",
              "    }\n",
              "\n",
              "    .colab-df-buttons div {\n",
              "      margin-bottom: 4px;\n",
              "    }\n",
              "\n",
              "    [theme=dark] .colab-df-convert {\n",
              "      background-color: #3B4455;\n",
              "      fill: #D2E3FC;\n",
              "    }\n",
              "\n",
              "    [theme=dark] .colab-df-convert:hover {\n",
              "      background-color: #434B5C;\n",
              "      box-shadow: 0px 1px 3px 1px rgba(0, 0, 0, 0.15);\n",
              "      filter: drop-shadow(0px 1px 2px rgba(0, 0, 0, 0.3));\n",
              "      fill: #FFFFFF;\n",
              "    }\n",
              "  </style>\n",
              "\n",
              "    <script>\n",
              "      const buttonEl =\n",
              "        document.querySelector('#df-6b5ee0d4-6928-4a82-92e8-0d775aceba3d button.colab-df-convert');\n",
              "      buttonEl.style.display =\n",
              "        google.colab.kernel.accessAllowed ? 'block' : 'none';\n",
              "\n",
              "      async function convertToInteractive(key) {\n",
              "        const element = document.querySelector('#df-6b5ee0d4-6928-4a82-92e8-0d775aceba3d');\n",
              "        const dataTable =\n",
              "          await google.colab.kernel.invokeFunction('convertToInteractive',\n",
              "                                                    [key], {});\n",
              "        if (!dataTable) return;\n",
              "\n",
              "        const docLinkHtml = 'Like what you see? Visit the ' +\n",
              "          '<a target=\"_blank\" href=https://colab.research.google.com/notebooks/data_table.ipynb>data table notebook</a>'\n",
              "          + ' to learn more about interactive tables.';\n",
              "        element.innerHTML = '';\n",
              "        dataTable['output_type'] = 'display_data';\n",
              "        await google.colab.output.renderOutput(dataTable, element);\n",
              "        const docLink = document.createElement('div');\n",
              "        docLink.innerHTML = docLinkHtml;\n",
              "        element.appendChild(docLink);\n",
              "      }\n",
              "    </script>\n",
              "  </div>\n",
              "\n",
              "\n",
              "<div id=\"df-be5bdf86-2003-42af-949c-bade006e319a\">\n",
              "  <button class=\"colab-df-quickchart\" onclick=\"quickchart('df-be5bdf86-2003-42af-949c-bade006e319a')\"\n",
              "            title=\"Suggest charts\"\n",
              "            style=\"display:none;\">\n",
              "\n",
              "<svg xmlns=\"http://www.w3.org/2000/svg\" height=\"24px\"viewBox=\"0 0 24 24\"\n",
              "     width=\"24px\">\n",
              "    <g>\n",
              "        <path d=\"M19 3H5c-1.1 0-2 .9-2 2v14c0 1.1.9 2 2 2h14c1.1 0 2-.9 2-2V5c0-1.1-.9-2-2-2zM9 17H7v-7h2v7zm4 0h-2V7h2v10zm4 0h-2v-4h2v4z\"/>\n",
              "    </g>\n",
              "</svg>\n",
              "  </button>\n",
              "\n",
              "<style>\n",
              "  .colab-df-quickchart {\n",
              "      --bg-color: #E8F0FE;\n",
              "      --fill-color: #1967D2;\n",
              "      --hover-bg-color: #E2EBFA;\n",
              "      --hover-fill-color: #174EA6;\n",
              "      --disabled-fill-color: #AAA;\n",
              "      --disabled-bg-color: #DDD;\n",
              "  }\n",
              "\n",
              "  [theme=dark] .colab-df-quickchart {\n",
              "      --bg-color: #3B4455;\n",
              "      --fill-color: #D2E3FC;\n",
              "      --hover-bg-color: #434B5C;\n",
              "      --hover-fill-color: #FFFFFF;\n",
              "      --disabled-bg-color: #3B4455;\n",
              "      --disabled-fill-color: #666;\n",
              "  }\n",
              "\n",
              "  .colab-df-quickchart {\n",
              "    background-color: var(--bg-color);\n",
              "    border: none;\n",
              "    border-radius: 50%;\n",
              "    cursor: pointer;\n",
              "    display: none;\n",
              "    fill: var(--fill-color);\n",
              "    height: 32px;\n",
              "    padding: 0;\n",
              "    width: 32px;\n",
              "  }\n",
              "\n",
              "  .colab-df-quickchart:hover {\n",
              "    background-color: var(--hover-bg-color);\n",
              "    box-shadow: 0 1px 2px rgba(60, 64, 67, 0.3), 0 1px 3px 1px rgba(60, 64, 67, 0.15);\n",
              "    fill: var(--button-hover-fill-color);\n",
              "  }\n",
              "\n",
              "  .colab-df-quickchart-complete:disabled,\n",
              "  .colab-df-quickchart-complete:disabled:hover {\n",
              "    background-color: var(--disabled-bg-color);\n",
              "    fill: var(--disabled-fill-color);\n",
              "    box-shadow: none;\n",
              "  }\n",
              "\n",
              "  .colab-df-spinner {\n",
              "    border: 2px solid var(--fill-color);\n",
              "    border-color: transparent;\n",
              "    border-bottom-color: var(--fill-color);\n",
              "    animation:\n",
              "      spin 1s steps(1) infinite;\n",
              "  }\n",
              "\n",
              "  @keyframes spin {\n",
              "    0% {\n",
              "      border-color: transparent;\n",
              "      border-bottom-color: var(--fill-color);\n",
              "      border-left-color: var(--fill-color);\n",
              "    }\n",
              "    20% {\n",
              "      border-color: transparent;\n",
              "      border-left-color: var(--fill-color);\n",
              "      border-top-color: var(--fill-color);\n",
              "    }\n",
              "    30% {\n",
              "      border-color: transparent;\n",
              "      border-left-color: var(--fill-color);\n",
              "      border-top-color: var(--fill-color);\n",
              "      border-right-color: var(--fill-color);\n",
              "    }\n",
              "    40% {\n",
              "      border-color: transparent;\n",
              "      border-right-color: var(--fill-color);\n",
              "      border-top-color: var(--fill-color);\n",
              "    }\n",
              "    60% {\n",
              "      border-color: transparent;\n",
              "      border-right-color: var(--fill-color);\n",
              "    }\n",
              "    80% {\n",
              "      border-color: transparent;\n",
              "      border-right-color: var(--fill-color);\n",
              "      border-bottom-color: var(--fill-color);\n",
              "    }\n",
              "    90% {\n",
              "      border-color: transparent;\n",
              "      border-bottom-color: var(--fill-color);\n",
              "    }\n",
              "  }\n",
              "</style>\n",
              "\n",
              "  <script>\n",
              "    async function quickchart(key) {\n",
              "      const quickchartButtonEl =\n",
              "        document.querySelector('#' + key + ' button');\n",
              "      quickchartButtonEl.disabled = true;  // To prevent multiple clicks.\n",
              "      quickchartButtonEl.classList.add('colab-df-spinner');\n",
              "      try {\n",
              "        const charts = await google.colab.kernel.invokeFunction(\n",
              "            'suggestCharts', [key], {});\n",
              "      } catch (error) {\n",
              "        console.error('Error during call to suggestCharts:', error);\n",
              "      }\n",
              "      quickchartButtonEl.classList.remove('colab-df-spinner');\n",
              "      quickchartButtonEl.classList.add('colab-df-quickchart-complete');\n",
              "    }\n",
              "    (() => {\n",
              "      let quickchartButtonEl =\n",
              "        document.querySelector('#df-be5bdf86-2003-42af-949c-bade006e319a button');\n",
              "      quickchartButtonEl.style.display =\n",
              "        google.colab.kernel.accessAllowed ? 'block' : 'none';\n",
              "    })();\n",
              "  </script>\n",
              "</div>\n",
              "\n",
              "  <div id=\"id_821a969a-c1f4-4e70-b9ba-6acab93a02f7\">\n",
              "    <style>\n",
              "      .colab-df-generate {\n",
              "        background-color: #E8F0FE;\n",
              "        border: none;\n",
              "        border-radius: 50%;\n",
              "        cursor: pointer;\n",
              "        display: none;\n",
              "        fill: #1967D2;\n",
              "        height: 32px;\n",
              "        padding: 0 0 0 0;\n",
              "        width: 32px;\n",
              "      }\n",
              "\n",
              "      .colab-df-generate:hover {\n",
              "        background-color: #E2EBFA;\n",
              "        box-shadow: 0px 1px 2px rgba(60, 64, 67, 0.3), 0px 1px 3px 1px rgba(60, 64, 67, 0.15);\n",
              "        fill: #174EA6;\n",
              "      }\n",
              "\n",
              "      [theme=dark] .colab-df-generate {\n",
              "        background-color: #3B4455;\n",
              "        fill: #D2E3FC;\n",
              "      }\n",
              "\n",
              "      [theme=dark] .colab-df-generate:hover {\n",
              "        background-color: #434B5C;\n",
              "        box-shadow: 0px 1px 3px 1px rgba(0, 0, 0, 0.15);\n",
              "        filter: drop-shadow(0px 1px 2px rgba(0, 0, 0, 0.3));\n",
              "        fill: #FFFFFF;\n",
              "      }\n",
              "    </style>\n",
              "    <button class=\"colab-df-generate\" onclick=\"generateWithVariable('df')\"\n",
              "            title=\"Generate code using this dataframe.\"\n",
              "            style=\"display:none;\">\n",
              "\n",
              "  <svg xmlns=\"http://www.w3.org/2000/svg\" height=\"24px\"viewBox=\"0 0 24 24\"\n",
              "       width=\"24px\">\n",
              "    <path d=\"M7,19H8.4L18.45,9,17,7.55,7,17.6ZM5,21V16.75L18.45,3.32a2,2,0,0,1,2.83,0l1.4,1.43a1.91,1.91,0,0,1,.58,1.4,1.91,1.91,0,0,1-.58,1.4L9.25,21ZM18.45,9,17,7.55Zm-12,3A5.31,5.31,0,0,0,4.9,8.1,5.31,5.31,0,0,0,1,6.5,5.31,5.31,0,0,0,4.9,4.9,5.31,5.31,0,0,0,6.5,1,5.31,5.31,0,0,0,8.1,4.9,5.31,5.31,0,0,0,12,6.5,5.46,5.46,0,0,0,6.5,12Z\"/>\n",
              "  </svg>\n",
              "    </button>\n",
              "    <script>\n",
              "      (() => {\n",
              "      const buttonEl =\n",
              "        document.querySelector('#id_821a969a-c1f4-4e70-b9ba-6acab93a02f7 button.colab-df-generate');\n",
              "      buttonEl.style.display =\n",
              "        google.colab.kernel.accessAllowed ? 'block' : 'none';\n",
              "\n",
              "      buttonEl.onclick = () => {\n",
              "        google.colab.notebook.generateWithVariable('df');\n",
              "      }\n",
              "      })();\n",
              "    </script>\n",
              "  </div>\n",
              "\n",
              "    </div>\n",
              "  </div>\n"
            ],
            "application/vnd.google.colaboratory.intrinsic+json": {
              "type": "dataframe",
              "variable_name": "df",
              "summary": "{\n  \"name\": \"df\",\n  \"rows\": 10,\n  \"fields\": [\n    {\n      \"column\": \"human_baseline_summaries\",\n      \"properties\": {\n        \"dtype\": \"string\",\n        \"num_unique_values\": 10,\n        \"samples\": [\n          \"#Person1# and Kate talk about the divorce between Masha and Hero. Kate feels surprised because she thought they are well matched\",\n          \"In order to prevent employees from wasting time on Instant Message programs, #Person1# decides to terminate the use of those programs and asks Ms. Dawson to send out a memo to all employees by the afternoon.\",\n          \"#Person2# complains to #Person1# about the traffic jam, #Person1# suggests quitting driving and taking public transportation instead.\"\n        ],\n        \"semantic_type\": \"\",\n        \"description\": \"\"\n      }\n    },\n    {\n      \"column\": \"original_model_summaries\",\n      \"properties\": {\n        \"dtype\": \"category\",\n        \"num_unique_values\": 4,\n        \"samples\": [\n          \"The traffic jam at the Carrefour intersection is a problem.\",\n          \"#Person1#: Happy birthday, Brian. #Person2#: I'm so happy you're having a good time. #Person1#: Thank you, I'm sure you look great today. #Person2#: Thank you, I'm sure you look great. #Person1#: Thank you, I'm sure you look great today. #Person2#: Thank you, I'm sure you look great today. #Person1#: Thank you, I'm sure you look great today. #Person2#: Thank you, I'm sure you look great today. #Person1#: Thank you, I'm sure you look great today.\",\n          \"#Person1#: I need to take a dictation for you.\"\n        ],\n        \"semantic_type\": \"\",\n        \"description\": \"\"\n      }\n    },\n    {\n      \"column\": \"instruct_model_summaries\",\n      \"properties\": {\n        \"dtype\": \"category\",\n        \"num_unique_values\": 4,\n        \"samples\": [\n          \"#Person2# got stuck in traffic again. #Person1# suggests #Person2# start taking public transport system to work and suggests #Person2# start biking to work when it's nicer outside. #Person2# agrees.\",\n          \"Brian's birthday is coming. #Person1# invites Brian to have a dance and Brian compliments #Person1#'s looks. Brian thinks #Person1# looks great and invites #Person1# to have a drink together.\",\n          \"#Person1# asks Ms. Dawson to take a dictation to all employees by this afternoon. Ms. Dawson tells #Person1# all office communications are restricted to email correspondence and official memos and the use of Instant Message programs by employees during working hours is strictly prohibited. #Person1# wants to change the communication methods and Ms. Dawson tells #Person1# it applies to internal and external communications.\"\n        ],\n        \"semantic_type\": \"\",\n        \"description\": \"\"\n      }\n    },\n    {\n      \"column\": \"peft_model_summaries\",\n      \"properties\": {\n        \"dtype\": \"category\",\n        \"num_unique_values\": 4,\n        \"samples\": [\n          \"#Person2# got stuck in traffic and #Person1# suggests #Person2# start taking public transport system to work. #Person2# thinks it's better for the environment and #Person2# will miss having freedom with a car. #Person1# suggests biking to work when it's nicer outside.\",\n          \"Brian remembers his birthday and invites #Person1# to the party. Brian is popular with everyone and looks pretty today. #Person1# and Brian will have a drink together to celebrate Brian's birthday.\",\n          \"#Person1# asks Ms. Dawson to take a dictation to all employees by this afternoon. Ms. Dawson tells #Person1# that all office communications are restricted to email correspondence and official memos. #Person1# wants to change the communication methods and asks Ms. Dawson to get the memo typed up and distributed to all employees before 4 pm.\"\n        ],\n        \"semantic_type\": \"\",\n        \"description\": \"\"\n      }\n    }\n  ]\n}"
            }
          },
          "metadata": {},
          "execution_count": 53
        }
      ],
      "source": [
        "dialogues = dataset['test'][0:10]['dialogue']\n",
        "human_baseline_summaries = dataset['test'][0:10]['summary']\n",
        "\n",
        "original_model_summaries = []\n",
        "instruct_model_summaries = []\n",
        "peft_model_summaries = []\n",
        "\n",
        "for idx, dialogue in enumerate(dialogues):\n",
        "    prompt = f\"\"\"\n",
        "Summarize the following conversation.\n",
        "\n",
        "{dialogue}\n",
        "\n",
        "Summary: \"\"\"\n",
        "\n",
        "    input_ids = tokenizer(prompt, return_tensors=\"pt\").input_ids\n",
        "\n",
        "    human_baseline_text_output = human_baseline_summaries[idx]\n",
        "\n",
        "    original_model_outputs = original_model.generate(input_ids=input_ids, generation_config=GenerationConfig(max_new_tokens=200))\n",
        "    original_model_text_output = tokenizer.decode(original_model_outputs[0], skip_special_tokens=True)\n",
        "\n",
        "    instruct_model_outputs = instruct_model.generate(input_ids=input_ids, generation_config=GenerationConfig(max_new_tokens=200))\n",
        "    instruct_model_text_output = tokenizer.decode(instruct_model_outputs[0], skip_special_tokens=True)\n",
        "\n",
        "    peft_model_outputs = peft_model.generate(input_ids=input_ids, generation_config=GenerationConfig(max_new_tokens=200))\n",
        "    peft_model_text_output = tokenizer.decode(peft_model_outputs[0], skip_special_tokens=True)\n",
        "\n",
        "    original_model_summaries.append(original_model_text_output)\n",
        "    instruct_model_summaries.append(instruct_model_text_output)\n",
        "    peft_model_summaries.append(peft_model_text_output)\n",
        "\n",
        "zipped_summaries = list(zip(human_baseline_summaries, original_model_summaries, instruct_model_summaries, peft_model_summaries))\n",
        "\n",
        "df = pd.DataFrame(zipped_summaries, columns = ['human_baseline_summaries', 'original_model_summaries', 'instruct_model_summaries', 'peft_model_summaries'])\n",
        "df"
      ]
    },
    {
      "cell_type": "code",
      "execution_count": null,
      "metadata": {
        "tags": [],
        "id": "QfDDGBy9PAuO",
        "outputId": "de998e49-d8f5-47a1-fdbb-a1491355806b",
        "colab": {
          "base_uri": "https://localhost:8080/"
        }
      },
      "outputs": [
        {
          "output_type": "stream",
          "name": "stdout",
          "text": [
            "ORIGINAL MODEL:\n",
            "{'rouge1': 0.24089921652421653, 'rouge2': 0.11769053708439897, 'rougeL': 0.22001958689458687, 'rougeLsum': 0.22134175465057818}\n",
            "INSTRUCT MODEL:\n",
            "{'rouge1': 0.41026607717457186, 'rouge2': 0.17840645241958838, 'rougeL': 0.2977022096267017, 'rougeLsum': 0.2987374187518165}\n",
            "PEFT MODEL:\n",
            "{'rouge1': 0.3725351062275605, 'rouge2': 0.12138811933618107, 'rougeL': 0.27620639623170606, 'rougeLsum': 0.2758134870822362}\n"
          ]
        }
      ],
      "source": [
        "rouge = evaluate.load('rouge')\n",
        "\n",
        "original_model_results = rouge.compute(\n",
        "    predictions=original_model_summaries,\n",
        "    references=human_baseline_summaries[0:len(original_model_summaries)],\n",
        "    use_aggregator=True,\n",
        "    use_stemmer=True,\n",
        ")\n",
        "\n",
        "instruct_model_results = rouge.compute(\n",
        "    predictions=instruct_model_summaries,\n",
        "    references=human_baseline_summaries[0:len(instruct_model_summaries)],\n",
        "    use_aggregator=True,\n",
        "    use_stemmer=True,\n",
        ")\n",
        "\n",
        "peft_model_results = rouge.compute(\n",
        "    predictions=peft_model_summaries,\n",
        "    references=human_baseline_summaries[0:len(peft_model_summaries)],\n",
        "    use_aggregator=True,\n",
        "    use_stemmer=True,\n",
        ")\n",
        "\n",
        "print('ORIGINAL MODEL:')\n",
        "print(original_model_results)\n",
        "print('INSTRUCT MODEL:')\n",
        "print(instruct_model_results)\n",
        "print('PEFT MODEL:')\n",
        "print(peft_model_results)"
      ]
    },
    {
      "cell_type": "code",
      "source": [],
      "metadata": {
        "id": "9L77fMNUnrmw"
      },
      "execution_count": null,
      "outputs": []
    },
    {
      "cell_type": "markdown",
      "metadata": {
        "id": "c4hWxAAUPAuO"
      },
      "source": [
        "Notice, that PEFT model results are not too bad, while the training process was much easier!"
      ]
    },
    {
      "cell_type": "markdown",
      "metadata": {
        "id": "e1qrbBrCPAuO"
      },
      "source": [
        "We have already computed ROUGE score on the full dataset, after loading the results from the `dialogue-summary-training-results.csv` file. Now, we can load the values for the PEFT model now and check its performance compared to other models."
      ]
    },
    {
      "cell_type": "code",
      "execution_count": null,
      "metadata": {
        "tags": [],
        "id": "QE3RRD9KPAuP",
        "outputId": "f01dec56-b31f-4020-c9a4-50cc0394b869",
        "colab": {
          "base_uri": "https://localhost:8080/"
        }
      },
      "outputs": [
        {
          "output_type": "stream",
          "name": "stdout",
          "text": [
            "ORIGINAL MODEL:\n",
            "{'rouge1': 0.2334158581572823, 'rouge2': 0.07603964187010573, 'rougeL': 0.20145520923859048, 'rougeLsum': 0.20145899339006135}\n",
            "INSTRUCT MODEL:\n",
            "{'rouge1': 0.42161291557556113, 'rouge2': 0.18035380596301792, 'rougeL': 0.3384439349963909, 'rougeLsum': 0.33835653595561666}\n",
            "PEFT MODEL:\n",
            "{'rouge1': 0.40810631575616746, 'rouge2': 0.1633255794568712, 'rougeL': 0.32507074586565354, 'rougeLsum': 0.3248950182867091}\n"
          ]
        }
      ],
      "source": [
        "human_baseline_summaries = results['human_baseline_summaries'].values\n",
        "original_model_summaries = results['original_model_summaries'].values\n",
        "instruct_model_summaries = results['instruct_model_summaries'].values\n",
        "peft_model_summaries     = results['peft_model_summaries'].values\n",
        "\n",
        "original_model_results = rouge.compute(\n",
        "    predictions=original_model_summaries,\n",
        "    references=human_baseline_summaries[0:len(original_model_summaries)],\n",
        "    use_aggregator=True,\n",
        "    use_stemmer=True,\n",
        ")\n",
        "\n",
        "instruct_model_results = rouge.compute(\n",
        "    predictions=instruct_model_summaries,\n",
        "    references=human_baseline_summaries[0:len(instruct_model_summaries)],\n",
        "    use_aggregator=True,\n",
        "    use_stemmer=True,\n",
        ")\n",
        "\n",
        "peft_model_results = rouge.compute(\n",
        "    predictions=peft_model_summaries,\n",
        "    references=human_baseline_summaries[0:len(peft_model_summaries)],\n",
        "    use_aggregator=True,\n",
        "    use_stemmer=True,\n",
        ")\n",
        "\n",
        "print('ORIGINAL MODEL:')\n",
        "print(original_model_results)\n",
        "print('INSTRUCT MODEL:')\n",
        "print(instruct_model_results)\n",
        "print('PEFT MODEL:')\n",
        "print(peft_model_results)"
      ]
    },
    {
      "cell_type": "markdown",
      "metadata": {
        "id": "f5k46QMHPAuQ"
      },
      "source": [
        "The results show less of an improvement over full fine-tuning, but the benefits of PEFT typically outweigh the slightly-lower performance metrics.\n",
        "\n",
        "Calculate the improvement of PEFT over the original model:"
      ]
    },
    {
      "cell_type": "code",
      "execution_count": null,
      "metadata": {
        "tags": [],
        "id": "FtrJarrIPAuQ",
        "outputId": "0d1e5492-45f2-43d0-d3c4-51ba96d7644d",
        "colab": {
          "base_uri": "https://localhost:8080/"
        }
      },
      "outputs": [
        {
          "output_type": "stream",
          "name": "stdout",
          "text": [
            "Absolute percentage improvement of PEFT MODEL over ORIGINAL MODEL\n",
            "rouge1: 17.47%\n",
            "rouge2: 8.73%\n",
            "rougeL: 12.36%\n",
            "rougeLsum: 12.34%\n"
          ]
        }
      ],
      "source": [
        "print(\"Absolute percentage improvement of PEFT MODEL over ORIGINAL MODEL\")\n",
        "\n",
        "improvement = (np.array(list(peft_model_results.values())) - np.array(list(original_model_results.values())))\n",
        "for key, value in zip(peft_model_results.keys(), improvement):\n",
        "    print(f'{key}: {value*100:.2f}%')"
      ]
    },
    {
      "cell_type": "markdown",
      "metadata": {
        "id": "kIC0S7U_PAuR"
      },
      "source": [
        "Now calculate the improvement of PEFT over a full fine-tuned model:"
      ]
    },
    {
      "cell_type": "code",
      "execution_count": null,
      "metadata": {
        "tags": [],
        "id": "DeG4smNLPAuR",
        "outputId": "cd67dde7-9e37-4e07-b105-ac2fcee7f52f",
        "colab": {
          "base_uri": "https://localhost:8080/"
        }
      },
      "outputs": [
        {
          "output_type": "stream",
          "name": "stdout",
          "text": [
            "Absolute percentage improvement of PEFT MODEL over INSTRUCT MODEL\n",
            "rouge1: -1.35%\n",
            "rouge2: -1.70%\n",
            "rougeL: -1.34%\n",
            "rougeLsum: -1.35%\n"
          ]
        }
      ],
      "source": [
        "print(\"Absolute percentage improvement of PEFT MODEL over INSTRUCT MODEL\")\n",
        "\n",
        "improvement = (np.array(list(peft_model_results.values())) - np.array(list(instruct_model_results.values())))\n",
        "for key, value in zip(peft_model_results.keys(), improvement):\n",
        "    print(f'{key}: {value*100:.2f}%')"
      ]
    },
    {
      "cell_type": "markdown",
      "metadata": {
        "id": "UVCPTwtKPAuR"
      },
      "source": [
        "**Here** we can observe a small percentage decrease in the ROUGE metrics vs. full fine-tuned. However, the training requires much less computing and memory resources (often just a single GPU)."
      ]
    }
  ],
  "metadata": {
    "availableInstances": [
      {
        "_defaultOrder": 0,
        "_isFastLaunch": true,
        "category": "General purpose",
        "gpuNum": 0,
        "hideHardwareSpecs": false,
        "memoryGiB": 4,
        "name": "ml.t3.medium",
        "vcpuNum": 2
      },
      {
        "_defaultOrder": 1,
        "_isFastLaunch": false,
        "category": "General purpose",
        "gpuNum": 0,
        "hideHardwareSpecs": false,
        "memoryGiB": 8,
        "name": "ml.t3.large",
        "vcpuNum": 2
      },
      {
        "_defaultOrder": 2,
        "_isFastLaunch": false,
        "category": "General purpose",
        "gpuNum": 0,
        "hideHardwareSpecs": false,
        "memoryGiB": 16,
        "name": "ml.t3.xlarge",
        "vcpuNum": 4
      },
      {
        "_defaultOrder": 3,
        "_isFastLaunch": false,
        "category": "General purpose",
        "gpuNum": 0,
        "hideHardwareSpecs": false,
        "memoryGiB": 32,
        "name": "ml.t3.2xlarge",
        "vcpuNum": 8
      },
      {
        "_defaultOrder": 4,
        "_isFastLaunch": true,
        "category": "General purpose",
        "gpuNum": 0,
        "hideHardwareSpecs": false,
        "memoryGiB": 8,
        "name": "ml.m5.large",
        "vcpuNum": 2
      },
      {
        "_defaultOrder": 5,
        "_isFastLaunch": false,
        "category": "General purpose",
        "gpuNum": 0,
        "hideHardwareSpecs": false,
        "memoryGiB": 16,
        "name": "ml.m5.xlarge",
        "vcpuNum": 4
      },
      {
        "_defaultOrder": 6,
        "_isFastLaunch": false,
        "category": "General purpose",
        "gpuNum": 0,
        "hideHardwareSpecs": false,
        "memoryGiB": 32,
        "name": "ml.m5.2xlarge",
        "vcpuNum": 8
      },
      {
        "_defaultOrder": 7,
        "_isFastLaunch": false,
        "category": "General purpose",
        "gpuNum": 0,
        "hideHardwareSpecs": false,
        "memoryGiB": 64,
        "name": "ml.m5.4xlarge",
        "vcpuNum": 16
      },
      {
        "_defaultOrder": 8,
        "_isFastLaunch": false,
        "category": "General purpose",
        "gpuNum": 0,
        "hideHardwareSpecs": false,
        "memoryGiB": 128,
        "name": "ml.m5.8xlarge",
        "vcpuNum": 32
      },
      {
        "_defaultOrder": 9,
        "_isFastLaunch": false,
        "category": "General purpose",
        "gpuNum": 0,
        "hideHardwareSpecs": false,
        "memoryGiB": 192,
        "name": "ml.m5.12xlarge",
        "vcpuNum": 48
      },
      {
        "_defaultOrder": 10,
        "_isFastLaunch": false,
        "category": "General purpose",
        "gpuNum": 0,
        "hideHardwareSpecs": false,
        "memoryGiB": 256,
        "name": "ml.m5.16xlarge",
        "vcpuNum": 64
      },
      {
        "_defaultOrder": 11,
        "_isFastLaunch": false,
        "category": "General purpose",
        "gpuNum": 0,
        "hideHardwareSpecs": false,
        "memoryGiB": 384,
        "name": "ml.m5.24xlarge",
        "vcpuNum": 96
      },
      {
        "_defaultOrder": 12,
        "_isFastLaunch": false,
        "category": "General purpose",
        "gpuNum": 0,
        "hideHardwareSpecs": false,
        "memoryGiB": 8,
        "name": "ml.m5d.large",
        "vcpuNum": 2
      },
      {
        "_defaultOrder": 13,
        "_isFastLaunch": false,
        "category": "General purpose",
        "gpuNum": 0,
        "hideHardwareSpecs": false,
        "memoryGiB": 16,
        "name": "ml.m5d.xlarge",
        "vcpuNum": 4
      },
      {
        "_defaultOrder": 14,
        "_isFastLaunch": false,
        "category": "General purpose",
        "gpuNum": 0,
        "hideHardwareSpecs": false,
        "memoryGiB": 32,
        "name": "ml.m5d.2xlarge",
        "vcpuNum": 8
      },
      {
        "_defaultOrder": 15,
        "_isFastLaunch": false,
        "category": "General purpose",
        "gpuNum": 0,
        "hideHardwareSpecs": false,
        "memoryGiB": 64,
        "name": "ml.m5d.4xlarge",
        "vcpuNum": 16
      },
      {
        "_defaultOrder": 16,
        "_isFastLaunch": false,
        "category": "General purpose",
        "gpuNum": 0,
        "hideHardwareSpecs": false,
        "memoryGiB": 128,
        "name": "ml.m5d.8xlarge",
        "vcpuNum": 32
      },
      {
        "_defaultOrder": 17,
        "_isFastLaunch": false,
        "category": "General purpose",
        "gpuNum": 0,
        "hideHardwareSpecs": false,
        "memoryGiB": 192,
        "name": "ml.m5d.12xlarge",
        "vcpuNum": 48
      },
      {
        "_defaultOrder": 18,
        "_isFastLaunch": false,
        "category": "General purpose",
        "gpuNum": 0,
        "hideHardwareSpecs": false,
        "memoryGiB": 256,
        "name": "ml.m5d.16xlarge",
        "vcpuNum": 64
      },
      {
        "_defaultOrder": 19,
        "_isFastLaunch": false,
        "category": "General purpose",
        "gpuNum": 0,
        "hideHardwareSpecs": false,
        "memoryGiB": 384,
        "name": "ml.m5d.24xlarge",
        "vcpuNum": 96
      },
      {
        "_defaultOrder": 20,
        "_isFastLaunch": false,
        "category": "General purpose",
        "gpuNum": 0,
        "hideHardwareSpecs": true,
        "memoryGiB": 0,
        "name": "ml.geospatial.interactive",
        "supportedImageNames": [
          "sagemaker-geospatial-v1-0"
        ],
        "vcpuNum": 0
      },
      {
        "_defaultOrder": 21,
        "_isFastLaunch": true,
        "category": "Compute optimized",
        "gpuNum": 0,
        "hideHardwareSpecs": false,
        "memoryGiB": 4,
        "name": "ml.c5.large",
        "vcpuNum": 2
      },
      {
        "_defaultOrder": 22,
        "_isFastLaunch": false,
        "category": "Compute optimized",
        "gpuNum": 0,
        "hideHardwareSpecs": false,
        "memoryGiB": 8,
        "name": "ml.c5.xlarge",
        "vcpuNum": 4
      },
      {
        "_defaultOrder": 23,
        "_isFastLaunch": false,
        "category": "Compute optimized",
        "gpuNum": 0,
        "hideHardwareSpecs": false,
        "memoryGiB": 16,
        "name": "ml.c5.2xlarge",
        "vcpuNum": 8
      },
      {
        "_defaultOrder": 24,
        "_isFastLaunch": false,
        "category": "Compute optimized",
        "gpuNum": 0,
        "hideHardwareSpecs": false,
        "memoryGiB": 32,
        "name": "ml.c5.4xlarge",
        "vcpuNum": 16
      },
      {
        "_defaultOrder": 25,
        "_isFastLaunch": false,
        "category": "Compute optimized",
        "gpuNum": 0,
        "hideHardwareSpecs": false,
        "memoryGiB": 72,
        "name": "ml.c5.9xlarge",
        "vcpuNum": 36
      },
      {
        "_defaultOrder": 26,
        "_isFastLaunch": false,
        "category": "Compute optimized",
        "gpuNum": 0,
        "hideHardwareSpecs": false,
        "memoryGiB": 96,
        "name": "ml.c5.12xlarge",
        "vcpuNum": 48
      },
      {
        "_defaultOrder": 27,
        "_isFastLaunch": false,
        "category": "Compute optimized",
        "gpuNum": 0,
        "hideHardwareSpecs": false,
        "memoryGiB": 144,
        "name": "ml.c5.18xlarge",
        "vcpuNum": 72
      },
      {
        "_defaultOrder": 28,
        "_isFastLaunch": false,
        "category": "Compute optimized",
        "gpuNum": 0,
        "hideHardwareSpecs": false,
        "memoryGiB": 192,
        "name": "ml.c5.24xlarge",
        "vcpuNum": 96
      },
      {
        "_defaultOrder": 29,
        "_isFastLaunch": true,
        "category": "Accelerated computing",
        "gpuNum": 1,
        "hideHardwareSpecs": false,
        "memoryGiB": 16,
        "name": "ml.g4dn.xlarge",
        "vcpuNum": 4
      },
      {
        "_defaultOrder": 30,
        "_isFastLaunch": false,
        "category": "Accelerated computing",
        "gpuNum": 1,
        "hideHardwareSpecs": false,
        "memoryGiB": 32,
        "name": "ml.g4dn.2xlarge",
        "vcpuNum": 8
      },
      {
        "_defaultOrder": 31,
        "_isFastLaunch": false,
        "category": "Accelerated computing",
        "gpuNum": 1,
        "hideHardwareSpecs": false,
        "memoryGiB": 64,
        "name": "ml.g4dn.4xlarge",
        "vcpuNum": 16
      },
      {
        "_defaultOrder": 32,
        "_isFastLaunch": false,
        "category": "Accelerated computing",
        "gpuNum": 1,
        "hideHardwareSpecs": false,
        "memoryGiB": 128,
        "name": "ml.g4dn.8xlarge",
        "vcpuNum": 32
      },
      {
        "_defaultOrder": 33,
        "_isFastLaunch": false,
        "category": "Accelerated computing",
        "gpuNum": 4,
        "hideHardwareSpecs": false,
        "memoryGiB": 192,
        "name": "ml.g4dn.12xlarge",
        "vcpuNum": 48
      },
      {
        "_defaultOrder": 34,
        "_isFastLaunch": false,
        "category": "Accelerated computing",
        "gpuNum": 1,
        "hideHardwareSpecs": false,
        "memoryGiB": 256,
        "name": "ml.g4dn.16xlarge",
        "vcpuNum": 64
      },
      {
        "_defaultOrder": 35,
        "_isFastLaunch": false,
        "category": "Accelerated computing",
        "gpuNum": 1,
        "hideHardwareSpecs": false,
        "memoryGiB": 61,
        "name": "ml.p3.2xlarge",
        "vcpuNum": 8
      },
      {
        "_defaultOrder": 36,
        "_isFastLaunch": false,
        "category": "Accelerated computing",
        "gpuNum": 4,
        "hideHardwareSpecs": false,
        "memoryGiB": 244,
        "name": "ml.p3.8xlarge",
        "vcpuNum": 32
      },
      {
        "_defaultOrder": 37,
        "_isFastLaunch": false,
        "category": "Accelerated computing",
        "gpuNum": 8,
        "hideHardwareSpecs": false,
        "memoryGiB": 488,
        "name": "ml.p3.16xlarge",
        "vcpuNum": 64
      },
      {
        "_defaultOrder": 38,
        "_isFastLaunch": false,
        "category": "Accelerated computing",
        "gpuNum": 8,
        "hideHardwareSpecs": false,
        "memoryGiB": 768,
        "name": "ml.p3dn.24xlarge",
        "vcpuNum": 96
      },
      {
        "_defaultOrder": 39,
        "_isFastLaunch": false,
        "category": "Memory Optimized",
        "gpuNum": 0,
        "hideHardwareSpecs": false,
        "memoryGiB": 16,
        "name": "ml.r5.large",
        "vcpuNum": 2
      },
      {
        "_defaultOrder": 40,
        "_isFastLaunch": false,
        "category": "Memory Optimized",
        "gpuNum": 0,
        "hideHardwareSpecs": false,
        "memoryGiB": 32,
        "name": "ml.r5.xlarge",
        "vcpuNum": 4
      },
      {
        "_defaultOrder": 41,
        "_isFastLaunch": false,
        "category": "Memory Optimized",
        "gpuNum": 0,
        "hideHardwareSpecs": false,
        "memoryGiB": 64,
        "name": "ml.r5.2xlarge",
        "vcpuNum": 8
      },
      {
        "_defaultOrder": 42,
        "_isFastLaunch": false,
        "category": "Memory Optimized",
        "gpuNum": 0,
        "hideHardwareSpecs": false,
        "memoryGiB": 128,
        "name": "ml.r5.4xlarge",
        "vcpuNum": 16
      },
      {
        "_defaultOrder": 43,
        "_isFastLaunch": false,
        "category": "Memory Optimized",
        "gpuNum": 0,
        "hideHardwareSpecs": false,
        "memoryGiB": 256,
        "name": "ml.r5.8xlarge",
        "vcpuNum": 32
      },
      {
        "_defaultOrder": 44,
        "_isFastLaunch": false,
        "category": "Memory Optimized",
        "gpuNum": 0,
        "hideHardwareSpecs": false,
        "memoryGiB": 384,
        "name": "ml.r5.12xlarge",
        "vcpuNum": 48
      },
      {
        "_defaultOrder": 45,
        "_isFastLaunch": false,
        "category": "Memory Optimized",
        "gpuNum": 0,
        "hideHardwareSpecs": false,
        "memoryGiB": 512,
        "name": "ml.r5.16xlarge",
        "vcpuNum": 64
      },
      {
        "_defaultOrder": 46,
        "_isFastLaunch": false,
        "category": "Memory Optimized",
        "gpuNum": 0,
        "hideHardwareSpecs": false,
        "memoryGiB": 768,
        "name": "ml.r5.24xlarge",
        "vcpuNum": 96
      },
      {
        "_defaultOrder": 47,
        "_isFastLaunch": false,
        "category": "Accelerated computing",
        "gpuNum": 1,
        "hideHardwareSpecs": false,
        "memoryGiB": 16,
        "name": "ml.g5.xlarge",
        "vcpuNum": 4
      },
      {
        "_defaultOrder": 48,
        "_isFastLaunch": false,
        "category": "Accelerated computing",
        "gpuNum": 1,
        "hideHardwareSpecs": false,
        "memoryGiB": 32,
        "name": "ml.g5.2xlarge",
        "vcpuNum": 8
      },
      {
        "_defaultOrder": 49,
        "_isFastLaunch": false,
        "category": "Accelerated computing",
        "gpuNum": 1,
        "hideHardwareSpecs": false,
        "memoryGiB": 64,
        "name": "ml.g5.4xlarge",
        "vcpuNum": 16
      },
      {
        "_defaultOrder": 50,
        "_isFastLaunch": false,
        "category": "Accelerated computing",
        "gpuNum": 1,
        "hideHardwareSpecs": false,
        "memoryGiB": 128,
        "name": "ml.g5.8xlarge",
        "vcpuNum": 32
      },
      {
        "_defaultOrder": 51,
        "_isFastLaunch": false,
        "category": "Accelerated computing",
        "gpuNum": 1,
        "hideHardwareSpecs": false,
        "memoryGiB": 256,
        "name": "ml.g5.16xlarge",
        "vcpuNum": 64
      },
      {
        "_defaultOrder": 52,
        "_isFastLaunch": false,
        "category": "Accelerated computing",
        "gpuNum": 4,
        "hideHardwareSpecs": false,
        "memoryGiB": 192,
        "name": "ml.g5.12xlarge",
        "vcpuNum": 48
      },
      {
        "_defaultOrder": 53,
        "_isFastLaunch": false,
        "category": "Accelerated computing",
        "gpuNum": 4,
        "hideHardwareSpecs": false,
        "memoryGiB": 384,
        "name": "ml.g5.24xlarge",
        "vcpuNum": 96
      },
      {
        "_defaultOrder": 54,
        "_isFastLaunch": false,
        "category": "Accelerated computing",
        "gpuNum": 8,
        "hideHardwareSpecs": false,
        "memoryGiB": 768,
        "name": "ml.g5.48xlarge",
        "vcpuNum": 192
      },
      {
        "_defaultOrder": 55,
        "_isFastLaunch": false,
        "category": "Accelerated computing",
        "gpuNum": 8,
        "hideHardwareSpecs": false,
        "memoryGiB": 1152,
        "name": "ml.p4d.24xlarge",
        "vcpuNum": 96
      },
      {
        "_defaultOrder": 56,
        "_isFastLaunch": false,
        "category": "Accelerated computing",
        "gpuNum": 8,
        "hideHardwareSpecs": false,
        "memoryGiB": 1152,
        "name": "ml.p4de.24xlarge",
        "vcpuNum": 96
      },
      {
        "_defaultOrder": 57,
        "_isFastLaunch": false,
        "category": "Accelerated computing",
        "gpuNum": 0,
        "hideHardwareSpecs": false,
        "memoryGiB": 32,
        "name": "ml.trn1.2xlarge",
        "vcpuNum": 8
      },
      {
        "_defaultOrder": 58,
        "_isFastLaunch": false,
        "category": "Accelerated computing",
        "gpuNum": 0,
        "hideHardwareSpecs": false,
        "memoryGiB": 512,
        "name": "ml.trn1.32xlarge",
        "vcpuNum": 128
      },
      {
        "_defaultOrder": 59,
        "_isFastLaunch": false,
        "category": "Accelerated computing",
        "gpuNum": 0,
        "hideHardwareSpecs": false,
        "memoryGiB": 512,
        "name": "ml.trn1n.32xlarge",
        "vcpuNum": 128
      }
    ],
    "colab": {
      "provenance": [],
      "include_colab_link": true
    },
    "instance_type": "ml.m5.2xlarge",
    "kernelspec": {
      "display_name": "Python 3",
      "name": "python3"
    },
    "language_info": {
      "name": "python"
    },
    "vscode": {
      "interpreter": {
        "hash": "aee8b7b246df8f9039afb4144a1f6fd8d2ca17a180786b69acc140d282b71a49"
      }
    },
    "widgets": {
      "application/vnd.jupyter.widget-state+json": {
        "ec01e768539e43018245607dad068e71": {
          "model_module": "@jupyter-widgets/controls",
          "model_name": "HBoxModel",
          "model_module_version": "1.5.0",
          "state": {
            "_dom_classes": [],
            "_model_module": "@jupyter-widgets/controls",
            "_model_module_version": "1.5.0",
            "_model_name": "HBoxModel",
            "_view_count": null,
            "_view_module": "@jupyter-widgets/controls",
            "_view_module_version": "1.5.0",
            "_view_name": "HBoxView",
            "box_style": "",
            "children": [
              "IPY_MODEL_1a270e86c9554152a637ca9ac0ddb03e",
              "IPY_MODEL_707a4925576447948662983e87516f94",
              "IPY_MODEL_59d5f1110a7c41a3a104a61e1308d738"
            ],
            "layout": "IPY_MODEL_88fd14e989064cb79f5d33bd6c1b61bd"
          }
        },
        "1a270e86c9554152a637ca9ac0ddb03e": {
          "model_module": "@jupyter-widgets/controls",
          "model_name": "HTMLModel",
          "model_module_version": "1.5.0",
          "state": {
            "_dom_classes": [],
            "_model_module": "@jupyter-widgets/controls",
            "_model_module_version": "1.5.0",
            "_model_name": "HTMLModel",
            "_view_count": null,
            "_view_module": "@jupyter-widgets/controls",
            "_view_module_version": "1.5.0",
            "_view_name": "HTMLView",
            "description": "",
            "description_tooltip": null,
            "layout": "IPY_MODEL_c00f8627529f467eaf11bca4ecbf5f27",
            "placeholder": "​",
            "style": "IPY_MODEL_bb0dfb3d085048c2a4ca41f73992c656",
            "value": "Map: 100%"
          }
        },
        "707a4925576447948662983e87516f94": {
          "model_module": "@jupyter-widgets/controls",
          "model_name": "FloatProgressModel",
          "model_module_version": "1.5.0",
          "state": {
            "_dom_classes": [],
            "_model_module": "@jupyter-widgets/controls",
            "_model_module_version": "1.5.0",
            "_model_name": "FloatProgressModel",
            "_view_count": null,
            "_view_module": "@jupyter-widgets/controls",
            "_view_module_version": "1.5.0",
            "_view_name": "ProgressView",
            "bar_style": "success",
            "description": "",
            "description_tooltip": null,
            "layout": "IPY_MODEL_490c5dd6db03405392dd28d07c1dfddc",
            "max": 12460,
            "min": 0,
            "orientation": "horizontal",
            "style": "IPY_MODEL_d8e0e559e02242feaa0900ecff89f609",
            "value": 12460
          }
        },
        "59d5f1110a7c41a3a104a61e1308d738": {
          "model_module": "@jupyter-widgets/controls",
          "model_name": "HTMLModel",
          "model_module_version": "1.5.0",
          "state": {
            "_dom_classes": [],
            "_model_module": "@jupyter-widgets/controls",
            "_model_module_version": "1.5.0",
            "_model_name": "HTMLModel",
            "_view_count": null,
            "_view_module": "@jupyter-widgets/controls",
            "_view_module_version": "1.5.0",
            "_view_name": "HTMLView",
            "description": "",
            "description_tooltip": null,
            "layout": "IPY_MODEL_a0372efa446e46398aca75f2d5448281",
            "placeholder": "​",
            "style": "IPY_MODEL_a37702d78b324580a951942ba8ee94de",
            "value": " 12460/12460 [00:20&lt;00:00, 572.77 examples/s]"
          }
        },
        "88fd14e989064cb79f5d33bd6c1b61bd": {
          "model_module": "@jupyter-widgets/base",
          "model_name": "LayoutModel",
          "model_module_version": "1.2.0",
          "state": {
            "_model_module": "@jupyter-widgets/base",
            "_model_module_version": "1.2.0",
            "_model_name": "LayoutModel",
            "_view_count": null,
            "_view_module": "@jupyter-widgets/base",
            "_view_module_version": "1.2.0",
            "_view_name": "LayoutView",
            "align_content": null,
            "align_items": null,
            "align_self": null,
            "border": null,
            "bottom": null,
            "display": null,
            "flex": null,
            "flex_flow": null,
            "grid_area": null,
            "grid_auto_columns": null,
            "grid_auto_flow": null,
            "grid_auto_rows": null,
            "grid_column": null,
            "grid_gap": null,
            "grid_row": null,
            "grid_template_areas": null,
            "grid_template_columns": null,
            "grid_template_rows": null,
            "height": null,
            "justify_content": null,
            "justify_items": null,
            "left": null,
            "margin": null,
            "max_height": null,
            "max_width": null,
            "min_height": null,
            "min_width": null,
            "object_fit": null,
            "object_position": null,
            "order": null,
            "overflow": null,
            "overflow_x": null,
            "overflow_y": null,
            "padding": null,
            "right": null,
            "top": null,
            "visibility": null,
            "width": null
          }
        },
        "c00f8627529f467eaf11bca4ecbf5f27": {
          "model_module": "@jupyter-widgets/base",
          "model_name": "LayoutModel",
          "model_module_version": "1.2.0",
          "state": {
            "_model_module": "@jupyter-widgets/base",
            "_model_module_version": "1.2.0",
            "_model_name": "LayoutModel",
            "_view_count": null,
            "_view_module": "@jupyter-widgets/base",
            "_view_module_version": "1.2.0",
            "_view_name": "LayoutView",
            "align_content": null,
            "align_items": null,
            "align_self": null,
            "border": null,
            "bottom": null,
            "display": null,
            "flex": null,
            "flex_flow": null,
            "grid_area": null,
            "grid_auto_columns": null,
            "grid_auto_flow": null,
            "grid_auto_rows": null,
            "grid_column": null,
            "grid_gap": null,
            "grid_row": null,
            "grid_template_areas": null,
            "grid_template_columns": null,
            "grid_template_rows": null,
            "height": null,
            "justify_content": null,
            "justify_items": null,
            "left": null,
            "margin": null,
            "max_height": null,
            "max_width": null,
            "min_height": null,
            "min_width": null,
            "object_fit": null,
            "object_position": null,
            "order": null,
            "overflow": null,
            "overflow_x": null,
            "overflow_y": null,
            "padding": null,
            "right": null,
            "top": null,
            "visibility": null,
            "width": null
          }
        },
        "bb0dfb3d085048c2a4ca41f73992c656": {
          "model_module": "@jupyter-widgets/controls",
          "model_name": "DescriptionStyleModel",
          "model_module_version": "1.5.0",
          "state": {
            "_model_module": "@jupyter-widgets/controls",
            "_model_module_version": "1.5.0",
            "_model_name": "DescriptionStyleModel",
            "_view_count": null,
            "_view_module": "@jupyter-widgets/base",
            "_view_module_version": "1.2.0",
            "_view_name": "StyleView",
            "description_width": ""
          }
        },
        "490c5dd6db03405392dd28d07c1dfddc": {
          "model_module": "@jupyter-widgets/base",
          "model_name": "LayoutModel",
          "model_module_version": "1.2.0",
          "state": {
            "_model_module": "@jupyter-widgets/base",
            "_model_module_version": "1.2.0",
            "_model_name": "LayoutModel",
            "_view_count": null,
            "_view_module": "@jupyter-widgets/base",
            "_view_module_version": "1.2.0",
            "_view_name": "LayoutView",
            "align_content": null,
            "align_items": null,
            "align_self": null,
            "border": null,
            "bottom": null,
            "display": null,
            "flex": null,
            "flex_flow": null,
            "grid_area": null,
            "grid_auto_columns": null,
            "grid_auto_flow": null,
            "grid_auto_rows": null,
            "grid_column": null,
            "grid_gap": null,
            "grid_row": null,
            "grid_template_areas": null,
            "grid_template_columns": null,
            "grid_template_rows": null,
            "height": null,
            "justify_content": null,
            "justify_items": null,
            "left": null,
            "margin": null,
            "max_height": null,
            "max_width": null,
            "min_height": null,
            "min_width": null,
            "object_fit": null,
            "object_position": null,
            "order": null,
            "overflow": null,
            "overflow_x": null,
            "overflow_y": null,
            "padding": null,
            "right": null,
            "top": null,
            "visibility": null,
            "width": null
          }
        },
        "d8e0e559e02242feaa0900ecff89f609": {
          "model_module": "@jupyter-widgets/controls",
          "model_name": "ProgressStyleModel",
          "model_module_version": "1.5.0",
          "state": {
            "_model_module": "@jupyter-widgets/controls",
            "_model_module_version": "1.5.0",
            "_model_name": "ProgressStyleModel",
            "_view_count": null,
            "_view_module": "@jupyter-widgets/base",
            "_view_module_version": "1.2.0",
            "_view_name": "StyleView",
            "bar_color": null,
            "description_width": ""
          }
        },
        "a0372efa446e46398aca75f2d5448281": {
          "model_module": "@jupyter-widgets/base",
          "model_name": "LayoutModel",
          "model_module_version": "1.2.0",
          "state": {
            "_model_module": "@jupyter-widgets/base",
            "_model_module_version": "1.2.0",
            "_model_name": "LayoutModel",
            "_view_count": null,
            "_view_module": "@jupyter-widgets/base",
            "_view_module_version": "1.2.0",
            "_view_name": "LayoutView",
            "align_content": null,
            "align_items": null,
            "align_self": null,
            "border": null,
            "bottom": null,
            "display": null,
            "flex": null,
            "flex_flow": null,
            "grid_area": null,
            "grid_auto_columns": null,
            "grid_auto_flow": null,
            "grid_auto_rows": null,
            "grid_column": null,
            "grid_gap": null,
            "grid_row": null,
            "grid_template_areas": null,
            "grid_template_columns": null,
            "grid_template_rows": null,
            "height": null,
            "justify_content": null,
            "justify_items": null,
            "left": null,
            "margin": null,
            "max_height": null,
            "max_width": null,
            "min_height": null,
            "min_width": null,
            "object_fit": null,
            "object_position": null,
            "order": null,
            "overflow": null,
            "overflow_x": null,
            "overflow_y": null,
            "padding": null,
            "right": null,
            "top": null,
            "visibility": null,
            "width": null
          }
        },
        "a37702d78b324580a951942ba8ee94de": {
          "model_module": "@jupyter-widgets/controls",
          "model_name": "DescriptionStyleModel",
          "model_module_version": "1.5.0",
          "state": {
            "_model_module": "@jupyter-widgets/controls",
            "_model_module_version": "1.5.0",
            "_model_name": "DescriptionStyleModel",
            "_view_count": null,
            "_view_module": "@jupyter-widgets/base",
            "_view_module_version": "1.2.0",
            "_view_name": "StyleView",
            "description_width": ""
          }
        },
        "300881fc84a24d3c929f5b463e489374": {
          "model_module": "@jupyter-widgets/controls",
          "model_name": "HBoxModel",
          "model_module_version": "1.5.0",
          "state": {
            "_dom_classes": [],
            "_model_module": "@jupyter-widgets/controls",
            "_model_module_version": "1.5.0",
            "_model_name": "HBoxModel",
            "_view_count": null,
            "_view_module": "@jupyter-widgets/controls",
            "_view_module_version": "1.5.0",
            "_view_name": "HBoxView",
            "box_style": "",
            "children": [
              "IPY_MODEL_d3ed37242ac34f63b3d4041d689e7bf7",
              "IPY_MODEL_d846cd3a60854c53a17c4a579c7ff3a5",
              "IPY_MODEL_758656bf82f249ac85a07f79db8a7ef1"
            ],
            "layout": "IPY_MODEL_32cd5da6947243f9a6d086a0dda887fc"
          }
        },
        "d3ed37242ac34f63b3d4041d689e7bf7": {
          "model_module": "@jupyter-widgets/controls",
          "model_name": "HTMLModel",
          "model_module_version": "1.5.0",
          "state": {
            "_dom_classes": [],
            "_model_module": "@jupyter-widgets/controls",
            "_model_module_version": "1.5.0",
            "_model_name": "HTMLModel",
            "_view_count": null,
            "_view_module": "@jupyter-widgets/controls",
            "_view_module_version": "1.5.0",
            "_view_name": "HTMLView",
            "description": "",
            "description_tooltip": null,
            "layout": "IPY_MODEL_c3ca71bd39414eb7a1c615398cb0bc70",
            "placeholder": "​",
            "style": "IPY_MODEL_cc6c68033bfc4438acbfa2e3c4854d77",
            "value": "Map: 100%"
          }
        },
        "d846cd3a60854c53a17c4a579c7ff3a5": {
          "model_module": "@jupyter-widgets/controls",
          "model_name": "FloatProgressModel",
          "model_module_version": "1.5.0",
          "state": {
            "_dom_classes": [],
            "_model_module": "@jupyter-widgets/controls",
            "_model_module_version": "1.5.0",
            "_model_name": "FloatProgressModel",
            "_view_count": null,
            "_view_module": "@jupyter-widgets/controls",
            "_view_module_version": "1.5.0",
            "_view_name": "ProgressView",
            "bar_style": "success",
            "description": "",
            "description_tooltip": null,
            "layout": "IPY_MODEL_69513e82d8b24a84a89850a0711e1a43",
            "max": 500,
            "min": 0,
            "orientation": "horizontal",
            "style": "IPY_MODEL_569cb164049a40baa5491412dcd78f70",
            "value": 500
          }
        },
        "758656bf82f249ac85a07f79db8a7ef1": {
          "model_module": "@jupyter-widgets/controls",
          "model_name": "HTMLModel",
          "model_module_version": "1.5.0",
          "state": {
            "_dom_classes": [],
            "_model_module": "@jupyter-widgets/controls",
            "_model_module_version": "1.5.0",
            "_model_name": "HTMLModel",
            "_view_count": null,
            "_view_module": "@jupyter-widgets/controls",
            "_view_module_version": "1.5.0",
            "_view_name": "HTMLView",
            "description": "",
            "description_tooltip": null,
            "layout": "IPY_MODEL_6a4f14db9b4144b2bc77d5447ec5b31b",
            "placeholder": "​",
            "style": "IPY_MODEL_0416aed546d94d7fa604b0923a88c52a",
            "value": " 500/500 [00:00&lt;00:00, 581.40 examples/s]"
          }
        },
        "32cd5da6947243f9a6d086a0dda887fc": {
          "model_module": "@jupyter-widgets/base",
          "model_name": "LayoutModel",
          "model_module_version": "1.2.0",
          "state": {
            "_model_module": "@jupyter-widgets/base",
            "_model_module_version": "1.2.0",
            "_model_name": "LayoutModel",
            "_view_count": null,
            "_view_module": "@jupyter-widgets/base",
            "_view_module_version": "1.2.0",
            "_view_name": "LayoutView",
            "align_content": null,
            "align_items": null,
            "align_self": null,
            "border": null,
            "bottom": null,
            "display": null,
            "flex": null,
            "flex_flow": null,
            "grid_area": null,
            "grid_auto_columns": null,
            "grid_auto_flow": null,
            "grid_auto_rows": null,
            "grid_column": null,
            "grid_gap": null,
            "grid_row": null,
            "grid_template_areas": null,
            "grid_template_columns": null,
            "grid_template_rows": null,
            "height": null,
            "justify_content": null,
            "justify_items": null,
            "left": null,
            "margin": null,
            "max_height": null,
            "max_width": null,
            "min_height": null,
            "min_width": null,
            "object_fit": null,
            "object_position": null,
            "order": null,
            "overflow": null,
            "overflow_x": null,
            "overflow_y": null,
            "padding": null,
            "right": null,
            "top": null,
            "visibility": null,
            "width": null
          }
        },
        "c3ca71bd39414eb7a1c615398cb0bc70": {
          "model_module": "@jupyter-widgets/base",
          "model_name": "LayoutModel",
          "model_module_version": "1.2.0",
          "state": {
            "_model_module": "@jupyter-widgets/base",
            "_model_module_version": "1.2.0",
            "_model_name": "LayoutModel",
            "_view_count": null,
            "_view_module": "@jupyter-widgets/base",
            "_view_module_version": "1.2.0",
            "_view_name": "LayoutView",
            "align_content": null,
            "align_items": null,
            "align_self": null,
            "border": null,
            "bottom": null,
            "display": null,
            "flex": null,
            "flex_flow": null,
            "grid_area": null,
            "grid_auto_columns": null,
            "grid_auto_flow": null,
            "grid_auto_rows": null,
            "grid_column": null,
            "grid_gap": null,
            "grid_row": null,
            "grid_template_areas": null,
            "grid_template_columns": null,
            "grid_template_rows": null,
            "height": null,
            "justify_content": null,
            "justify_items": null,
            "left": null,
            "margin": null,
            "max_height": null,
            "max_width": null,
            "min_height": null,
            "min_width": null,
            "object_fit": null,
            "object_position": null,
            "order": null,
            "overflow": null,
            "overflow_x": null,
            "overflow_y": null,
            "padding": null,
            "right": null,
            "top": null,
            "visibility": null,
            "width": null
          }
        },
        "cc6c68033bfc4438acbfa2e3c4854d77": {
          "model_module": "@jupyter-widgets/controls",
          "model_name": "DescriptionStyleModel",
          "model_module_version": "1.5.0",
          "state": {
            "_model_module": "@jupyter-widgets/controls",
            "_model_module_version": "1.5.0",
            "_model_name": "DescriptionStyleModel",
            "_view_count": null,
            "_view_module": "@jupyter-widgets/base",
            "_view_module_version": "1.2.0",
            "_view_name": "StyleView",
            "description_width": ""
          }
        },
        "69513e82d8b24a84a89850a0711e1a43": {
          "model_module": "@jupyter-widgets/base",
          "model_name": "LayoutModel",
          "model_module_version": "1.2.0",
          "state": {
            "_model_module": "@jupyter-widgets/base",
            "_model_module_version": "1.2.0",
            "_model_name": "LayoutModel",
            "_view_count": null,
            "_view_module": "@jupyter-widgets/base",
            "_view_module_version": "1.2.0",
            "_view_name": "LayoutView",
            "align_content": null,
            "align_items": null,
            "align_self": null,
            "border": null,
            "bottom": null,
            "display": null,
            "flex": null,
            "flex_flow": null,
            "grid_area": null,
            "grid_auto_columns": null,
            "grid_auto_flow": null,
            "grid_auto_rows": null,
            "grid_column": null,
            "grid_gap": null,
            "grid_row": null,
            "grid_template_areas": null,
            "grid_template_columns": null,
            "grid_template_rows": null,
            "height": null,
            "justify_content": null,
            "justify_items": null,
            "left": null,
            "margin": null,
            "max_height": null,
            "max_width": null,
            "min_height": null,
            "min_width": null,
            "object_fit": null,
            "object_position": null,
            "order": null,
            "overflow": null,
            "overflow_x": null,
            "overflow_y": null,
            "padding": null,
            "right": null,
            "top": null,
            "visibility": null,
            "width": null
          }
        },
        "569cb164049a40baa5491412dcd78f70": {
          "model_module": "@jupyter-widgets/controls",
          "model_name": "ProgressStyleModel",
          "model_module_version": "1.5.0",
          "state": {
            "_model_module": "@jupyter-widgets/controls",
            "_model_module_version": "1.5.0",
            "_model_name": "ProgressStyleModel",
            "_view_count": null,
            "_view_module": "@jupyter-widgets/base",
            "_view_module_version": "1.2.0",
            "_view_name": "StyleView",
            "bar_color": null,
            "description_width": ""
          }
        },
        "6a4f14db9b4144b2bc77d5447ec5b31b": {
          "model_module": "@jupyter-widgets/base",
          "model_name": "LayoutModel",
          "model_module_version": "1.2.0",
          "state": {
            "_model_module": "@jupyter-widgets/base",
            "_model_module_version": "1.2.0",
            "_model_name": "LayoutModel",
            "_view_count": null,
            "_view_module": "@jupyter-widgets/base",
            "_view_module_version": "1.2.0",
            "_view_name": "LayoutView",
            "align_content": null,
            "align_items": null,
            "align_self": null,
            "border": null,
            "bottom": null,
            "display": null,
            "flex": null,
            "flex_flow": null,
            "grid_area": null,
            "grid_auto_columns": null,
            "grid_auto_flow": null,
            "grid_auto_rows": null,
            "grid_column": null,
            "grid_gap": null,
            "grid_row": null,
            "grid_template_areas": null,
            "grid_template_columns": null,
            "grid_template_rows": null,
            "height": null,
            "justify_content": null,
            "justify_items": null,
            "left": null,
            "margin": null,
            "max_height": null,
            "max_width": null,
            "min_height": null,
            "min_width": null,
            "object_fit": null,
            "object_position": null,
            "order": null,
            "overflow": null,
            "overflow_x": null,
            "overflow_y": null,
            "padding": null,
            "right": null,
            "top": null,
            "visibility": null,
            "width": null
          }
        },
        "0416aed546d94d7fa604b0923a88c52a": {
          "model_module": "@jupyter-widgets/controls",
          "model_name": "DescriptionStyleModel",
          "model_module_version": "1.5.0",
          "state": {
            "_model_module": "@jupyter-widgets/controls",
            "_model_module_version": "1.5.0",
            "_model_name": "DescriptionStyleModel",
            "_view_count": null,
            "_view_module": "@jupyter-widgets/base",
            "_view_module_version": "1.2.0",
            "_view_name": "StyleView",
            "description_width": ""
          }
        },
        "8165b58a9a9446fd8bc63b93939dfd44": {
          "model_module": "@jupyter-widgets/controls",
          "model_name": "HBoxModel",
          "model_module_version": "1.5.0",
          "state": {
            "_dom_classes": [],
            "_model_module": "@jupyter-widgets/controls",
            "_model_module_version": "1.5.0",
            "_model_name": "HBoxModel",
            "_view_count": null,
            "_view_module": "@jupyter-widgets/controls",
            "_view_module_version": "1.5.0",
            "_view_name": "HBoxView",
            "box_style": "",
            "children": [
              "IPY_MODEL_65ae7c30a3434ae095f67deccd8011c3",
              "IPY_MODEL_4e3d0f0cdfdf4272b0188256ff6be1e8",
              "IPY_MODEL_88a82c97a0c04e9a914ec8a3a9179ac3"
            ],
            "layout": "IPY_MODEL_921e126f01774b8e91febd6cb761bb6c"
          }
        },
        "65ae7c30a3434ae095f67deccd8011c3": {
          "model_module": "@jupyter-widgets/controls",
          "model_name": "HTMLModel",
          "model_module_version": "1.5.0",
          "state": {
            "_dom_classes": [],
            "_model_module": "@jupyter-widgets/controls",
            "_model_module_version": "1.5.0",
            "_model_name": "HTMLModel",
            "_view_count": null,
            "_view_module": "@jupyter-widgets/controls",
            "_view_module_version": "1.5.0",
            "_view_name": "HTMLView",
            "description": "",
            "description_tooltip": null,
            "layout": "IPY_MODEL_a3d97c1f7180438c9afdeccd4513f9a5",
            "placeholder": "​",
            "style": "IPY_MODEL_7f7bffcb097147b9a1ef04e6f6e20680",
            "value": "Map: 100%"
          }
        },
        "4e3d0f0cdfdf4272b0188256ff6be1e8": {
          "model_module": "@jupyter-widgets/controls",
          "model_name": "FloatProgressModel",
          "model_module_version": "1.5.0",
          "state": {
            "_dom_classes": [],
            "_model_module": "@jupyter-widgets/controls",
            "_model_module_version": "1.5.0",
            "_model_name": "FloatProgressModel",
            "_view_count": null,
            "_view_module": "@jupyter-widgets/controls",
            "_view_module_version": "1.5.0",
            "_view_name": "ProgressView",
            "bar_style": "success",
            "description": "",
            "description_tooltip": null,
            "layout": "IPY_MODEL_91227ad96bcc4b73946a76e7ceec472d",
            "max": 1500,
            "min": 0,
            "orientation": "horizontal",
            "style": "IPY_MODEL_3c2843d7f2584b599a66fab376b3bade",
            "value": 1500
          }
        },
        "88a82c97a0c04e9a914ec8a3a9179ac3": {
          "model_module": "@jupyter-widgets/controls",
          "model_name": "HTMLModel",
          "model_module_version": "1.5.0",
          "state": {
            "_dom_classes": [],
            "_model_module": "@jupyter-widgets/controls",
            "_model_module_version": "1.5.0",
            "_model_name": "HTMLModel",
            "_view_count": null,
            "_view_module": "@jupyter-widgets/controls",
            "_view_module_version": "1.5.0",
            "_view_name": "HTMLView",
            "description": "",
            "description_tooltip": null,
            "layout": "IPY_MODEL_9334839004fd4553b20a485c1c43890d",
            "placeholder": "​",
            "style": "IPY_MODEL_64046e792256440c8f11efc41d58f2f8",
            "value": " 1500/1500 [00:04&lt;00:00, 357.78 examples/s]"
          }
        },
        "921e126f01774b8e91febd6cb761bb6c": {
          "model_module": "@jupyter-widgets/base",
          "model_name": "LayoutModel",
          "model_module_version": "1.2.0",
          "state": {
            "_model_module": "@jupyter-widgets/base",
            "_model_module_version": "1.2.0",
            "_model_name": "LayoutModel",
            "_view_count": null,
            "_view_module": "@jupyter-widgets/base",
            "_view_module_version": "1.2.0",
            "_view_name": "LayoutView",
            "align_content": null,
            "align_items": null,
            "align_self": null,
            "border": null,
            "bottom": null,
            "display": null,
            "flex": null,
            "flex_flow": null,
            "grid_area": null,
            "grid_auto_columns": null,
            "grid_auto_flow": null,
            "grid_auto_rows": null,
            "grid_column": null,
            "grid_gap": null,
            "grid_row": null,
            "grid_template_areas": null,
            "grid_template_columns": null,
            "grid_template_rows": null,
            "height": null,
            "justify_content": null,
            "justify_items": null,
            "left": null,
            "margin": null,
            "max_height": null,
            "max_width": null,
            "min_height": null,
            "min_width": null,
            "object_fit": null,
            "object_position": null,
            "order": null,
            "overflow": null,
            "overflow_x": null,
            "overflow_y": null,
            "padding": null,
            "right": null,
            "top": null,
            "visibility": null,
            "width": null
          }
        },
        "a3d97c1f7180438c9afdeccd4513f9a5": {
          "model_module": "@jupyter-widgets/base",
          "model_name": "LayoutModel",
          "model_module_version": "1.2.0",
          "state": {
            "_model_module": "@jupyter-widgets/base",
            "_model_module_version": "1.2.0",
            "_model_name": "LayoutModel",
            "_view_count": null,
            "_view_module": "@jupyter-widgets/base",
            "_view_module_version": "1.2.0",
            "_view_name": "LayoutView",
            "align_content": null,
            "align_items": null,
            "align_self": null,
            "border": null,
            "bottom": null,
            "display": null,
            "flex": null,
            "flex_flow": null,
            "grid_area": null,
            "grid_auto_columns": null,
            "grid_auto_flow": null,
            "grid_auto_rows": null,
            "grid_column": null,
            "grid_gap": null,
            "grid_row": null,
            "grid_template_areas": null,
            "grid_template_columns": null,
            "grid_template_rows": null,
            "height": null,
            "justify_content": null,
            "justify_items": null,
            "left": null,
            "margin": null,
            "max_height": null,
            "max_width": null,
            "min_height": null,
            "min_width": null,
            "object_fit": null,
            "object_position": null,
            "order": null,
            "overflow": null,
            "overflow_x": null,
            "overflow_y": null,
            "padding": null,
            "right": null,
            "top": null,
            "visibility": null,
            "width": null
          }
        },
        "7f7bffcb097147b9a1ef04e6f6e20680": {
          "model_module": "@jupyter-widgets/controls",
          "model_name": "DescriptionStyleModel",
          "model_module_version": "1.5.0",
          "state": {
            "_model_module": "@jupyter-widgets/controls",
            "_model_module_version": "1.5.0",
            "_model_name": "DescriptionStyleModel",
            "_view_count": null,
            "_view_module": "@jupyter-widgets/base",
            "_view_module_version": "1.2.0",
            "_view_name": "StyleView",
            "description_width": ""
          }
        },
        "91227ad96bcc4b73946a76e7ceec472d": {
          "model_module": "@jupyter-widgets/base",
          "model_name": "LayoutModel",
          "model_module_version": "1.2.0",
          "state": {
            "_model_module": "@jupyter-widgets/base",
            "_model_module_version": "1.2.0",
            "_model_name": "LayoutModel",
            "_view_count": null,
            "_view_module": "@jupyter-widgets/base",
            "_view_module_version": "1.2.0",
            "_view_name": "LayoutView",
            "align_content": null,
            "align_items": null,
            "align_self": null,
            "border": null,
            "bottom": null,
            "display": null,
            "flex": null,
            "flex_flow": null,
            "grid_area": null,
            "grid_auto_columns": null,
            "grid_auto_flow": null,
            "grid_auto_rows": null,
            "grid_column": null,
            "grid_gap": null,
            "grid_row": null,
            "grid_template_areas": null,
            "grid_template_columns": null,
            "grid_template_rows": null,
            "height": null,
            "justify_content": null,
            "justify_items": null,
            "left": null,
            "margin": null,
            "max_height": null,
            "max_width": null,
            "min_height": null,
            "min_width": null,
            "object_fit": null,
            "object_position": null,
            "order": null,
            "overflow": null,
            "overflow_x": null,
            "overflow_y": null,
            "padding": null,
            "right": null,
            "top": null,
            "visibility": null,
            "width": null
          }
        },
        "3c2843d7f2584b599a66fab376b3bade": {
          "model_module": "@jupyter-widgets/controls",
          "model_name": "ProgressStyleModel",
          "model_module_version": "1.5.0",
          "state": {
            "_model_module": "@jupyter-widgets/controls",
            "_model_module_version": "1.5.0",
            "_model_name": "ProgressStyleModel",
            "_view_count": null,
            "_view_module": "@jupyter-widgets/base",
            "_view_module_version": "1.2.0",
            "_view_name": "StyleView",
            "bar_color": null,
            "description_width": ""
          }
        },
        "9334839004fd4553b20a485c1c43890d": {
          "model_module": "@jupyter-widgets/base",
          "model_name": "LayoutModel",
          "model_module_version": "1.2.0",
          "state": {
            "_model_module": "@jupyter-widgets/base",
            "_model_module_version": "1.2.0",
            "_model_name": "LayoutModel",
            "_view_count": null,
            "_view_module": "@jupyter-widgets/base",
            "_view_module_version": "1.2.0",
            "_view_name": "LayoutView",
            "align_content": null,
            "align_items": null,
            "align_self": null,
            "border": null,
            "bottom": null,
            "display": null,
            "flex": null,
            "flex_flow": null,
            "grid_area": null,
            "grid_auto_columns": null,
            "grid_auto_flow": null,
            "grid_auto_rows": null,
            "grid_column": null,
            "grid_gap": null,
            "grid_row": null,
            "grid_template_areas": null,
            "grid_template_columns": null,
            "grid_template_rows": null,
            "height": null,
            "justify_content": null,
            "justify_items": null,
            "left": null,
            "margin": null,
            "max_height": null,
            "max_width": null,
            "min_height": null,
            "min_width": null,
            "object_fit": null,
            "object_position": null,
            "order": null,
            "overflow": null,
            "overflow_x": null,
            "overflow_y": null,
            "padding": null,
            "right": null,
            "top": null,
            "visibility": null,
            "width": null
          }
        },
        "64046e792256440c8f11efc41d58f2f8": {
          "model_module": "@jupyter-widgets/controls",
          "model_name": "DescriptionStyleModel",
          "model_module_version": "1.5.0",
          "state": {
            "_model_module": "@jupyter-widgets/controls",
            "_model_module_version": "1.5.0",
            "_model_name": "DescriptionStyleModel",
            "_view_count": null,
            "_view_module": "@jupyter-widgets/base",
            "_view_module_version": "1.2.0",
            "_view_name": "StyleView",
            "description_width": ""
          }
        },
        "6dc21624c1a74be18fee2181cd0b0f41": {
          "model_module": "@jupyter-widgets/controls",
          "model_name": "HBoxModel",
          "model_module_version": "1.5.0",
          "state": {
            "_dom_classes": [],
            "_model_module": "@jupyter-widgets/controls",
            "_model_module_version": "1.5.0",
            "_model_name": "HBoxModel",
            "_view_count": null,
            "_view_module": "@jupyter-widgets/controls",
            "_view_module_version": "1.5.0",
            "_view_name": "HBoxView",
            "box_style": "",
            "children": [
              "IPY_MODEL_4747d29abf47482e861161bcfe791882",
              "IPY_MODEL_6e63441130094afcac3e0fbeeaf36cae",
              "IPY_MODEL_2be85816dc8841f4ac51652d7706e5e0"
            ],
            "layout": "IPY_MODEL_57f59aa2fc694cfb97c18c0a28e21d9d"
          }
        },
        "4747d29abf47482e861161bcfe791882": {
          "model_module": "@jupyter-widgets/controls",
          "model_name": "HTMLModel",
          "model_module_version": "1.5.0",
          "state": {
            "_dom_classes": [],
            "_model_module": "@jupyter-widgets/controls",
            "_model_module_version": "1.5.0",
            "_model_name": "HTMLModel",
            "_view_count": null,
            "_view_module": "@jupyter-widgets/controls",
            "_view_module_version": "1.5.0",
            "_view_name": "HTMLView",
            "description": "",
            "description_tooltip": null,
            "layout": "IPY_MODEL_87b3eff0bdab475fade7b664d4b7158c",
            "placeholder": "​",
            "style": "IPY_MODEL_e389a997bf45478298f5c027c4d77904",
            "value": "Filter: 100%"
          }
        },
        "6e63441130094afcac3e0fbeeaf36cae": {
          "model_module": "@jupyter-widgets/controls",
          "model_name": "FloatProgressModel",
          "model_module_version": "1.5.0",
          "state": {
            "_dom_classes": [],
            "_model_module": "@jupyter-widgets/controls",
            "_model_module_version": "1.5.0",
            "_model_name": "FloatProgressModel",
            "_view_count": null,
            "_view_module": "@jupyter-widgets/controls",
            "_view_module_version": "1.5.0",
            "_view_name": "ProgressView",
            "bar_style": "success",
            "description": "",
            "description_tooltip": null,
            "layout": "IPY_MODEL_039257f08d7741cb9c729d156551928c",
            "max": 12460,
            "min": 0,
            "orientation": "horizontal",
            "style": "IPY_MODEL_7804d87db7834545bc17c5604cd98732",
            "value": 12460
          }
        },
        "2be85816dc8841f4ac51652d7706e5e0": {
          "model_module": "@jupyter-widgets/controls",
          "model_name": "HTMLModel",
          "model_module_version": "1.5.0",
          "state": {
            "_dom_classes": [],
            "_model_module": "@jupyter-widgets/controls",
            "_model_module_version": "1.5.0",
            "_model_name": "HTMLModel",
            "_view_count": null,
            "_view_module": "@jupyter-widgets/controls",
            "_view_module_version": "1.5.0",
            "_view_name": "HTMLView",
            "description": "",
            "description_tooltip": null,
            "layout": "IPY_MODEL_29946fd1bf764ae2a9d3c4d7632006a7",
            "placeholder": "​",
            "style": "IPY_MODEL_5ac72035317445bb9e024ab126e14286",
            "value": " 12460/12460 [00:14&lt;00:00, 832.41 examples/s]"
          }
        },
        "57f59aa2fc694cfb97c18c0a28e21d9d": {
          "model_module": "@jupyter-widgets/base",
          "model_name": "LayoutModel",
          "model_module_version": "1.2.0",
          "state": {
            "_model_module": "@jupyter-widgets/base",
            "_model_module_version": "1.2.0",
            "_model_name": "LayoutModel",
            "_view_count": null,
            "_view_module": "@jupyter-widgets/base",
            "_view_module_version": "1.2.0",
            "_view_name": "LayoutView",
            "align_content": null,
            "align_items": null,
            "align_self": null,
            "border": null,
            "bottom": null,
            "display": null,
            "flex": null,
            "flex_flow": null,
            "grid_area": null,
            "grid_auto_columns": null,
            "grid_auto_flow": null,
            "grid_auto_rows": null,
            "grid_column": null,
            "grid_gap": null,
            "grid_row": null,
            "grid_template_areas": null,
            "grid_template_columns": null,
            "grid_template_rows": null,
            "height": null,
            "justify_content": null,
            "justify_items": null,
            "left": null,
            "margin": null,
            "max_height": null,
            "max_width": null,
            "min_height": null,
            "min_width": null,
            "object_fit": null,
            "object_position": null,
            "order": null,
            "overflow": null,
            "overflow_x": null,
            "overflow_y": null,
            "padding": null,
            "right": null,
            "top": null,
            "visibility": null,
            "width": null
          }
        },
        "87b3eff0bdab475fade7b664d4b7158c": {
          "model_module": "@jupyter-widgets/base",
          "model_name": "LayoutModel",
          "model_module_version": "1.2.0",
          "state": {
            "_model_module": "@jupyter-widgets/base",
            "_model_module_version": "1.2.0",
            "_model_name": "LayoutModel",
            "_view_count": null,
            "_view_module": "@jupyter-widgets/base",
            "_view_module_version": "1.2.0",
            "_view_name": "LayoutView",
            "align_content": null,
            "align_items": null,
            "align_self": null,
            "border": null,
            "bottom": null,
            "display": null,
            "flex": null,
            "flex_flow": null,
            "grid_area": null,
            "grid_auto_columns": null,
            "grid_auto_flow": null,
            "grid_auto_rows": null,
            "grid_column": null,
            "grid_gap": null,
            "grid_row": null,
            "grid_template_areas": null,
            "grid_template_columns": null,
            "grid_template_rows": null,
            "height": null,
            "justify_content": null,
            "justify_items": null,
            "left": null,
            "margin": null,
            "max_height": null,
            "max_width": null,
            "min_height": null,
            "min_width": null,
            "object_fit": null,
            "object_position": null,
            "order": null,
            "overflow": null,
            "overflow_x": null,
            "overflow_y": null,
            "padding": null,
            "right": null,
            "top": null,
            "visibility": null,
            "width": null
          }
        },
        "e389a997bf45478298f5c027c4d77904": {
          "model_module": "@jupyter-widgets/controls",
          "model_name": "DescriptionStyleModel",
          "model_module_version": "1.5.0",
          "state": {
            "_model_module": "@jupyter-widgets/controls",
            "_model_module_version": "1.5.0",
            "_model_name": "DescriptionStyleModel",
            "_view_count": null,
            "_view_module": "@jupyter-widgets/base",
            "_view_module_version": "1.2.0",
            "_view_name": "StyleView",
            "description_width": ""
          }
        },
        "039257f08d7741cb9c729d156551928c": {
          "model_module": "@jupyter-widgets/base",
          "model_name": "LayoutModel",
          "model_module_version": "1.2.0",
          "state": {
            "_model_module": "@jupyter-widgets/base",
            "_model_module_version": "1.2.0",
            "_model_name": "LayoutModel",
            "_view_count": null,
            "_view_module": "@jupyter-widgets/base",
            "_view_module_version": "1.2.0",
            "_view_name": "LayoutView",
            "align_content": null,
            "align_items": null,
            "align_self": null,
            "border": null,
            "bottom": null,
            "display": null,
            "flex": null,
            "flex_flow": null,
            "grid_area": null,
            "grid_auto_columns": null,
            "grid_auto_flow": null,
            "grid_auto_rows": null,
            "grid_column": null,
            "grid_gap": null,
            "grid_row": null,
            "grid_template_areas": null,
            "grid_template_columns": null,
            "grid_template_rows": null,
            "height": null,
            "justify_content": null,
            "justify_items": null,
            "left": null,
            "margin": null,
            "max_height": null,
            "max_width": null,
            "min_height": null,
            "min_width": null,
            "object_fit": null,
            "object_position": null,
            "order": null,
            "overflow": null,
            "overflow_x": null,
            "overflow_y": null,
            "padding": null,
            "right": null,
            "top": null,
            "visibility": null,
            "width": null
          }
        },
        "7804d87db7834545bc17c5604cd98732": {
          "model_module": "@jupyter-widgets/controls",
          "model_name": "ProgressStyleModel",
          "model_module_version": "1.5.0",
          "state": {
            "_model_module": "@jupyter-widgets/controls",
            "_model_module_version": "1.5.0",
            "_model_name": "ProgressStyleModel",
            "_view_count": null,
            "_view_module": "@jupyter-widgets/base",
            "_view_module_version": "1.2.0",
            "_view_name": "StyleView",
            "bar_color": null,
            "description_width": ""
          }
        },
        "29946fd1bf764ae2a9d3c4d7632006a7": {
          "model_module": "@jupyter-widgets/base",
          "model_name": "LayoutModel",
          "model_module_version": "1.2.0",
          "state": {
            "_model_module": "@jupyter-widgets/base",
            "_model_module_version": "1.2.0",
            "_model_name": "LayoutModel",
            "_view_count": null,
            "_view_module": "@jupyter-widgets/base",
            "_view_module_version": "1.2.0",
            "_view_name": "LayoutView",
            "align_content": null,
            "align_items": null,
            "align_self": null,
            "border": null,
            "bottom": null,
            "display": null,
            "flex": null,
            "flex_flow": null,
            "grid_area": null,
            "grid_auto_columns": null,
            "grid_auto_flow": null,
            "grid_auto_rows": null,
            "grid_column": null,
            "grid_gap": null,
            "grid_row": null,
            "grid_template_areas": null,
            "grid_template_columns": null,
            "grid_template_rows": null,
            "height": null,
            "justify_content": null,
            "justify_items": null,
            "left": null,
            "margin": null,
            "max_height": null,
            "max_width": null,
            "min_height": null,
            "min_width": null,
            "object_fit": null,
            "object_position": null,
            "order": null,
            "overflow": null,
            "overflow_x": null,
            "overflow_y": null,
            "padding": null,
            "right": null,
            "top": null,
            "visibility": null,
            "width": null
          }
        },
        "5ac72035317445bb9e024ab126e14286": {
          "model_module": "@jupyter-widgets/controls",
          "model_name": "DescriptionStyleModel",
          "model_module_version": "1.5.0",
          "state": {
            "_model_module": "@jupyter-widgets/controls",
            "_model_module_version": "1.5.0",
            "_model_name": "DescriptionStyleModel",
            "_view_count": null,
            "_view_module": "@jupyter-widgets/base",
            "_view_module_version": "1.2.0",
            "_view_name": "StyleView",
            "description_width": ""
          }
        },
        "79e402b74a48468f83339ee33c30f8ea": {
          "model_module": "@jupyter-widgets/controls",
          "model_name": "HBoxModel",
          "model_module_version": "1.5.0",
          "state": {
            "_dom_classes": [],
            "_model_module": "@jupyter-widgets/controls",
            "_model_module_version": "1.5.0",
            "_model_name": "HBoxModel",
            "_view_count": null,
            "_view_module": "@jupyter-widgets/controls",
            "_view_module_version": "1.5.0",
            "_view_name": "HBoxView",
            "box_style": "",
            "children": [
              "IPY_MODEL_721a935f50b34b4a9ac4a81430c668c7",
              "IPY_MODEL_1d42c0c5c06340528e2f68131d2ac392",
              "IPY_MODEL_4115b47b8b944040babfc031cc9a86c8"
            ],
            "layout": "IPY_MODEL_4e06fa3efe7c4ff282491b54e4f67d1a"
          }
        },
        "721a935f50b34b4a9ac4a81430c668c7": {
          "model_module": "@jupyter-widgets/controls",
          "model_name": "HTMLModel",
          "model_module_version": "1.5.0",
          "state": {
            "_dom_classes": [],
            "_model_module": "@jupyter-widgets/controls",
            "_model_module_version": "1.5.0",
            "_model_name": "HTMLModel",
            "_view_count": null,
            "_view_module": "@jupyter-widgets/controls",
            "_view_module_version": "1.5.0",
            "_view_name": "HTMLView",
            "description": "",
            "description_tooltip": null,
            "layout": "IPY_MODEL_4ffa396c7117444289d0eabd94871def",
            "placeholder": "​",
            "style": "IPY_MODEL_83c9a5a50e3c4d4494c5c4aad55fdbc1",
            "value": "Filter: 100%"
          }
        },
        "1d42c0c5c06340528e2f68131d2ac392": {
          "model_module": "@jupyter-widgets/controls",
          "model_name": "FloatProgressModel",
          "model_module_version": "1.5.0",
          "state": {
            "_dom_classes": [],
            "_model_module": "@jupyter-widgets/controls",
            "_model_module_version": "1.5.0",
            "_model_name": "FloatProgressModel",
            "_view_count": null,
            "_view_module": "@jupyter-widgets/controls",
            "_view_module_version": "1.5.0",
            "_view_name": "ProgressView",
            "bar_style": "success",
            "description": "",
            "description_tooltip": null,
            "layout": "IPY_MODEL_4065e471fe6248108de5b5c941bee926",
            "max": 500,
            "min": 0,
            "orientation": "horizontal",
            "style": "IPY_MODEL_0cf1731f98384598affe4509209d50c1",
            "value": 500
          }
        },
        "4115b47b8b944040babfc031cc9a86c8": {
          "model_module": "@jupyter-widgets/controls",
          "model_name": "HTMLModel",
          "model_module_version": "1.5.0",
          "state": {
            "_dom_classes": [],
            "_model_module": "@jupyter-widgets/controls",
            "_model_module_version": "1.5.0",
            "_model_name": "HTMLModel",
            "_view_count": null,
            "_view_module": "@jupyter-widgets/controls",
            "_view_module_version": "1.5.0",
            "_view_name": "HTMLView",
            "description": "",
            "description_tooltip": null,
            "layout": "IPY_MODEL_7102a7960076405abf41c5e085fd06fc",
            "placeholder": "​",
            "style": "IPY_MODEL_13666f28aca64e268fedd5c5e64790b0",
            "value": " 500/500 [00:00&lt;00:00, 1005.11 examples/s]"
          }
        },
        "4e06fa3efe7c4ff282491b54e4f67d1a": {
          "model_module": "@jupyter-widgets/base",
          "model_name": "LayoutModel",
          "model_module_version": "1.2.0",
          "state": {
            "_model_module": "@jupyter-widgets/base",
            "_model_module_version": "1.2.0",
            "_model_name": "LayoutModel",
            "_view_count": null,
            "_view_module": "@jupyter-widgets/base",
            "_view_module_version": "1.2.0",
            "_view_name": "LayoutView",
            "align_content": null,
            "align_items": null,
            "align_self": null,
            "border": null,
            "bottom": null,
            "display": null,
            "flex": null,
            "flex_flow": null,
            "grid_area": null,
            "grid_auto_columns": null,
            "grid_auto_flow": null,
            "grid_auto_rows": null,
            "grid_column": null,
            "grid_gap": null,
            "grid_row": null,
            "grid_template_areas": null,
            "grid_template_columns": null,
            "grid_template_rows": null,
            "height": null,
            "justify_content": null,
            "justify_items": null,
            "left": null,
            "margin": null,
            "max_height": null,
            "max_width": null,
            "min_height": null,
            "min_width": null,
            "object_fit": null,
            "object_position": null,
            "order": null,
            "overflow": null,
            "overflow_x": null,
            "overflow_y": null,
            "padding": null,
            "right": null,
            "top": null,
            "visibility": null,
            "width": null
          }
        },
        "4ffa396c7117444289d0eabd94871def": {
          "model_module": "@jupyter-widgets/base",
          "model_name": "LayoutModel",
          "model_module_version": "1.2.0",
          "state": {
            "_model_module": "@jupyter-widgets/base",
            "_model_module_version": "1.2.0",
            "_model_name": "LayoutModel",
            "_view_count": null,
            "_view_module": "@jupyter-widgets/base",
            "_view_module_version": "1.2.0",
            "_view_name": "LayoutView",
            "align_content": null,
            "align_items": null,
            "align_self": null,
            "border": null,
            "bottom": null,
            "display": null,
            "flex": null,
            "flex_flow": null,
            "grid_area": null,
            "grid_auto_columns": null,
            "grid_auto_flow": null,
            "grid_auto_rows": null,
            "grid_column": null,
            "grid_gap": null,
            "grid_row": null,
            "grid_template_areas": null,
            "grid_template_columns": null,
            "grid_template_rows": null,
            "height": null,
            "justify_content": null,
            "justify_items": null,
            "left": null,
            "margin": null,
            "max_height": null,
            "max_width": null,
            "min_height": null,
            "min_width": null,
            "object_fit": null,
            "object_position": null,
            "order": null,
            "overflow": null,
            "overflow_x": null,
            "overflow_y": null,
            "padding": null,
            "right": null,
            "top": null,
            "visibility": null,
            "width": null
          }
        },
        "83c9a5a50e3c4d4494c5c4aad55fdbc1": {
          "model_module": "@jupyter-widgets/controls",
          "model_name": "DescriptionStyleModel",
          "model_module_version": "1.5.0",
          "state": {
            "_model_module": "@jupyter-widgets/controls",
            "_model_module_version": "1.5.0",
            "_model_name": "DescriptionStyleModel",
            "_view_count": null,
            "_view_module": "@jupyter-widgets/base",
            "_view_module_version": "1.2.0",
            "_view_name": "StyleView",
            "description_width": ""
          }
        },
        "4065e471fe6248108de5b5c941bee926": {
          "model_module": "@jupyter-widgets/base",
          "model_name": "LayoutModel",
          "model_module_version": "1.2.0",
          "state": {
            "_model_module": "@jupyter-widgets/base",
            "_model_module_version": "1.2.0",
            "_model_name": "LayoutModel",
            "_view_count": null,
            "_view_module": "@jupyter-widgets/base",
            "_view_module_version": "1.2.0",
            "_view_name": "LayoutView",
            "align_content": null,
            "align_items": null,
            "align_self": null,
            "border": null,
            "bottom": null,
            "display": null,
            "flex": null,
            "flex_flow": null,
            "grid_area": null,
            "grid_auto_columns": null,
            "grid_auto_flow": null,
            "grid_auto_rows": null,
            "grid_column": null,
            "grid_gap": null,
            "grid_row": null,
            "grid_template_areas": null,
            "grid_template_columns": null,
            "grid_template_rows": null,
            "height": null,
            "justify_content": null,
            "justify_items": null,
            "left": null,
            "margin": null,
            "max_height": null,
            "max_width": null,
            "min_height": null,
            "min_width": null,
            "object_fit": null,
            "object_position": null,
            "order": null,
            "overflow": null,
            "overflow_x": null,
            "overflow_y": null,
            "padding": null,
            "right": null,
            "top": null,
            "visibility": null,
            "width": null
          }
        },
        "0cf1731f98384598affe4509209d50c1": {
          "model_module": "@jupyter-widgets/controls",
          "model_name": "ProgressStyleModel",
          "model_module_version": "1.5.0",
          "state": {
            "_model_module": "@jupyter-widgets/controls",
            "_model_module_version": "1.5.0",
            "_model_name": "ProgressStyleModel",
            "_view_count": null,
            "_view_module": "@jupyter-widgets/base",
            "_view_module_version": "1.2.0",
            "_view_name": "StyleView",
            "bar_color": null,
            "description_width": ""
          }
        },
        "7102a7960076405abf41c5e085fd06fc": {
          "model_module": "@jupyter-widgets/base",
          "model_name": "LayoutModel",
          "model_module_version": "1.2.0",
          "state": {
            "_model_module": "@jupyter-widgets/base",
            "_model_module_version": "1.2.0",
            "_model_name": "LayoutModel",
            "_view_count": null,
            "_view_module": "@jupyter-widgets/base",
            "_view_module_version": "1.2.0",
            "_view_name": "LayoutView",
            "align_content": null,
            "align_items": null,
            "align_self": null,
            "border": null,
            "bottom": null,
            "display": null,
            "flex": null,
            "flex_flow": null,
            "grid_area": null,
            "grid_auto_columns": null,
            "grid_auto_flow": null,
            "grid_auto_rows": null,
            "grid_column": null,
            "grid_gap": null,
            "grid_row": null,
            "grid_template_areas": null,
            "grid_template_columns": null,
            "grid_template_rows": null,
            "height": null,
            "justify_content": null,
            "justify_items": null,
            "left": null,
            "margin": null,
            "max_height": null,
            "max_width": null,
            "min_height": null,
            "min_width": null,
            "object_fit": null,
            "object_position": null,
            "order": null,
            "overflow": null,
            "overflow_x": null,
            "overflow_y": null,
            "padding": null,
            "right": null,
            "top": null,
            "visibility": null,
            "width": null
          }
        },
        "13666f28aca64e268fedd5c5e64790b0": {
          "model_module": "@jupyter-widgets/controls",
          "model_name": "DescriptionStyleModel",
          "model_module_version": "1.5.0",
          "state": {
            "_model_module": "@jupyter-widgets/controls",
            "_model_module_version": "1.5.0",
            "_model_name": "DescriptionStyleModel",
            "_view_count": null,
            "_view_module": "@jupyter-widgets/base",
            "_view_module_version": "1.2.0",
            "_view_name": "StyleView",
            "description_width": ""
          }
        },
        "111b6b9d7ebd431daca67491646617b6": {
          "model_module": "@jupyter-widgets/controls",
          "model_name": "HBoxModel",
          "model_module_version": "1.5.0",
          "state": {
            "_dom_classes": [],
            "_model_module": "@jupyter-widgets/controls",
            "_model_module_version": "1.5.0",
            "_model_name": "HBoxModel",
            "_view_count": null,
            "_view_module": "@jupyter-widgets/controls",
            "_view_module_version": "1.5.0",
            "_view_name": "HBoxView",
            "box_style": "",
            "children": [
              "IPY_MODEL_cbcecd9b234844e092808e1eb00678a5",
              "IPY_MODEL_0e7c1794d7b74022b70b518d4f38c27d",
              "IPY_MODEL_2b84db0c28fa41449f5aa34507140a83"
            ],
            "layout": "IPY_MODEL_681b5d810055457bb159f9eb4263c24a"
          }
        },
        "cbcecd9b234844e092808e1eb00678a5": {
          "model_module": "@jupyter-widgets/controls",
          "model_name": "HTMLModel",
          "model_module_version": "1.5.0",
          "state": {
            "_dom_classes": [],
            "_model_module": "@jupyter-widgets/controls",
            "_model_module_version": "1.5.0",
            "_model_name": "HTMLModel",
            "_view_count": null,
            "_view_module": "@jupyter-widgets/controls",
            "_view_module_version": "1.5.0",
            "_view_name": "HTMLView",
            "description": "",
            "description_tooltip": null,
            "layout": "IPY_MODEL_761a7b2f3e904d4bb3652387bc3d3878",
            "placeholder": "​",
            "style": "IPY_MODEL_838d0021af00477d9bbb06bad93e4d25",
            "value": "Filter: 100%"
          }
        },
        "0e7c1794d7b74022b70b518d4f38c27d": {
          "model_module": "@jupyter-widgets/controls",
          "model_name": "FloatProgressModel",
          "model_module_version": "1.5.0",
          "state": {
            "_dom_classes": [],
            "_model_module": "@jupyter-widgets/controls",
            "_model_module_version": "1.5.0",
            "_model_name": "FloatProgressModel",
            "_view_count": null,
            "_view_module": "@jupyter-widgets/controls",
            "_view_module_version": "1.5.0",
            "_view_name": "ProgressView",
            "bar_style": "success",
            "description": "",
            "description_tooltip": null,
            "layout": "IPY_MODEL_1134feffd1f14052b96dd3366e6c882b",
            "max": 1500,
            "min": 0,
            "orientation": "horizontal",
            "style": "IPY_MODEL_4c824e4a80484067a9612e87ed482b7f",
            "value": 1500
          }
        },
        "2b84db0c28fa41449f5aa34507140a83": {
          "model_module": "@jupyter-widgets/controls",
          "model_name": "HTMLModel",
          "model_module_version": "1.5.0",
          "state": {
            "_dom_classes": [],
            "_model_module": "@jupyter-widgets/controls",
            "_model_module_version": "1.5.0",
            "_model_name": "HTMLModel",
            "_view_count": null,
            "_view_module": "@jupyter-widgets/controls",
            "_view_module_version": "1.5.0",
            "_view_name": "HTMLView",
            "description": "",
            "description_tooltip": null,
            "layout": "IPY_MODEL_025d6bc896f04a3f88c048e176c119bd",
            "placeholder": "​",
            "style": "IPY_MODEL_0f6b0123522d442ba6fc1a6cc4acc853",
            "value": " 1500/1500 [00:01&lt;00:00, 868.17 examples/s]"
          }
        },
        "681b5d810055457bb159f9eb4263c24a": {
          "model_module": "@jupyter-widgets/base",
          "model_name": "LayoutModel",
          "model_module_version": "1.2.0",
          "state": {
            "_model_module": "@jupyter-widgets/base",
            "_model_module_version": "1.2.0",
            "_model_name": "LayoutModel",
            "_view_count": null,
            "_view_module": "@jupyter-widgets/base",
            "_view_module_version": "1.2.0",
            "_view_name": "LayoutView",
            "align_content": null,
            "align_items": null,
            "align_self": null,
            "border": null,
            "bottom": null,
            "display": null,
            "flex": null,
            "flex_flow": null,
            "grid_area": null,
            "grid_auto_columns": null,
            "grid_auto_flow": null,
            "grid_auto_rows": null,
            "grid_column": null,
            "grid_gap": null,
            "grid_row": null,
            "grid_template_areas": null,
            "grid_template_columns": null,
            "grid_template_rows": null,
            "height": null,
            "justify_content": null,
            "justify_items": null,
            "left": null,
            "margin": null,
            "max_height": null,
            "max_width": null,
            "min_height": null,
            "min_width": null,
            "object_fit": null,
            "object_position": null,
            "order": null,
            "overflow": null,
            "overflow_x": null,
            "overflow_y": null,
            "padding": null,
            "right": null,
            "top": null,
            "visibility": null,
            "width": null
          }
        },
        "761a7b2f3e904d4bb3652387bc3d3878": {
          "model_module": "@jupyter-widgets/base",
          "model_name": "LayoutModel",
          "model_module_version": "1.2.0",
          "state": {
            "_model_module": "@jupyter-widgets/base",
            "_model_module_version": "1.2.0",
            "_model_name": "LayoutModel",
            "_view_count": null,
            "_view_module": "@jupyter-widgets/base",
            "_view_module_version": "1.2.0",
            "_view_name": "LayoutView",
            "align_content": null,
            "align_items": null,
            "align_self": null,
            "border": null,
            "bottom": null,
            "display": null,
            "flex": null,
            "flex_flow": null,
            "grid_area": null,
            "grid_auto_columns": null,
            "grid_auto_flow": null,
            "grid_auto_rows": null,
            "grid_column": null,
            "grid_gap": null,
            "grid_row": null,
            "grid_template_areas": null,
            "grid_template_columns": null,
            "grid_template_rows": null,
            "height": null,
            "justify_content": null,
            "justify_items": null,
            "left": null,
            "margin": null,
            "max_height": null,
            "max_width": null,
            "min_height": null,
            "min_width": null,
            "object_fit": null,
            "object_position": null,
            "order": null,
            "overflow": null,
            "overflow_x": null,
            "overflow_y": null,
            "padding": null,
            "right": null,
            "top": null,
            "visibility": null,
            "width": null
          }
        },
        "838d0021af00477d9bbb06bad93e4d25": {
          "model_module": "@jupyter-widgets/controls",
          "model_name": "DescriptionStyleModel",
          "model_module_version": "1.5.0",
          "state": {
            "_model_module": "@jupyter-widgets/controls",
            "_model_module_version": "1.5.0",
            "_model_name": "DescriptionStyleModel",
            "_view_count": null,
            "_view_module": "@jupyter-widgets/base",
            "_view_module_version": "1.2.0",
            "_view_name": "StyleView",
            "description_width": ""
          }
        },
        "1134feffd1f14052b96dd3366e6c882b": {
          "model_module": "@jupyter-widgets/base",
          "model_name": "LayoutModel",
          "model_module_version": "1.2.0",
          "state": {
            "_model_module": "@jupyter-widgets/base",
            "_model_module_version": "1.2.0",
            "_model_name": "LayoutModel",
            "_view_count": null,
            "_view_module": "@jupyter-widgets/base",
            "_view_module_version": "1.2.0",
            "_view_name": "LayoutView",
            "align_content": null,
            "align_items": null,
            "align_self": null,
            "border": null,
            "bottom": null,
            "display": null,
            "flex": null,
            "flex_flow": null,
            "grid_area": null,
            "grid_auto_columns": null,
            "grid_auto_flow": null,
            "grid_auto_rows": null,
            "grid_column": null,
            "grid_gap": null,
            "grid_row": null,
            "grid_template_areas": null,
            "grid_template_columns": null,
            "grid_template_rows": null,
            "height": null,
            "justify_content": null,
            "justify_items": null,
            "left": null,
            "margin": null,
            "max_height": null,
            "max_width": null,
            "min_height": null,
            "min_width": null,
            "object_fit": null,
            "object_position": null,
            "order": null,
            "overflow": null,
            "overflow_x": null,
            "overflow_y": null,
            "padding": null,
            "right": null,
            "top": null,
            "visibility": null,
            "width": null
          }
        },
        "4c824e4a80484067a9612e87ed482b7f": {
          "model_module": "@jupyter-widgets/controls",
          "model_name": "ProgressStyleModel",
          "model_module_version": "1.5.0",
          "state": {
            "_model_module": "@jupyter-widgets/controls",
            "_model_module_version": "1.5.0",
            "_model_name": "ProgressStyleModel",
            "_view_count": null,
            "_view_module": "@jupyter-widgets/base",
            "_view_module_version": "1.2.0",
            "_view_name": "StyleView",
            "bar_color": null,
            "description_width": ""
          }
        },
        "025d6bc896f04a3f88c048e176c119bd": {
          "model_module": "@jupyter-widgets/base",
          "model_name": "LayoutModel",
          "model_module_version": "1.2.0",
          "state": {
            "_model_module": "@jupyter-widgets/base",
            "_model_module_version": "1.2.0",
            "_model_name": "LayoutModel",
            "_view_count": null,
            "_view_module": "@jupyter-widgets/base",
            "_view_module_version": "1.2.0",
            "_view_name": "LayoutView",
            "align_content": null,
            "align_items": null,
            "align_self": null,
            "border": null,
            "bottom": null,
            "display": null,
            "flex": null,
            "flex_flow": null,
            "grid_area": null,
            "grid_auto_columns": null,
            "grid_auto_flow": null,
            "grid_auto_rows": null,
            "grid_column": null,
            "grid_gap": null,
            "grid_row": null,
            "grid_template_areas": null,
            "grid_template_columns": null,
            "grid_template_rows": null,
            "height": null,
            "justify_content": null,
            "justify_items": null,
            "left": null,
            "margin": null,
            "max_height": null,
            "max_width": null,
            "min_height": null,
            "min_width": null,
            "object_fit": null,
            "object_position": null,
            "order": null,
            "overflow": null,
            "overflow_x": null,
            "overflow_y": null,
            "padding": null,
            "right": null,
            "top": null,
            "visibility": null,
            "width": null
          }
        },
        "0f6b0123522d442ba6fc1a6cc4acc853": {
          "model_module": "@jupyter-widgets/controls",
          "model_name": "DescriptionStyleModel",
          "model_module_version": "1.5.0",
          "state": {
            "_model_module": "@jupyter-widgets/controls",
            "_model_module_version": "1.5.0",
            "_model_name": "DescriptionStyleModel",
            "_view_count": null,
            "_view_module": "@jupyter-widgets/base",
            "_view_module_version": "1.2.0",
            "_view_name": "StyleView",
            "description_width": ""
          }
        },
        "f16c2cbeaaef437eb36df4bb9d159dd6": {
          "model_module": "@jupyter-widgets/controls",
          "model_name": "HBoxModel",
          "model_module_version": "1.5.0",
          "state": {
            "_dom_classes": [],
            "_model_module": "@jupyter-widgets/controls",
            "_model_module_version": "1.5.0",
            "_model_name": "HBoxModel",
            "_view_count": null,
            "_view_module": "@jupyter-widgets/controls",
            "_view_module_version": "1.5.0",
            "_view_name": "HBoxView",
            "box_style": "",
            "children": [
              "IPY_MODEL_fe971995fac74d5984f47cd21c519fde",
              "IPY_MODEL_5f9d5c711f384f959142a21a0fe9860a",
              "IPY_MODEL_13fa2678ada04b1e9aff5141728df21f"
            ],
            "layout": "IPY_MODEL_b95d493aaeb1471aa504c92716badba6"
          }
        },
        "fe971995fac74d5984f47cd21c519fde": {
          "model_module": "@jupyter-widgets/controls",
          "model_name": "HTMLModel",
          "model_module_version": "1.5.0",
          "state": {
            "_dom_classes": [],
            "_model_module": "@jupyter-widgets/controls",
            "_model_module_version": "1.5.0",
            "_model_name": "HTMLModel",
            "_view_count": null,
            "_view_module": "@jupyter-widgets/controls",
            "_view_module_version": "1.5.0",
            "_view_name": "HTMLView",
            "description": "",
            "description_tooltip": null,
            "layout": "IPY_MODEL_0542b6b5d2c64ae3a5dc4ca0c3239f78",
            "placeholder": "​",
            "style": "IPY_MODEL_e775a6cc7c434dbfb2bc91197dd3a55a",
            "value": "Downloading builder script: 100%"
          }
        },
        "5f9d5c711f384f959142a21a0fe9860a": {
          "model_module": "@jupyter-widgets/controls",
          "model_name": "FloatProgressModel",
          "model_module_version": "1.5.0",
          "state": {
            "_dom_classes": [],
            "_model_module": "@jupyter-widgets/controls",
            "_model_module_version": "1.5.0",
            "_model_name": "FloatProgressModel",
            "_view_count": null,
            "_view_module": "@jupyter-widgets/controls",
            "_view_module_version": "1.5.0",
            "_view_name": "ProgressView",
            "bar_style": "success",
            "description": "",
            "description_tooltip": null,
            "layout": "IPY_MODEL_0f3fbbd43c0f47a6a0c58cdbadf60637",
            "max": 6270,
            "min": 0,
            "orientation": "horizontal",
            "style": "IPY_MODEL_19ad8190b3d3434daf69c30d90367bff",
            "value": 6270
          }
        },
        "13fa2678ada04b1e9aff5141728df21f": {
          "model_module": "@jupyter-widgets/controls",
          "model_name": "HTMLModel",
          "model_module_version": "1.5.0",
          "state": {
            "_dom_classes": [],
            "_model_module": "@jupyter-widgets/controls",
            "_model_module_version": "1.5.0",
            "_model_name": "HTMLModel",
            "_view_count": null,
            "_view_module": "@jupyter-widgets/controls",
            "_view_module_version": "1.5.0",
            "_view_name": "HTMLView",
            "description": "",
            "description_tooltip": null,
            "layout": "IPY_MODEL_385a637df2854d2bbe5b36e2c6bf5509",
            "placeholder": "​",
            "style": "IPY_MODEL_ea45cda1c94f43879c111ed6ae9fa61e",
            "value": " 6.27k/6.27k [00:00&lt;00:00, 134kB/s]"
          }
        },
        "b95d493aaeb1471aa504c92716badba6": {
          "model_module": "@jupyter-widgets/base",
          "model_name": "LayoutModel",
          "model_module_version": "1.2.0",
          "state": {
            "_model_module": "@jupyter-widgets/base",
            "_model_module_version": "1.2.0",
            "_model_name": "LayoutModel",
            "_view_count": null,
            "_view_module": "@jupyter-widgets/base",
            "_view_module_version": "1.2.0",
            "_view_name": "LayoutView",
            "align_content": null,
            "align_items": null,
            "align_self": null,
            "border": null,
            "bottom": null,
            "display": null,
            "flex": null,
            "flex_flow": null,
            "grid_area": null,
            "grid_auto_columns": null,
            "grid_auto_flow": null,
            "grid_auto_rows": null,
            "grid_column": null,
            "grid_gap": null,
            "grid_row": null,
            "grid_template_areas": null,
            "grid_template_columns": null,
            "grid_template_rows": null,
            "height": null,
            "justify_content": null,
            "justify_items": null,
            "left": null,
            "margin": null,
            "max_height": null,
            "max_width": null,
            "min_height": null,
            "min_width": null,
            "object_fit": null,
            "object_position": null,
            "order": null,
            "overflow": null,
            "overflow_x": null,
            "overflow_y": null,
            "padding": null,
            "right": null,
            "top": null,
            "visibility": null,
            "width": null
          }
        },
        "0542b6b5d2c64ae3a5dc4ca0c3239f78": {
          "model_module": "@jupyter-widgets/base",
          "model_name": "LayoutModel",
          "model_module_version": "1.2.0",
          "state": {
            "_model_module": "@jupyter-widgets/base",
            "_model_module_version": "1.2.0",
            "_model_name": "LayoutModel",
            "_view_count": null,
            "_view_module": "@jupyter-widgets/base",
            "_view_module_version": "1.2.0",
            "_view_name": "LayoutView",
            "align_content": null,
            "align_items": null,
            "align_self": null,
            "border": null,
            "bottom": null,
            "display": null,
            "flex": null,
            "flex_flow": null,
            "grid_area": null,
            "grid_auto_columns": null,
            "grid_auto_flow": null,
            "grid_auto_rows": null,
            "grid_column": null,
            "grid_gap": null,
            "grid_row": null,
            "grid_template_areas": null,
            "grid_template_columns": null,
            "grid_template_rows": null,
            "height": null,
            "justify_content": null,
            "justify_items": null,
            "left": null,
            "margin": null,
            "max_height": null,
            "max_width": null,
            "min_height": null,
            "min_width": null,
            "object_fit": null,
            "object_position": null,
            "order": null,
            "overflow": null,
            "overflow_x": null,
            "overflow_y": null,
            "padding": null,
            "right": null,
            "top": null,
            "visibility": null,
            "width": null
          }
        },
        "e775a6cc7c434dbfb2bc91197dd3a55a": {
          "model_module": "@jupyter-widgets/controls",
          "model_name": "DescriptionStyleModel",
          "model_module_version": "1.5.0",
          "state": {
            "_model_module": "@jupyter-widgets/controls",
            "_model_module_version": "1.5.0",
            "_model_name": "DescriptionStyleModel",
            "_view_count": null,
            "_view_module": "@jupyter-widgets/base",
            "_view_module_version": "1.2.0",
            "_view_name": "StyleView",
            "description_width": ""
          }
        },
        "0f3fbbd43c0f47a6a0c58cdbadf60637": {
          "model_module": "@jupyter-widgets/base",
          "model_name": "LayoutModel",
          "model_module_version": "1.2.0",
          "state": {
            "_model_module": "@jupyter-widgets/base",
            "_model_module_version": "1.2.0",
            "_model_name": "LayoutModel",
            "_view_count": null,
            "_view_module": "@jupyter-widgets/base",
            "_view_module_version": "1.2.0",
            "_view_name": "LayoutView",
            "align_content": null,
            "align_items": null,
            "align_self": null,
            "border": null,
            "bottom": null,
            "display": null,
            "flex": null,
            "flex_flow": null,
            "grid_area": null,
            "grid_auto_columns": null,
            "grid_auto_flow": null,
            "grid_auto_rows": null,
            "grid_column": null,
            "grid_gap": null,
            "grid_row": null,
            "grid_template_areas": null,
            "grid_template_columns": null,
            "grid_template_rows": null,
            "height": null,
            "justify_content": null,
            "justify_items": null,
            "left": null,
            "margin": null,
            "max_height": null,
            "max_width": null,
            "min_height": null,
            "min_width": null,
            "object_fit": null,
            "object_position": null,
            "order": null,
            "overflow": null,
            "overflow_x": null,
            "overflow_y": null,
            "padding": null,
            "right": null,
            "top": null,
            "visibility": null,
            "width": null
          }
        },
        "19ad8190b3d3434daf69c30d90367bff": {
          "model_module": "@jupyter-widgets/controls",
          "model_name": "ProgressStyleModel",
          "model_module_version": "1.5.0",
          "state": {
            "_model_module": "@jupyter-widgets/controls",
            "_model_module_version": "1.5.0",
            "_model_name": "ProgressStyleModel",
            "_view_count": null,
            "_view_module": "@jupyter-widgets/base",
            "_view_module_version": "1.2.0",
            "_view_name": "StyleView",
            "bar_color": null,
            "description_width": ""
          }
        },
        "385a637df2854d2bbe5b36e2c6bf5509": {
          "model_module": "@jupyter-widgets/base",
          "model_name": "LayoutModel",
          "model_module_version": "1.2.0",
          "state": {
            "_model_module": "@jupyter-widgets/base",
            "_model_module_version": "1.2.0",
            "_model_name": "LayoutModel",
            "_view_count": null,
            "_view_module": "@jupyter-widgets/base",
            "_view_module_version": "1.2.0",
            "_view_name": "LayoutView",
            "align_content": null,
            "align_items": null,
            "align_self": null,
            "border": null,
            "bottom": null,
            "display": null,
            "flex": null,
            "flex_flow": null,
            "grid_area": null,
            "grid_auto_columns": null,
            "grid_auto_flow": null,
            "grid_auto_rows": null,
            "grid_column": null,
            "grid_gap": null,
            "grid_row": null,
            "grid_template_areas": null,
            "grid_template_columns": null,
            "grid_template_rows": null,
            "height": null,
            "justify_content": null,
            "justify_items": null,
            "left": null,
            "margin": null,
            "max_height": null,
            "max_width": null,
            "min_height": null,
            "min_width": null,
            "object_fit": null,
            "object_position": null,
            "order": null,
            "overflow": null,
            "overflow_x": null,
            "overflow_y": null,
            "padding": null,
            "right": null,
            "top": null,
            "visibility": null,
            "width": null
          }
        },
        "ea45cda1c94f43879c111ed6ae9fa61e": {
          "model_module": "@jupyter-widgets/controls",
          "model_name": "DescriptionStyleModel",
          "model_module_version": "1.5.0",
          "state": {
            "_model_module": "@jupyter-widgets/controls",
            "_model_module_version": "1.5.0",
            "_model_name": "DescriptionStyleModel",
            "_view_count": null,
            "_view_module": "@jupyter-widgets/base",
            "_view_module_version": "1.2.0",
            "_view_name": "StyleView",
            "description_width": ""
          }
        }
      }
    }
  },
  "nbformat": 4,
  "nbformat_minor": 0
}